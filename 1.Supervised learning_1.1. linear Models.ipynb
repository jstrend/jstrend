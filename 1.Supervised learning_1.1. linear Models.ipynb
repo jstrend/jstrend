{
 "cells": [
  {
   "cell_type": "markdown",
   "id": "e1408e73",
   "metadata": {},
   "source": [
    "# 1. Supervised learning - 1.1 Linear models"
   ]
  },
  {
   "cell_type": "code",
   "execution_count": 17,
   "id": "b2c1d42e",
   "metadata": {},
   "outputs": [
    {
     "name": "stdout",
     "output_type": "stream",
     "text": [
      "Requirement already satisfied: IPython in c:\\users\\cool-com\\appdata\\roaming\\python\\python39\\site-packages (7.20.0)\n",
      "Requirement already satisfied: colorama in c:\\users\\cool-com\\appdata\\roaming\\python\\python39\\site-packages (from IPython) (0.4.4)\n",
      "Requirement already satisfied: pygments in c:\\users\\cool-com\\appdata\\roaming\\python\\python39\\site-packages (from IPython) (2.8.0)\n",
      "Requirement already satisfied: pickleshare in c:\\users\\cool-com\\appdata\\roaming\\python\\python39\\site-packages (from IPython) (0.7.5)\n",
      "Requirement already satisfied: jedi>=0.16 in c:\\users\\cool-com\\appdata\\roaming\\python\\python39\\site-packages (from IPython) (0.18.0)\n",
      "Requirement already satisfied: prompt-toolkit!=3.0.0,!=3.0.1,<3.1.0,>=2.0.0 in c:\\users\\cool-com\\appdata\\roaming\\python\\python39\\site-packages (from IPython) (3.0.16)\n",
      "Requirement already satisfied: traitlets>=4.2 in c:\\users\\cool-com\\anaconda3\\lib\\site-packages (from IPython) (5.8.1)\n",
      "Requirement already satisfied: decorator in c:\\users\\cool-com\\appdata\\roaming\\python\\python39\\site-packages (from IPython) (4.4.2)\n",
      "Requirement already satisfied: setuptools>=18.5 in c:\\users\\cool-com\\anaconda3\\lib\\site-packages (from IPython) (63.4.1)\n",
      "Requirement already satisfied: backcall in c:\\users\\cool-com\\appdata\\roaming\\python\\python39\\site-packages (from IPython) (0.2.0)\n",
      "Requirement already satisfied: parso<0.9.0,>=0.8.0 in c:\\users\\cool-com\\appdata\\roaming\\python\\python39\\site-packages (from jedi>=0.16->IPython) (0.8.1)\n",
      "Requirement already satisfied: wcwidth in c:\\users\\cool-com\\appdata\\roaming\\python\\python39\\site-packages (from prompt-toolkit!=3.0.0,!=3.0.1,<3.1.0,>=2.0.0->IPython) (0.2.5)\n"
     ]
    }
   ],
   "source": [
    "#먼저 패키지를 설치하고\n",
    "# !pip install IPython \n",
    "from IPython.display import Image  # 주피터 노트북에 이미지 삽입\n",
    "# Image(\"poisson_gamma_tweedie_distributions.png\") =>밑에서 실행"
   ]
  },
  {
   "cell_type": "markdown",
   "id": "c03d7724",
   "metadata": {},
   "source": [
    "### https://scikit-learn.org/stable/modules/linear_model.html"
   ]
  },
  {
   "cell_type": "markdown",
   "id": "9e02ebc6",
   "metadata": {},
   "source": [
    "The following are a set of methods intended for regression in which the target value is expected to be a linear combination of the features. In mathematical notation, if  $\\hat{y}$ is the predicted value.\n",
    "$\\hat{y}(w, x) = w_0 + w_1 x_1 + ... + w_p x_p$ \n",
    "\n",
    "Across the module, we designate the vector w = (w1, ..., wp) as coef_ and w0 as intercept_.\n",
    "\n",
    "To perform classification with generalized linear models, see Logistic regression."
   ]
  },
  {
   "cell_type": "code",
   "execution_count": 49,
   "id": "9717a158",
   "metadata": {},
   "outputs": [],
   "source": [
    "# Latex사용은 $ $로 묶거나 $$ $$ 로 묶어서 사용"
   ]
  },
  {
   "cell_type": "markdown",
   "id": "dfbd7718",
   "metadata": {},
   "source": [
    "## 1.1.1. Ordinary Least Squares"
   ]
  },
  {
   "cell_type": "markdown",
   "id": "1d3d5c85",
   "metadata": {},
   "source": [
    "LinearRegression fits a linear model with coefficients  $w = (w_1, ..., w_p)$ to minimize the residual sum of squares between the observed targets in the dataset, and the targets predicted by the linear approximation. Mathematically it solves a problem of the form:"
   ]
  },
  {
   "cell_type": "markdown",
   "id": "36ab18a4",
   "metadata": {},
   "source": [
    "$$ \\min_{w} || X w - y||_2^2  $$"
   ]
  },
  {
   "cell_type": "markdown",
   "id": "b3cd23d8",
   "metadata": {},
   "source": [
    "### plot_ols.ipynb에서 별도실행"
   ]
  },
  {
   "cell_type": "markdown",
   "id": "a05e846f",
   "metadata": {},
   "source": [
    "LinearRegression will take in its fit method arrays X, y and will store the coefficients w of the linear model in its coef_ member:"
   ]
  },
  {
   "cell_type": "code",
   "execution_count": 50,
   "id": "3a8d39fe",
   "metadata": {},
   "outputs": [
    {
     "data": {
      "text/plain": [
       "LinearRegression()"
      ]
     },
     "execution_count": 50,
     "metadata": {},
     "output_type": "execute_result"
    }
   ],
   "source": [
    "from sklearn import linear_model\n",
    "reg = linear_model.LinearRegression()\n",
    "reg.fit([[0, 0], [1, 1], [2, 2]], [0, 1, 2])"
   ]
  },
  {
   "cell_type": "code",
   "execution_count": 51,
   "id": "b194e4c6",
   "metadata": {},
   "outputs": [
    {
     "data": {
      "text/plain": [
       "array([0.5, 0.5])"
      ]
     },
     "execution_count": 51,
     "metadata": {},
     "output_type": "execute_result"
    }
   ],
   "source": [
    "reg.coef_"
   ]
  },
  {
   "cell_type": "markdown",
   "id": "c281878d",
   "metadata": {},
   "source": [
    "The coefficient estimates for Ordinary Least Squares rely on the independence of the features. When features are correlated and the columns of the design matrix X have an approximately linear dependence, the design matrix becomes close to singular and as a result, the least-squares estimate becomes highly sensitive to random errors in the observed target, producing a large variance. This situation of multicollinearity can arise, for example, when data are collected without an experimental design."
   ]
  },
  {
   "cell_type": "markdown",
   "id": "f4a86f06",
   "metadata": {},
   "source": [
    "multicollinearity: 다중공선성문제는 통계학의 회귀분석에서 독립변수들 간에 강한 상관관계가 나타나는 문제. 독립변수들간에 정확한 선형관계가 존재하는 완전공선성의 경우와 독립변수들간에 높은 선형관계가 존재하는 다중공선성으로 구분. 회귀 분석에서 사용된 모형의 일부 설명 변수가 다른 설명 변수와 상관 정도가 높아, 데이터 분석시 부정적인 영향을 미치는 현상"
   ]
  },
  {
   "cell_type": "markdown",
   "id": "6b509016",
   "metadata": {},
   "source": [
    "Examples:\n",
    "\n",
    "Linear Regression Example"
   ]
  },
  {
   "cell_type": "code",
   "execution_count": 52,
   "id": "1115b61e",
   "metadata": {},
   "outputs": [],
   "source": [
    "%matplotlib inline"
   ]
  },
  {
   "cell_type": "markdown",
   "id": "4d0fdeb5",
   "metadata": {},
   "source": [
    "\n",
    "# Linear Regression Example\n",
    "The example below uses only the first feature of the `diabetes` dataset,\n",
    "in order to illustrate the data points within the two-dimensional plot.\n",
    "The straight line can be seen in the plot, showing how linear regression\n",
    "attempts to draw a straight line that will best minimize the\n",
    "residual sum of squares between the observed responses in the dataset,\n",
    "and the responses predicted by the linear approximation.\n",
    "\n",
    "The coefficients, residual sum of squares and the coefficient of\n",
    "determination are also calculated.\n"
   ]
  },
  {
   "cell_type": "code",
   "execution_count": 53,
   "id": "26a82df3",
   "metadata": {},
   "outputs": [
    {
     "data": {
      "text/plain": [
       "<module 'sklearn.datasets' from 'C:\\\\Users\\\\cool-com\\\\anaconda3\\\\lib\\\\site-packages\\\\sklearn\\\\datasets\\\\__init__.py'>"
      ]
     },
     "execution_count": 53,
     "metadata": {},
     "output_type": "execute_result"
    }
   ],
   "source": [
    "# Code source: Jaques Grobler\n",
    "# License: BSD 3 clause\n",
    "\n",
    "import matplotlib.pyplot as plt\n",
    "import numpy as np\n",
    "from sklearn import datasets, linear_model\n",
    "from sklearn.metrics import mean_squared_error, r2_score\n",
    "datasets"
   ]
  },
  {
   "cell_type": "code",
   "execution_count": 54,
   "id": "377f438e",
   "metadata": {
    "scrolled": true
   },
   "outputs": [
    {
     "data": {
      "text/plain": [
       "<module 'sklearn.linear_model' from 'C:\\\\Users\\\\cool-com\\\\anaconda3\\\\lib\\\\site-packages\\\\sklearn\\\\linear_model\\\\__init__.py'>"
      ]
     },
     "execution_count": 54,
     "metadata": {},
     "output_type": "execute_result"
    }
   ],
   "source": [
    "linear_model"
   ]
  },
  {
   "cell_type": "code",
   "execution_count": 55,
   "id": "71896e06",
   "metadata": {
    "scrolled": true
   },
   "outputs": [
    {
     "data": {
      "text/plain": [
       "<function sklearn.metrics._regression.mean_squared_error(y_true, y_pred, *, sample_weight=None, multioutput='uniform_average', squared=True)>"
      ]
     },
     "execution_count": 55,
     "metadata": {},
     "output_type": "execute_result"
    }
   ],
   "source": [
    "mean_squared_error"
   ]
  },
  {
   "cell_type": "code",
   "execution_count": 56,
   "id": "8569e8fa",
   "metadata": {},
   "outputs": [
    {
     "data": {
      "text/plain": [
       "<function sklearn.metrics._regression.r2_score(y_true, y_pred, *, sample_weight=None, multioutput='uniform_average')>"
      ]
     },
     "execution_count": 56,
     "metadata": {},
     "output_type": "execute_result"
    }
   ],
   "source": [
    "r2_score"
   ]
  },
  {
   "cell_type": "code",
   "execution_count": 57,
   "id": "1bff3f70",
   "metadata": {},
   "outputs": [
    {
     "ename": "FileNotFoundError",
     "evalue": "[Errno 2] No such file or directory: 'C:\\\\Users\\\\cool-com\\\\anaconda3\\\\lib\\\\site-packages\\\\sklearn\\\\datasets\\\\data\\\\diabetes_data.csv.gz'",
     "output_type": "error",
     "traceback": [
      "\u001b[1;31m---------------------------------------------------------------------------\u001b[0m",
      "\u001b[1;31mFileNotFoundError\u001b[0m                         Traceback (most recent call last)",
      "\u001b[1;32m<ipython-input-57-fc4202477a8f>\u001b[0m in \u001b[0;36m<module>\u001b[1;34m\u001b[0m\n\u001b[0;32m      1\u001b[0m \u001b[1;31m# Load the diabetes dataset\u001b[0m\u001b[1;33m\u001b[0m\u001b[1;33m\u001b[0m\u001b[0m\n\u001b[1;32m----> 2\u001b[1;33m \u001b[0mdiabetes_X\u001b[0m\u001b[1;33m,\u001b[0m \u001b[0mdiabetes_y\u001b[0m \u001b[1;33m=\u001b[0m \u001b[0mdatasets\u001b[0m\u001b[1;33m.\u001b[0m\u001b[0mload_diabetes\u001b[0m\u001b[1;33m(\u001b[0m\u001b[0mreturn_X_y\u001b[0m\u001b[1;33m=\u001b[0m\u001b[1;32mTrue\u001b[0m\u001b[1;33m)\u001b[0m\u001b[1;33m\u001b[0m\u001b[1;33m\u001b[0m\u001b[0m\n\u001b[0m\u001b[0;32m      3\u001b[0m \u001b[0mdiabetes_X\u001b[0m  \u001b[1;31m# 442*10\u001b[0m\u001b[1;33m\u001b[0m\u001b[1;33m\u001b[0m\u001b[0m\n",
      "\u001b[1;32m~\\anaconda3\\lib\\site-packages\\sklearn\\datasets\\_base.py\u001b[0m in \u001b[0;36mload_diabetes\u001b[1;34m(return_X_y, as_frame)\u001b[0m\n\u001b[0;32m    981\u001b[0m         \u001b[0mIf\u001b[0m \u001b[1;32mTrue\u001b[0m\u001b[1;33m,\u001b[0m \u001b[0mthe\u001b[0m \u001b[0mdata\u001b[0m \u001b[1;32mis\u001b[0m \u001b[0ma\u001b[0m \u001b[0mpandas\u001b[0m \u001b[0mDataFrame\u001b[0m \u001b[0mincluding\u001b[0m \u001b[0mcolumns\u001b[0m \u001b[1;32mwith\u001b[0m\u001b[1;33m\u001b[0m\u001b[1;33m\u001b[0m\u001b[0m\n\u001b[0;32m    982\u001b[0m         \u001b[0mappropriate\u001b[0m \u001b[0mdtypes\u001b[0m \u001b[1;33m(\u001b[0m\u001b[0mnumeric\u001b[0m\u001b[1;33m)\u001b[0m\u001b[1;33m.\u001b[0m \u001b[0mThe\u001b[0m \u001b[0mtarget\u001b[0m \u001b[1;32mis\u001b[0m\u001b[1;33m\u001b[0m\u001b[1;33m\u001b[0m\u001b[0m\n\u001b[1;32m--> 983\u001b[1;33m         \u001b[0ma\u001b[0m \u001b[0mpandas\u001b[0m \u001b[0mDataFrame\u001b[0m \u001b[1;32mor\u001b[0m \u001b[0mSeries\u001b[0m \u001b[0mdepending\u001b[0m \u001b[0mon\u001b[0m \u001b[0mthe\u001b[0m \u001b[0mnumber\u001b[0m \u001b[0mof\u001b[0m \u001b[0mtarget\u001b[0m \u001b[0mcolumns\u001b[0m\u001b[1;33m.\u001b[0m\u001b[1;33m\u001b[0m\u001b[1;33m\u001b[0m\u001b[0m\n\u001b[0m\u001b[0;32m    984\u001b[0m         \u001b[0mIf\u001b[0m\u001b[0;31m \u001b[0m\u001b[0;31m`\u001b[0m\u001b[0mreturn_X_y\u001b[0m\u001b[0;31m`\u001b[0m \u001b[1;32mis\u001b[0m \u001b[1;32mTrue\u001b[0m\u001b[1;33m,\u001b[0m \u001b[0mthen\u001b[0m \u001b[1;33m(\u001b[0m\u001b[0;31m`\u001b[0m\u001b[0mdata\u001b[0m\u001b[0;31m`\u001b[0m\u001b[1;33m,\u001b[0m\u001b[0;31m \u001b[0m\u001b[0;31m`\u001b[0m\u001b[0mtarget\u001b[0m\u001b[0;31m`\u001b[0m\u001b[1;33m)\u001b[0m \u001b[0mwill\u001b[0m \u001b[0mbe\u001b[0m \u001b[0mpandas\u001b[0m\u001b[1;33m\u001b[0m\u001b[1;33m\u001b[0m\u001b[0m\n\u001b[0;32m    985\u001b[0m         \u001b[0mDataFrames\u001b[0m \u001b[1;32mor\u001b[0m \u001b[0mSeries\u001b[0m \u001b[1;32mas\u001b[0m \u001b[0mdescribed\u001b[0m \u001b[0mbelow\u001b[0m\u001b[1;33m.\u001b[0m\u001b[1;33m\u001b[0m\u001b[1;33m\u001b[0m\u001b[0m\n",
      "\u001b[1;32m~\\anaconda3\\lib\\site-packages\\sklearn\\datasets\\_base.py\u001b[0m in \u001b[0;36mload_gzip_compressed_csv_data\u001b[1;34m(data_file_name, data_module, descr_file_name, descr_module, encoding, **kwargs)\u001b[0m\n\u001b[0;32m    364\u001b[0m     \u001b[0mdescr_file_name\u001b[0m \u001b[1;33m:\u001b[0m \u001b[0mstr\u001b[0m\u001b[1;33m,\u001b[0m \u001b[0mdefault\u001b[0m\u001b[1;33m=\u001b[0m\u001b[1;32mNone\u001b[0m\u001b[1;33m\u001b[0m\u001b[1;33m\u001b[0m\u001b[0m\n\u001b[0;32m    365\u001b[0m         \u001b[0mName\u001b[0m \u001b[0mof\u001b[0m \u001b[0mrst\u001b[0m \u001b[0mfile\u001b[0m \u001b[0mto\u001b[0m \u001b[0mbe\u001b[0m \u001b[0mloaded\u001b[0m \u001b[1;32mfrom\u001b[0m\u001b[0;31m \u001b[0m\u001b[0;31m`\u001b[0m\u001b[0mdescr_module\u001b[0m\u001b[1;33m/\u001b[0m\u001b[0mdescr_file_name\u001b[0m\u001b[0;31m`\u001b[0m\u001b[1;33m.\u001b[0m\u001b[1;33m\u001b[0m\u001b[1;33m\u001b[0m\u001b[0m\n\u001b[1;32m--> 366\u001b[1;33m         \u001b[0mFor\u001b[0m \u001b[0mexample\u001b[0m\u001b[0;31m \u001b[0m\u001b[0;31m`\u001b[0m\u001b[1;34m'wine_data.rst'\u001b[0m\u001b[0;31m`\u001b[0m\u001b[1;33m.\u001b[0m \u001b[0mSee\u001b[0m \u001b[0malso\u001b[0m \u001b[1;33m:\u001b[0m\u001b[0mfunc\u001b[0m\u001b[1;33m:\u001b[0m\u001b[0;31m`\u001b[0m\u001b[0mload_descr\u001b[0m\u001b[0;31m`\u001b[0m\u001b[1;33m.\u001b[0m\u001b[1;33m\u001b[0m\u001b[1;33m\u001b[0m\u001b[0m\n\u001b[0m\u001b[0;32m    367\u001b[0m         \u001b[0mIf\u001b[0m \u001b[1;32mnot\u001b[0m \u001b[1;32mNone\u001b[0m\u001b[1;33m,\u001b[0m \u001b[0malso\u001b[0m \u001b[0mreturns\u001b[0m \u001b[0mthe\u001b[0m \u001b[0mcorresponding\u001b[0m \u001b[0mdescription\u001b[0m \u001b[0mof\u001b[0m\u001b[1;33m\u001b[0m\u001b[1;33m\u001b[0m\u001b[0m\n\u001b[0;32m    368\u001b[0m         \u001b[0mthe\u001b[0m \u001b[0mdataset\u001b[0m\u001b[1;33m.\u001b[0m\u001b[1;33m\u001b[0m\u001b[1;33m\u001b[0m\u001b[0m\n",
      "\u001b[1;32m~\\anaconda3\\lib\\importlib\\resources.py\u001b[0m in \u001b[0;36mopen_binary\u001b[1;34m(package, resource)\u001b[0m\n\u001b[0;32m     89\u001b[0m     \u001b[0mreader\u001b[0m \u001b[1;33m=\u001b[0m \u001b[0m_get_resource_reader\u001b[0m\u001b[1;33m(\u001b[0m\u001b[0mpackage\u001b[0m\u001b[1;33m)\u001b[0m\u001b[1;33m\u001b[0m\u001b[1;33m\u001b[0m\u001b[0m\n\u001b[0;32m     90\u001b[0m     \u001b[1;32mif\u001b[0m \u001b[0mreader\u001b[0m \u001b[1;32mis\u001b[0m \u001b[1;32mnot\u001b[0m \u001b[1;32mNone\u001b[0m\u001b[1;33m:\u001b[0m\u001b[1;33m\u001b[0m\u001b[1;33m\u001b[0m\u001b[0m\n\u001b[1;32m---> 91\u001b[1;33m         \u001b[1;32mreturn\u001b[0m \u001b[0mreader\u001b[0m\u001b[1;33m.\u001b[0m\u001b[0mopen_resource\u001b[0m\u001b[1;33m(\u001b[0m\u001b[0mresource\u001b[0m\u001b[1;33m)\u001b[0m\u001b[1;33m\u001b[0m\u001b[1;33m\u001b[0m\u001b[0m\n\u001b[0m\u001b[0;32m     92\u001b[0m     absolute_package_path = os.path.abspath(\n\u001b[0;32m     93\u001b[0m         package.__spec__.origin or 'non-existent file')\n",
      "\u001b[1;32m~\\anaconda3\\lib\\importlib\\_bootstrap_external.py\u001b[0m in \u001b[0;36mopen_resource\u001b[1;34m(self, resource)\u001b[0m\n",
      "\u001b[1;31mFileNotFoundError\u001b[0m: [Errno 2] No such file or directory: 'C:\\\\Users\\\\cool-com\\\\anaconda3\\\\lib\\\\site-packages\\\\sklearn\\\\datasets\\\\data\\\\diabetes_data.csv.gz'"
     ]
    }
   ],
   "source": [
    "# Load the diabetes dataset\n",
    "diabetes_X, diabetes_y = datasets.load_diabetes(return_X_y=True)\n",
    "diabetes_X  # 442*10"
   ]
  },
  {
   "cell_type": "code",
   "execution_count": null,
   "id": "ffadce9c",
   "metadata": {},
   "outputs": [],
   "source": [
    "diabetes_y  # 442*1"
   ]
  },
  {
   "cell_type": "code",
   "execution_count": 58,
   "id": "075995f7",
   "metadata": {},
   "outputs": [
    {
     "ename": "NameError",
     "evalue": "name 'diabetes_X' is not defined",
     "output_type": "error",
     "traceback": [
      "\u001b[1;31m---------------------------------------------------------------------------\u001b[0m",
      "\u001b[1;31mNameError\u001b[0m                                 Traceback (most recent call last)",
      "\u001b[1;32m<ipython-input-58-ab165b9cb95c>\u001b[0m in \u001b[0;36m<module>\u001b[1;34m\u001b[0m\n\u001b[0;32m      1\u001b[0m \u001b[1;31m# Use only one feature\u001b[0m\u001b[1;33m\u001b[0m\u001b[1;33m\u001b[0m\u001b[0m\n\u001b[1;32m----> 2\u001b[1;33m \u001b[0mdiabetes_X\u001b[0m \u001b[1;33m=\u001b[0m \u001b[0mdiabetes_X\u001b[0m\u001b[1;33m[\u001b[0m\u001b[1;33m:\u001b[0m\u001b[1;33m,\u001b[0m \u001b[0mnp\u001b[0m\u001b[1;33m.\u001b[0m\u001b[0mnewaxis\u001b[0m\u001b[1;33m,\u001b[0m \u001b[1;36m2\u001b[0m\u001b[1;33m]\u001b[0m \u001b[1;31m# 3번째 열로 새축 구성\u001b[0m\u001b[1;33m\u001b[0m\u001b[1;33m\u001b[0m\u001b[0m\n\u001b[0m\u001b[0;32m      3\u001b[0m \u001b[0mdiabetes_X\u001b[0m\u001b[1;33m\u001b[0m\u001b[1;33m\u001b[0m\u001b[0m\n",
      "\u001b[1;31mNameError\u001b[0m: name 'diabetes_X' is not defined"
     ]
    }
   ],
   "source": [
    "# Use only one feature\n",
    "diabetes_X = diabetes_X[:, np.newaxis, 2] # 3번째 열로 새축 구성\n",
    "diabetes_X"
   ]
  },
  {
   "cell_type": "code",
   "execution_count": null,
   "id": "9ed18ffd",
   "metadata": {},
   "outputs": [],
   "source": [
    "# Split the data into training/testing sets\n",
    "diabetes_X_train = diabetes_X[:-20]\n",
    "diabetes_X_test = diabetes_X[-20:]"
   ]
  },
  {
   "cell_type": "code",
   "execution_count": null,
   "id": "1a63a5ff",
   "metadata": {},
   "outputs": [],
   "source": [
    "# Split the targets into training/testing sets\n",
    "diabetes_y_train = diabetes_y[:-20]\n",
    "diabetes_y_test = diabetes_y[-20:]"
   ]
  },
  {
   "cell_type": "code",
   "execution_count": 59,
   "id": "34dbb579",
   "metadata": {},
   "outputs": [],
   "source": [
    "# Create linear regression object\n",
    "regr = linear_model.LinearRegression()"
   ]
  },
  {
   "cell_type": "code",
   "execution_count": 60,
   "id": "38549145",
   "metadata": {},
   "outputs": [
    {
     "ename": "NameError",
     "evalue": "name 'diabetes_X_train' is not defined",
     "output_type": "error",
     "traceback": [
      "\u001b[1;31m---------------------------------------------------------------------------\u001b[0m",
      "\u001b[1;31mNameError\u001b[0m                                 Traceback (most recent call last)",
      "\u001b[1;32m<ipython-input-60-39cf4dc3352d>\u001b[0m in \u001b[0;36m<module>\u001b[1;34m\u001b[0m\n\u001b[0;32m      1\u001b[0m \u001b[1;31m# Train the model using the training sets\u001b[0m\u001b[1;33m\u001b[0m\u001b[1;33m\u001b[0m\u001b[0m\n\u001b[1;32m----> 2\u001b[1;33m \u001b[0mregr\u001b[0m\u001b[1;33m.\u001b[0m\u001b[0mfit\u001b[0m\u001b[1;33m(\u001b[0m\u001b[0mdiabetes_X_train\u001b[0m\u001b[1;33m,\u001b[0m \u001b[0mdiabetes_y_train\u001b[0m\u001b[1;33m)\u001b[0m\u001b[1;33m\u001b[0m\u001b[1;33m\u001b[0m\u001b[0m\n\u001b[0m",
      "\u001b[1;31mNameError\u001b[0m: name 'diabetes_X_train' is not defined"
     ]
    }
   ],
   "source": [
    "# Train the model using the training sets\n",
    "regr.fit(diabetes_X_train, diabetes_y_train)"
   ]
  },
  {
   "cell_type": "code",
   "execution_count": null,
   "id": "eea60ee3",
   "metadata": {},
   "outputs": [],
   "source": [
    "# Make predictions using the testing set\n",
    "diabetes_y_pred = regr.predict(diabetes_X_test)"
   ]
  },
  {
   "cell_type": "code",
   "execution_count": null,
   "id": "8abf34ab",
   "metadata": {},
   "outputs": [],
   "source": [
    "# The coefficients\n",
    "print(\"Coefficients: \\n\", regr.coef_)"
   ]
  },
  {
   "cell_type": "code",
   "execution_count": 61,
   "id": "c8bd939f",
   "metadata": {},
   "outputs": [
    {
     "ename": "NameError",
     "evalue": "name 'diabetes_y_test' is not defined",
     "output_type": "error",
     "traceback": [
      "\u001b[1;31m---------------------------------------------------------------------------\u001b[0m",
      "\u001b[1;31mNameError\u001b[0m                                 Traceback (most recent call last)",
      "\u001b[1;32m<ipython-input-61-e0746d2fc033>\u001b[0m in \u001b[0;36m<module>\u001b[1;34m\u001b[0m\n\u001b[0;32m      1\u001b[0m \u001b[1;31m# The mean squared error\u001b[0m\u001b[1;33m\u001b[0m\u001b[1;33m\u001b[0m\u001b[0m\n\u001b[1;32m----> 2\u001b[1;33m \u001b[0mprint\u001b[0m\u001b[1;33m(\u001b[0m\u001b[1;34m\"Mean squared error: %.2f\"\u001b[0m \u001b[1;33m%\u001b[0m \u001b[0mmean_squared_error\u001b[0m\u001b[1;33m(\u001b[0m\u001b[0mdiabetes_y_test\u001b[0m\u001b[1;33m,\u001b[0m \u001b[0mdiabetes_y_pred\u001b[0m\u001b[1;33m)\u001b[0m\u001b[1;33m)\u001b[0m\u001b[1;33m\u001b[0m\u001b[1;33m\u001b[0m\u001b[0m\n\u001b[0m",
      "\u001b[1;31mNameError\u001b[0m: name 'diabetes_y_test' is not defined"
     ]
    }
   ],
   "source": [
    "# The mean squared error\n",
    "print(\"Mean squared error: %.2f\" % mean_squared_error(diabetes_y_test, diabetes_y_pred))"
   ]
  },
  {
   "cell_type": "code",
   "execution_count": null,
   "id": "0986c6f6",
   "metadata": {},
   "outputs": [],
   "source": [
    "# The coefficient of determination: 1 is perfect prediction\n",
    "print(\"Coefficient of determination: %.2f\" % r2_score(diabetes_y_test, diabetes_y_pred))"
   ]
  },
  {
   "cell_type": "code",
   "execution_count": null,
   "id": "7b9d7ab3",
   "metadata": {
    "scrolled": true
   },
   "outputs": [],
   "source": [
    "# Plot outputs\n",
    "plt.scatter(diabetes_X_test, diabetes_y_test, color=\"black\")\n",
    "plt.plot(diabetes_X_test, diabetes_y_pred, color=\"blue\", linewidth=3)\n",
    "plt.xticks(())\n",
    "plt.yticks(())\n",
    "plt.show()"
   ]
  },
  {
   "cell_type": "markdown",
   "id": "0ce7c517",
   "metadata": {},
   "source": [
    "## 1.1.1.1. Non-Negative Least Squares"
   ]
  },
  {
   "cell_type": "markdown",
   "id": "c318b602",
   "metadata": {},
   "source": [
    "It is possible to constrain all the coefficients to be non-negative, which may be useful when they represent some physical or naturally non-negative quantities (e.g., frequency counts or prices of goods). LinearRegression accepts a boolean positive parameter: when set to True Non-Negative Least Squares are then applied.\n",
    "\n",
    "Examples:\n",
    "\n",
    "Non-negative least squares"
   ]
  },
  {
   "cell_type": "markdown",
   "id": "d50d3b2d",
   "metadata": {},
   "source": [
    "# 1.1.2. Ridge regression and classification"
   ]
  },
  {
   "cell_type": "markdown",
   "id": "8085227b",
   "metadata": {},
   "source": [
    "## 1.1.2.1. Regression"
   ]
  },
  {
   "cell_type": "markdown",
   "id": "ded0a7c2",
   "metadata": {},
   "source": [
    "Ridge regression addresses some of the problems of Ordinary Least Squares by imposing a penalty on the size of the coefficients. The ridge coefficients minimize a penalized residual sum of squares:"
   ]
  },
  {
   "cell_type": "markdown",
   "id": "fbd1c0d8",
   "metadata": {},
   "source": [
    "$$ \\min_{w} || X w - y||_2^2 + \\alpha ||w||_2^2 $$"
   ]
  },
  {
   "cell_type": "markdown",
   "id": "c4254dd7",
   "metadata": {},
   "source": [
    "## plot_ridge_path.ipynb에서 별도 실행"
   ]
  },
  {
   "cell_type": "markdown",
   "id": "81e5c9c4",
   "metadata": {},
   "source": [
    "The complexity parameter $ \\alpha \\geq 0 $ controls the amount of shrinkage: the larger the value of $ \\alpha $, the greater the amount of shrinkage and thus the coefficients become more robust to collinearity."
   ]
  },
  {
   "cell_type": "markdown",
   "id": "43a1339a",
   "metadata": {},
   "source": [
    "As with other linear models, Ridge will take in its fit method arrays X, y and will store the coefficients $ w $  of the linear model in its coef_ member:"
   ]
  },
  {
   "cell_type": "code",
   "execution_count": 62,
   "id": "dabac85f",
   "metadata": {},
   "outputs": [
    {
     "data": {
      "text/plain": [
       "Ridge(alpha=0.5)"
      ]
     },
     "execution_count": 62,
     "metadata": {},
     "output_type": "execute_result"
    }
   ],
   "source": [
    "from sklearn import linear_model\n",
    "reg = linear_model.Ridge(alpha=.5)\n",
    "reg.fit([[0, 0], [0, 0], [1, 1]], [0, .1, 1])"
   ]
  },
  {
   "cell_type": "code",
   "execution_count": 63,
   "id": "1a6fface",
   "metadata": {},
   "outputs": [
    {
     "data": {
      "text/plain": [
       "array([0.34545455, 0.34545455])"
      ]
     },
     "execution_count": 63,
     "metadata": {},
     "output_type": "execute_result"
    }
   ],
   "source": [
    "reg.coef_"
   ]
  },
  {
   "cell_type": "code",
   "execution_count": 64,
   "id": "5ddd5af4",
   "metadata": {},
   "outputs": [
    {
     "data": {
      "text/plain": [
       "0.1363636363636364"
      ]
     },
     "execution_count": 64,
     "metadata": {},
     "output_type": "execute_result"
    }
   ],
   "source": [
    "reg.intercept_"
   ]
  },
  {
   "cell_type": "markdown",
   "id": "b47eae21",
   "metadata": {},
   "source": [
    "Note that the class Ridge allows for the user to specify that the solver be automatically chosen by setting solver=\"auto\". When this option is specified, Ridge will choose between the \"lbfgs\", \"cholesky\", and \"sparse_cg\" solvers. Ridge will begin checking the conditions shown in the following table from top to bottom. If the condition is true, the corresponding solver is chosen."
   ]
  },
  {
   "cell_type": "markdown",
   "id": "40644a95",
   "metadata": {},
   "source": [
    "### Solver,          Condition\n",
    "\n",
    "### ‘lbfgs’,          The positive=True option is specified.\n",
    "\n",
    "### ‘cholesky’,   The input array X is not sparse.\n",
    "\n",
    "### ‘sparse_cg’,  None of the above conditions are fulfilled."
   ]
  },
  {
   "cell_type": "code",
   "execution_count": 65,
   "id": "3d09f60f",
   "metadata": {},
   "outputs": [],
   "source": [
    "%matplotlib inline"
   ]
  },
  {
   "cell_type": "markdown",
   "id": "a954ca79",
   "metadata": {},
   "source": [
    "\n",
    "# Plot Ridge coefficients as a function of the regularization\n",
    "\n",
    "Shows the effect of collinearity in the coefficients of an estimator.\n",
    "\n",
    ".. currentmodule:: sklearn.linear_model\n",
    "\n",
    ":class:`Ridge` Regression is the estimator used in this example.\n",
    "Each color represents a different feature of the\n",
    "coefficient vector, and this is displayed as a function of the\n",
    "regularization parameter.\n",
    "\n",
    "This example also shows the usefulness of applying Ridge regression\n",
    "to highly ill-conditioned(조건이 나쁜) matrices. For such matrices, a slight\n",
    "change in the target variable can cause huge variances in the\n",
    "calculated weights. In such cases, it is useful to set a certain\n",
    "regularization (alpha) to reduce this variation (noise).\n",
    "\n",
    "When alpha is very large, the regularization effect dominates the\n",
    "squared loss function(손실함수, 평균제곱근오차) and the coefficients tend to zero.\n",
    "At the end of the path, as alpha tends toward zero\n",
    "and the solution tends towards the ordinary least squares, coefficients\n",
    "exhibit big oscillations(진동). In practise it is necessary to tune alpha\n",
    "in such a way that a balance is maintained between both.\n"
   ]
  },
  {
   "cell_type": "code",
   "execution_count": 66,
   "id": "afa4a212",
   "metadata": {},
   "outputs": [
    {
     "data": {
      "text/plain": [
       "array([ 1,  2,  3,  4,  5,  6,  7,  8,  9, 10])"
      ]
     },
     "execution_count": 66,
     "metadata": {},
     "output_type": "execute_result"
    }
   ],
   "source": [
    "np.arange(1, 11)"
   ]
  },
  {
   "cell_type": "code",
   "execution_count": 67,
   "id": "95d4dd6c",
   "metadata": {},
   "outputs": [
    {
     "data": {
      "text/plain": [
       "array([[0],\n",
       "       [1],\n",
       "       [2],\n",
       "       [3],\n",
       "       [4],\n",
       "       [5],\n",
       "       [6],\n",
       "       [7],\n",
       "       [8],\n",
       "       [9]])"
      ]
     },
     "execution_count": 67,
     "metadata": {},
     "output_type": "execute_result"
    }
   ],
   "source": [
    "np.arange(0, 10)[:, np.newaxis]"
   ]
  },
  {
   "cell_type": "code",
   "execution_count": 68,
   "id": "89c4eba6",
   "metadata": {},
   "outputs": [
    {
     "data": {
      "text/plain": [
       "array([[ 1,  2,  3,  4,  5,  6,  7,  8,  9, 10],\n",
       "       [ 2,  3,  4,  5,  6,  7,  8,  9, 10, 11],\n",
       "       [ 3,  4,  5,  6,  7,  8,  9, 10, 11, 12],\n",
       "       [ 4,  5,  6,  7,  8,  9, 10, 11, 12, 13],\n",
       "       [ 5,  6,  7,  8,  9, 10, 11, 12, 13, 14],\n",
       "       [ 6,  7,  8,  9, 10, 11, 12, 13, 14, 15],\n",
       "       [ 7,  8,  9, 10, 11, 12, 13, 14, 15, 16],\n",
       "       [ 8,  9, 10, 11, 12, 13, 14, 15, 16, 17],\n",
       "       [ 9, 10, 11, 12, 13, 14, 15, 16, 17, 18],\n",
       "       [10, 11, 12, 13, 14, 15, 16, 17, 18, 19]])"
      ]
     },
     "execution_count": 68,
     "metadata": {},
     "output_type": "execute_result"
    }
   ],
   "source": [
    "(np.arange(1, 11) + np.arange(0, 10)[:, np.newaxis])"
   ]
  },
  {
   "cell_type": "code",
   "execution_count": 69,
   "id": "1f7386fd",
   "metadata": {},
   "outputs": [
    {
     "data": {
      "text/plain": [
       "array([[1.        , 0.5       , 0.33333333, 0.25      , 0.2       ,\n",
       "        0.16666667, 0.14285714, 0.125     , 0.11111111, 0.1       ],\n",
       "       [0.5       , 0.33333333, 0.25      , 0.2       , 0.16666667,\n",
       "        0.14285714, 0.125     , 0.11111111, 0.1       , 0.09090909],\n",
       "       [0.33333333, 0.25      , 0.2       , 0.16666667, 0.14285714,\n",
       "        0.125     , 0.11111111, 0.1       , 0.09090909, 0.08333333],\n",
       "       [0.25      , 0.2       , 0.16666667, 0.14285714, 0.125     ,\n",
       "        0.11111111, 0.1       , 0.09090909, 0.08333333, 0.07692308],\n",
       "       [0.2       , 0.16666667, 0.14285714, 0.125     , 0.11111111,\n",
       "        0.1       , 0.09090909, 0.08333333, 0.07692308, 0.07142857],\n",
       "       [0.16666667, 0.14285714, 0.125     , 0.11111111, 0.1       ,\n",
       "        0.09090909, 0.08333333, 0.07692308, 0.07142857, 0.06666667],\n",
       "       [0.14285714, 0.125     , 0.11111111, 0.1       , 0.09090909,\n",
       "        0.08333333, 0.07692308, 0.07142857, 0.06666667, 0.0625    ],\n",
       "       [0.125     , 0.11111111, 0.1       , 0.09090909, 0.08333333,\n",
       "        0.07692308, 0.07142857, 0.06666667, 0.0625    , 0.05882353],\n",
       "       [0.11111111, 0.1       , 0.09090909, 0.08333333, 0.07692308,\n",
       "        0.07142857, 0.06666667, 0.0625    , 0.05882353, 0.05555556],\n",
       "       [0.1       , 0.09090909, 0.08333333, 0.07692308, 0.07142857,\n",
       "        0.06666667, 0.0625    , 0.05882353, 0.05555556, 0.05263158]])"
      ]
     },
     "execution_count": 69,
     "metadata": {},
     "output_type": "execute_result"
    }
   ],
   "source": [
    "# Author: Fabian Pedregosa -- <fabian.pedregosa@inria.fr>\n",
    "# License: BSD 3 clause\n",
    "\n",
    "import numpy as np\n",
    "import matplotlib.pyplot as plt\n",
    "from sklearn import linear_model\n",
    "\n",
    "# X is the 10x10 Hilbert matrix\n",
    "X = 1.0 / (np.arange(1, 11) + np.arange(0, 10)[:, np.newaxis])\n",
    "X"
   ]
  },
  {
   "cell_type": "code",
   "execution_count": 70,
   "id": "056677c5",
   "metadata": {},
   "outputs": [
    {
     "data": {
      "text/plain": [
       "array([1., 1., 1., 1., 1., 1., 1., 1., 1., 1.])"
      ]
     },
     "execution_count": 70,
     "metadata": {},
     "output_type": "execute_result"
    }
   ],
   "source": [
    "y = np.ones(10)\n",
    "y"
   ]
  },
  {
   "cell_type": "markdown",
   "id": "b3d84939",
   "metadata": {},
   "source": [
    "## Compute paths\n",
    "\n"
   ]
  },
  {
   "cell_type": "code",
   "execution_count": 71,
   "id": "d565b3ff",
   "metadata": {},
   "outputs": [
    {
     "data": {
      "text/plain": [
       "array([1.00000000e-10, 1.09698580e-10, 1.20337784e-10, 1.32008840e-10,\n",
       "       1.44811823e-10, 1.58856513e-10, 1.74263339e-10, 1.91164408e-10,\n",
       "       2.09704640e-10, 2.30043012e-10, 2.52353917e-10, 2.76828663e-10,\n",
       "       3.03677112e-10, 3.33129479e-10, 3.65438307e-10, 4.00880633e-10,\n",
       "       4.39760361e-10, 4.82410870e-10, 5.29197874e-10, 5.80522552e-10,\n",
       "       6.36824994e-10, 6.98587975e-10, 7.66341087e-10, 8.40665289e-10,\n",
       "       9.22197882e-10, 1.01163798e-09, 1.10975250e-09, 1.21738273e-09,\n",
       "       1.33545156e-09, 1.46497140e-09, 1.60705282e-09, 1.76291412e-09,\n",
       "       1.93389175e-09, 2.12145178e-09, 2.32720248e-09, 2.55290807e-09,\n",
       "       2.80050389e-09, 3.07211300e-09, 3.37006433e-09, 3.69691271e-09,\n",
       "       4.05546074e-09, 4.44878283e-09, 4.88025158e-09, 5.35356668e-09,\n",
       "       5.87278661e-09, 6.44236351e-09, 7.06718127e-09, 7.75259749e-09,\n",
       "       8.50448934e-09, 9.32930403e-09, 1.02341140e-08, 1.12266777e-08,\n",
       "       1.23155060e-08, 1.35099352e-08, 1.48202071e-08, 1.62575567e-08,\n",
       "       1.78343088e-08, 1.95639834e-08, 2.14614120e-08, 2.35428641e-08,\n",
       "       2.58261876e-08, 2.83309610e-08, 3.10786619e-08, 3.40928507e-08,\n",
       "       3.73993730e-08, 4.10265811e-08, 4.50055768e-08, 4.93704785e-08,\n",
       "       5.41587138e-08, 5.94113398e-08, 6.51733960e-08, 7.14942899e-08,\n",
       "       7.84282206e-08, 8.60346442e-08, 9.43787828e-08, 1.03532184e-07,\n",
       "       1.13573336e-07, 1.24588336e-07, 1.36671636e-07, 1.49926843e-07,\n",
       "       1.64467618e-07, 1.80418641e-07, 1.97916687e-07, 2.17111795e-07,\n",
       "       2.38168555e-07, 2.61267523e-07, 2.86606762e-07, 3.14403547e-07,\n",
       "       3.44896226e-07, 3.78346262e-07, 4.15040476e-07, 4.55293507e-07,\n",
       "       4.99450512e-07, 5.47890118e-07, 6.01027678e-07, 6.59318827e-07,\n",
       "       7.23263390e-07, 7.93409667e-07, 8.70359136e-07, 9.54771611e-07,\n",
       "       1.04737090e-06, 1.14895100e-06, 1.26038293e-06, 1.38262217e-06,\n",
       "       1.51671689e-06, 1.66381689e-06, 1.82518349e-06, 2.00220037e-06,\n",
       "       2.19638537e-06, 2.40940356e-06, 2.64308149e-06, 2.89942285e-06,\n",
       "       3.18062569e-06, 3.48910121e-06, 3.82749448e-06, 4.19870708e-06,\n",
       "       4.60592204e-06, 5.05263107e-06, 5.54266452e-06, 6.08022426e-06,\n",
       "       6.66991966e-06, 7.31680714e-06, 8.02643352e-06, 8.80488358e-06,\n",
       "       9.65883224e-06, 1.05956018e-05, 1.16232247e-05, 1.27505124e-05,\n",
       "       1.39871310e-05, 1.53436841e-05, 1.68318035e-05, 1.84642494e-05,\n",
       "       2.02550194e-05, 2.22194686e-05, 2.43744415e-05, 2.67384162e-05,\n",
       "       2.93316628e-05, 3.21764175e-05, 3.52970730e-05, 3.87203878e-05,\n",
       "       4.24757155e-05, 4.65952567e-05, 5.11143348e-05, 5.60716994e-05,\n",
       "       6.15098579e-05, 6.74754405e-05, 7.40196000e-05, 8.11984499e-05,\n",
       "       8.90735464e-05, 9.77124154e-05, 1.07189132e-04, 1.17584955e-04,\n",
       "       1.28989026e-04, 1.41499130e-04, 1.55222536e-04, 1.70276917e-04,\n",
       "       1.86791360e-04, 2.04907469e-04, 2.24780583e-04, 2.46581108e-04,\n",
       "       2.70495973e-04, 2.96730241e-04, 3.25508860e-04, 3.57078596e-04,\n",
       "       3.91710149e-04, 4.29700470e-04, 4.71375313e-04, 5.17092024e-04,\n",
       "       5.67242607e-04, 6.22257084e-04, 6.82607183e-04, 7.48810386e-04,\n",
       "       8.21434358e-04, 9.01101825e-04, 9.88495905e-04, 1.08436597e-03,\n",
       "       1.18953407e-03, 1.30490198e-03, 1.43145894e-03, 1.57029012e-03,\n",
       "       1.72258597e-03, 1.88965234e-03, 2.07292178e-03, 2.27396575e-03,\n",
       "       2.49450814e-03, 2.73644000e-03, 3.00183581e-03, 3.29297126e-03,\n",
       "       3.61234270e-03, 3.96268864e-03, 4.34701316e-03, 4.76861170e-03,\n",
       "       5.23109931e-03, 5.73844165e-03, 6.29498899e-03, 6.90551352e-03,\n",
       "       7.57525026e-03, 8.30994195e-03, 9.11588830e-03, 1.00000000e-02])"
      ]
     },
     "execution_count": 71,
     "metadata": {},
     "output_type": "execute_result"
    }
   ],
   "source": [
    "n_alphas = 200\n",
    "alphas = np.logspace(-10, -2, n_alphas)\n",
    "alphas"
   ]
  },
  {
   "cell_type": "code",
   "execution_count": 72,
   "id": "87211da5",
   "metadata": {},
   "outputs": [
    {
     "data": {
      "text/plain": [
       "(200,)"
      ]
     },
     "execution_count": 72,
     "metadata": {},
     "output_type": "execute_result"
    }
   ],
   "source": [
    "alphas.shape"
   ]
  },
  {
   "cell_type": "code",
   "execution_count": 73,
   "id": "797fa44e",
   "metadata": {},
   "outputs": [
    {
     "data": {
      "text/plain": [
       "Ridge(alpha=0.01, fit_intercept=False)"
      ]
     },
     "execution_count": 73,
     "metadata": {},
     "output_type": "execute_result"
    }
   ],
   "source": [
    "coefs = []\n",
    "for a in alphas:\n",
    "    ridge = linear_model.Ridge(alpha=a, fit_intercept=False)\n",
    "    ridge.fit(X, y)\n",
    "    coefs.append(ridge.coef_)\n",
    "ridge"
   ]
  },
  {
   "cell_type": "code",
   "execution_count": 74,
   "id": "c6609aaf",
   "metadata": {},
   "outputs": [
    {
     "data": {
      "text/plain": [
       "[array([   2.64506158,  -27.60370165,    7.99285619,  133.67551402,\n",
       "          18.04324615, -123.85505338, -175.62009081, -113.78634109,\n",
       "          45.15378754,  274.02305851]),\n",
       " array([   2.77495224,  -30.1209692 ,   17.90672494,  125.42571617,\n",
       "          10.71783546, -122.86634349, -168.64642961, -106.59634373,\n",
       "          46.70074869,  265.22301165]),\n",
       " array([   2.8964128 ,  -32.48097779,   27.21871697,  117.65917064,\n",
       "           3.83377586, -121.92542172, -162.0788977 ,  -99.83164507,\n",
       "          48.15084232,  256.93547839]),\n",
       " array([   3.0095957 ,  -34.68696546,   35.94231884,  110.36420355,\n",
       "          -2.61959776, -121.0307006 , -155.90694738,  -93.48139569,\n",
       "          49.50638918,  249.14682982]),\n",
       " array([   3.11468948,  -36.74289336,   44.09395174,  103.52651939,\n",
       "          -8.65489592, -120.18030045, -150.11799678,  -87.5326181 ,\n",
       "          50.77012538,  241.84083979]),\n",
       " array([   3.21190939,  -38.65326602,   51.69224979,   97.12992087,\n",
       "         -14.28643035, -119.37200469, -144.69786258,  -81.97067588,\n",
       "          51.9451119 ,  234.99922876]),\n",
       " array([   3.30149171,  -40.42302838,   58.75768298,   91.15655474,\n",
       "         -19.52986269, -118.60327155, -139.63096108,  -76.77966694,\n",
       "          53.03460018,  228.60209248]),\n",
       " array([   3.3836859 ,  -42.05741848,   65.31199621,   85.58732948,\n",
       "         -24.40167909, -117.87137148, -134.90076601,  -71.9427413 ,\n",
       "          54.04202118,  222.62831188]),\n",
       " array([   3.45874741,  -43.56182919,   71.37764056,   80.40252748,\n",
       "         -28.91904439, -117.17343613, -130.49008826,  -67.44237641,\n",
       "          54.97088824,  217.05593993]),\n",
       " array([   3.52693445,  -44.94175451,   76.97761831,   75.58175947,\n",
       "         -33.09944758, -116.50637538, -126.38125981,  -63.26071805,\n",
       "          55.82475795,  211.86248181]),\n",
       " array([   3.58850042,  -46.20264669,   82.13490991,   71.10451955,\n",
       "         -36.96039748, -115.8670299 , -122.55648886,  -59.37977297,\n",
       "          56.60715855,  207.0252512 ]),\n",
       " array([   3.64369177,  -47.34987813,   86.87234182,   66.95025972,\n",
       "         -40.51931095, -115.25211586, -118.99794831,  -55.78158853,\n",
       "          57.32155574,  202.52152923]),\n",
       " array([   3.69274266,  -48.3886437 ,   91.21220819,   63.09872856,\n",
       "         -43.79329219, -114.65830267, -115.6879593 ,  -52.44847487,\n",
       "          57.97128897,  198.32884225]),\n",
       " array([   3.73587317,  -49.32393077,   95.17617997,   59.52997148,\n",
       "         -46.79896326, -114.08217007, -112.60915333,  -49.36310329,\n",
       "          58.55959837,  194.42504675]),\n",
       " array([   3.77328534,  -50.16044665,   98.78501862,   56.22461166,\n",
       "         -49.55233724, -113.52027947, -109.74460011,  -46.50861866,\n",
       "          59.089559  ,  190.78851933]),\n",
       " array([   3.80516225,  -50.90260489,  102.05853734,   53.16386584,\n",
       "         -52.06880498, -112.96914678, -107.07776586,  -43.86873321,\n",
       "          59.56403222,  187.39822725]),\n",
       " array([   3.83166548,  -51.55448276,  105.01545342,   50.32962715,\n",
       "         -54.36297907, -112.42522313, -104.59271354,  -41.42779075,\n",
       "          59.98570377,  184.2338058 ]),\n",
       " array([   3.85293445,  -52.11980851,  107.67333527,   47.70454028,\n",
       "         -56.44870926, -111.88494638, -102.27405478,  -39.17077637,\n",
       "          60.35706631,  181.2755698 ]),\n",
       " array([   3.86908472,  -52.60193679,  110.04853451,   45.27199703,\n",
       "         -58.33896733, -111.34472174, -100.10699883,  -37.08339957,\n",
       "          60.68037422,  178.50460643]),\n",
       " array([   3.88020767,  -53.00384279,  112.1561557 ,   43.01620868,\n",
       "         -60.04592605, -110.80089124,  -98.07737647,  -35.15206716,\n",
       "          60.95768135,  175.90273453]),\n",
       " array([   3.88637017,  -53.32812075,  114.01007174,   40.9221413 ,\n",
       "         -61.58089266, -110.24975946,  -96.17160503,  -33.36388346,\n",
       "          61.19079113,  173.45252658]),\n",
       " array([   3.88761393,  -53.57697237,  115.62287536,   38.97557916,\n",
       "         -62.9543154 , -109.68760119,  -94.37672171,  -31.70666458,\n",
       "          61.38131826,  171.1372828 ]),\n",
       " array([   3.88395611,  -53.75222187,  117.00595023,   37.16304291,\n",
       "         -64.17582395, -109.11062628,  -92.68032108,  -30.16890217,\n",
       "          61.53063389,  168.94101668]),\n",
       " array([   3.8753892 ,  -53.8553128 ,  118.1694573 ,   35.47180483,\n",
       "         -65.25422039, -108.51498782,  -91.07058043,  -28.73976171,\n",
       "          61.63990572,  166.84843292]),\n",
       " array([   3.86188176,  -53.8873224 ,  119.12238786,   33.88985379,\n",
       "         -66.19753031, -107.89678694,  -89.53620494,  -27.40903536,\n",
       "          61.71008791,  164.84488625]),\n",
       " array([   3.84337885,  -53.8489683 ,  119.8725876 ,   32.4058744 ,\n",
       "         -67.01301492, -107.25206329,  -88.06642316,  -26.16713533,\n",
       "          61.74192737,  162.91636962]),\n",
       " array([   3.81980345,  -53.74063171,  120.42683587,   31.00918438,\n",
       "         -67.70720351, -106.57680678,  -86.65094446,  -25.0050614 ,\n",
       "          61.73598914,  161.04946288]),\n",
       " array([   3.79105749,  -53.5623708 ,  120.7908786 ,   29.68974295,\n",
       "         -68.28595633, -105.8669534 ,  -85.27994651,  -23.91435887,\n",
       "          61.69264828,  159.23131626]),\n",
       " array([   3.7570235 ,  -53.31394496,  120.96950583,   28.4380859 ,\n",
       "         -68.75447422, -105.11839139,  -83.94406134,  -22.88710315,\n",
       "          61.61210896,  157.44962841]),\n",
       " array([   3.71756653,  -52.99484076,  120.96661674,   27.24531854,\n",
       "         -69.11735935, -104.326992  ,  -82.63434183,  -21.91586616,\n",
       "          61.49442566,  155.69261642]),\n",
       " array([   3.67253646,  -52.60430161,  120.78529984,   26.10307965,\n",
       "         -69.37866087, -103.48860589,  -81.34225624,  -20.99369842,\n",
       "          61.3395091 ,  153.94901331]),\n",
       " array([   3.62177082,  -52.14136482,  120.42792613,   25.00351392,\n",
       "         -69.541924  , -102.5990952 ,  -80.05968324,  -20.11408685,\n",
       "          61.14714522,  152.20805347]),\n",
       " array([   3.56509783,  -51.604898  ,  119.89623097,   23.93926327,\n",
       "         -69.61023542, -101.65436609,  -78.77890586,  -19.27095891,\n",
       "          60.9170261 ,  150.45948074]),\n",
       " array([   3.5023402 ,  -50.99364723,  119.1914319 ,   22.90343405,\n",
       "         -69.58628329, -100.65039776,  -77.49261549,  -18.45864484,\n",
       "          60.64876032,  148.69355548]),\n",
       " array([  3.43331923, -50.3062848 , 118.31432756,  21.88960557,\n",
       "        -69.47241805, -99.58329221, -76.19392277, -17.67187013,\n",
       "         60.34190413, 146.90107762]),\n",
       " array([  3.35785959, -49.5414671 , 117.26542981,  20.89180341,\n",
       "        -69.27070494, -98.44931772, -74.87637506, -16.90574831,\n",
       "         59.9959882 , 145.07341826]),\n",
       " array([  3.27579441, -48.69789307, 116.04508023,  19.90451797,\n",
       "        -68.9829934 , -97.2449708 , -73.53398626, -16.1557684 ,\n",
       "         59.61054954, 143.20256001]),\n",
       " array([  3.18697116, -47.77437451, 114.65360381,  18.92268579,\n",
       "        -68.61097673, -95.96703823, -72.16126498, -15.41779146,\n",
       "         59.18516379, 141.2811463 ]),\n",
       " array([  3.09125778, -46.76990534, 113.09144546,  17.94171236,\n",
       "        -68.15627167, -94.61266431, -70.75324971, -14.68805363,\n",
       "         58.71947734, 139.30254465]),\n",
       " array([  2.98854918, -45.68373678, 111.35932106,  16.95748048,\n",
       "        -67.62047487, -93.17943559, -69.30556264, -13.96316241,\n",
       "         58.21324991, 137.26091181]),\n",
       " array([  2.87877421, -44.51545738, 109.45838179,  15.96635583,\n",
       "        -67.0052422 , -91.66545099, -67.81444894, -13.24010497,\n",
       "         57.66638746, 135.15126822]),\n",
       " array([  2.76190243, -43.26506977, 107.39036008,  14.96521803,\n",
       "        -66.31235913, -90.06940675, -66.27683457, -12.51625547,\n",
       "         57.0789831 , 132.96957832]),\n",
       " array([  2.63795117, -41.93307129, 105.15773351,  13.95146447,\n",
       "        -65.54380291, -88.39068169, -64.6903732 , -11.7893819 ,\n",
       "         56.45135608, 130.7128261 ]),\n",
       " array([  2.50699202, -40.52052755, 102.76386528,  12.9230395 ,\n",
       "        -64.70181459, -86.62941032, -63.05350365, -11.05765287,\n",
       "         55.7840863 , 128.37909464]),\n",
       " array([  2.36915706, -39.02914315, 100.21314642,  11.87844319,\n",
       "        -63.78895962, -84.78655533, -61.36548954, -10.31964678,\n",
       "         55.07804858, 125.96763402]),\n",
       " array([  2.224644  , -37.4613205 ,  97.51110887,  10.81675004,\n",
       "        -62.80817612, -82.86397339, -59.62646523,  -9.57435573,\n",
       "         54.33444342, 123.47892207]),\n",
       " array([  2.07372058, -35.8202093 ,  94.66452586,   9.73761465,\n",
       "        -61.76282279, -80.86446092, -57.83746122,  -8.8211899 ,\n",
       "         53.55481763, 120.91471088]),\n",
       " array([  1.91672732, -34.1097392 ,  91.68147861,   8.64127512,\n",
       "        -60.65671063, -78.79178695, -56.00042213,  -8.05997487,\n",
       "         52.74108389, 118.27804968]),\n",
       " array([  1.75407893, -32.33463629,  88.57139517,   7.52854393,\n",
       "        -59.49412126, -76.65070496, -54.11820708,  -7.29094423,\n",
       "         51.89552567, 115.57328956]),\n",
       " array([  1.58626365, -30.50041698,  85.34504434,   6.40079631,\n",
       "        -58.27981088, -74.4469422 , -52.19457115,  -6.51472845,\n",
       "         51.02079695, 112.80605827]),\n",
       " array([  1.41384082, -28.61336275,  82.01449847,   5.25994035,\n",
       "        -57.01899875, -72.18716174, -50.23412911,  -5.73233367,\n",
       "         50.11990844, 109.98320778]),\n",
       " array([  1.23743624, -26.68046954,  78.59304637,   4.10838328,\n",
       "        -55.71733836, -69.87890126, -48.24229496,  -4.94511591,\n",
       "         49.19620453, 107.11272981]),\n",
       " array([  1.05773557, -24.70937629,  75.09507089,   2.94897943,\n",
       "        -54.38086939, -67.5304842 , -46.22520372,  -4.15474702,\n",
       "         48.25332956, 104.20364139]),\n",
       " array([  0.87547575, -22.70827061,  71.53588221,   1.78497523,\n",
       "        -53.01595911, -65.15090598, -44.18961047,  -3.36317428,\n",
       "         47.29518141, 101.26584263]),\n",
       " array([  0.69143461, -20.68577567,  67.93151859,   0.61993833,\n",
       "        -51.62922351, -62.74969851, -42.14277428,  -2.57257358,\n",
       "         46.32585858,  98.30994659]),\n",
       " array([  0.50641922, -18.65082141,  64.29851715,  -0.54231606,\n",
       "        -50.22744168, -60.33677694, -40.09232565,  -1.78529788,\n",
       "         45.34959794,  95.34708978]),\n",
       " array([  0.32125303, -16.61250416,  60.65366423,  -1.69780773,\n",
       "        -48.81745873, -57.92227251, -38.04612422,  -1.00382232,\n",
       "         44.37070737,  92.38872653]),\n",
       " array([  0.13676249, -14.57993868,  57.01373053,  -2.84247406,\n",
       "        -47.40608382, -55.51635791, -36.01211129,  -0.23068731,\n",
       "         43.39349534,  89.44641462]),\n",
       " array([-4.62363969e-02, -1.25621107e+01,  5.33952079e+01, -3.97225479e+00,\n",
       "        -4.59999887e+01, -5.31290721e+01, -3.39981600e+01,  5.31558049e-01,\n",
       "         4.24221994e+01,  8.65316007e+01]),\n",
       " array([ -0.22695122, -10.56773189,  49.81404958,  -5.08317306,\n",
       "        -44.60560627, -50.77014901, -32.01193221,   1.28041085,\n",
       "         41.46091737,  83.65541135]),\n",
       " array([ -0.40462537,  -8.60510537,  46.28542885,  -6.1714111 ,\n",
       "        -43.22903741, -48.44885854, -30.06074252,   2.01346581,\n",
       "         40.51354163,  80.82845757]),\n",
       " array([ -0.578549  ,  -6.68200469,  42.82352249,  -7.2333784 ,\n",
       "        -41.87596688, -46.17386249, -28.15143778,   2.72846113,\n",
       "         39.5837016 ,  78.06065966]),\n",
       " array([ -0.74806836,  -4.80557064,  39.44132539,  -8.2657701 ,\n",
       "        -40.55159099, -43.95309226, -26.29029289,   3.42331779,\n",
       "         38.6747133 ,  75.3610969 ]),\n",
       " array([ -0.91259328,  -2.9822286 ,  36.15050235,  -9.26561391,\n",
       "        -39.26056036, -41.79364981, -24.48292712,   4.09617201,\n",
       "         37.78953943,  72.73788569]),\n",
       " array([ -1.0716026 ,  -1.21762808,  32.96127943, -10.23030548,\n",
       "        -38.00693753, -39.70173463, -22.7342417 ,   4.74539915,\n",
       "         36.93075949,  70.19808927]),\n",
       " array([ -1.22464753,   0.48339508,  29.88237624, -11.15763131,\n",
       "        -36.79417071, -37.68259706, -21.04837926,   5.36962956,\n",
       "         36.10055101,  67.74765885]),\n",
       " array([ -1.37135302,   2.11683428,  26.92097768, -12.04577959,\n",
       "        -35.62508301, -35.74051735, -19.42870512,   5.96775682,\n",
       "         35.3006811 ,  65.39140586]),\n",
       " array([ -1.5114172 ,   3.679507  ,  24.08274331, -12.89334004,\n",
       "        -34.50187618, -33.87880876, -17.87780832,   6.53893811,\n",
       "         34.53250778,  63.13300331]),\n",
       " array([ -1.64460911,   5.16903088,  21.37184997, -13.69929363,\n",
       "        -33.42614734, -32.09984246, -16.39752091,   7.08258837,\n",
       "         33.7969904 ,  60.97501292]),\n",
       " array([ -1.77076501,   6.58378402,  18.79106291, -14.46299382,\n",
       "        -32.39891674, -30.4050906 , -14.98895228,   7.59836829,\n",
       "         33.09470716,  58.91893462]),\n",
       " array([ -1.88978349,   7.92285223,  16.34183006, -15.18414047,\n",
       "        -31.42066461, -28.7951847 , -13.65253645,   8.08616802,\n",
       "         32.42587914,  56.96527409]),\n",
       " array([ -2.00161963,   9.18596648,  14.02439391, -15.86274873,\n",
       "        -30.49137463, -27.26998512, -12.38808857,   8.54608706,\n",
       "         31.79039864,  55.11362395]),\n",
       " array([ -2.10627861,  10.37343342,  11.83791555, -16.49911403,\n",
       "        -29.61058219, -25.82865848, -11.19486811,   8.97841186,\n",
       "         31.18786081,  53.36275442]),\n",
       " array([ -2.20380891,  11.48606216,   9.78060537, -17.09377467,\n",
       "        -28.77742517, -24.46975969, -10.07164589,   9.38359174,\n",
       "         30.61759704,  51.71070955]),\n",
       " array([ -2.29429532,  12.5250894 ,   7.84985636, -17.64747382,\n",
       "        -27.99069543, -23.19131538,  -9.01677257,   9.7622143 ,\n",
       "         30.07870895,  50.15490529]),\n",
       " array([ -2.37785214,  13.49210546,   6.04237579, -18.16112154,\n",
       "        -27.24888982, -21.99090645,  -8.02824639,  10.11498107,\n",
       "         29.57010192,  48.69222661]),\n",
       " array([ -2.45461647,  14.38898288,   4.35431197, -18.63575803,\n",
       "        -26.550259  , -20.86574764,  -7.10377845,  10.44268376,\n",
       "         29.09051726,  47.31912096]),\n",
       " array([ -2.52474193,  15.21780883,   2.78137399, -19.07251901,\n",
       "        -25.89285334, -19.81276238,  -6.24085443,  10.74618198,\n",
       "         28.63856257,  46.0316863 ]),\n",
       " array([ -2.58839278,  15.9808226 ,   1.31894213, -19.47260332,\n",
       "        -25.27456533, -18.82865195,  -5.43679142,  11.02638255,\n",
       "         28.21273957,  44.82575234]),\n",
       " array([-2.64573860e+00,  1.66803586e+01, -3.78317511e-02, -1.98372436e+01,\n",
       "        -2.46931677e+01, -1.79099580e+01, -4.68878959e+00,  1.12842206e+01,\n",
       "         2.78114692e+01,  4.36969539e+01]),\n",
       " array([ -2.69694947,  17.31879553,  -1.29393475, -20.16768011,\n",
       "        -24.14634751, -17.05311846,  -3.99397807,  11.52064283,\n",
       "         27.43311416,  42.64079636]),\n",
       " array([ -2.74219171,  17.89851132,  -2.45441458, -20.46513713,\n",
       "        -23.63173552, -16.25451577,  -3.34945515,  11.73659269,\n",
       "         27.07599784,  41.65271217]),\n",
       " array([ -2.78162417,  18.4218446 ,  -3.52431199, -20.73080331,\n",
       "        -23.1469317 , -15.51051904,  -2.75232282,  11.93299773,\n",
       "         26.73842136,  40.72810999]),\n",
       " array([ -2.81539514,  18.89106166,  -4.50860371, -20.96581452,\n",
       "        -22.68952644, -14.81751901,  -2.19971578,  12.11075884,\n",
       "         26.41867724,  39.86241542]),\n",
       " array([ -2.84363966,  19.30832909,  -5.41215503, -21.17123968,\n",
       "        -22.25711819, -14.17195715,  -1.68882556,  12.27074134,\n",
       "         26.11506088,  39.05110479]),\n",
       " array([ -2.86647741,  19.67569163,  -6.23968156, -21.34806944,\n",
       "        -21.84732765, -13.57034914,  -1.21691978,  12.41376789,\n",
       "         25.8258798 ,  38.28973232]),\n",
       " array([ -2.88401105,  19.99505476,  -6.99571901, -21.49720724,\n",
       "        -21.45780903, -13.0093032 ,  -0.78135738,  12.54061288,\n",
       "         25.54946091,  37.5739514 ]),\n",
       " array([ -2.896325  ,  20.26817172,  -7.68460029, -21.61946286,\n",
       "        -21.08625876, -12.48553425,  -0.37960006,  12.65199839,\n",
       "         25.28415614,  36.89953089]),\n",
       " array([-2.90348459e+00,  2.04966345e+01, -8.31043911e+00, -2.17155480e+01,\n",
       "        -2.07304221e+01, -1.19958740e+01, -9.22047675e-03,  1.27485913e+01,\n",
       "         2.50283467e+01,  3.62623670e+01]),\n",
       " array([ -2.90553568,  20.68186842,  -8.87711913, -21.78607419,\n",
       "        -20.38809796, -11.5372783 ,   0.3320923 ,  12.83100182,\n",
       "         24.78044643,  35.65849147]),\n",
       " array([ -2.90250466,  20.82513047,  -9.38828806, -21.83155194,\n",
       "        -20.05714255, -11.10683105,   0.64652977,  12.89978275,\n",
       "         24.53890392,  35.08407748]),\n",
       " array([ -2.89439873,  20.92751018,  -9.84735586, -21.85239256,\n",
       "        -19.73547203, -10.70174702,   0.93616286,  12.95543005,\n",
       "         24.30220479,  34.53544254]),\n",
       " array([ -2.88120667,  20.98993384, -10.25749654, -21.84891103,\n",
       "        -19.42106466, -10.3193723 ,   1.20294244,  12.99838404,\n",
       "         24.06887319,  34.00905054]),\n",
       " array([ -2.86289995,  21.01317139, -10.62165305, -21.82133089,\n",
       "        -19.11196276,  -9.95718392,   1.44870106,  13.02903159,\n",
       "         23.83747364,  33.50151258]),\n",
       " array([ -2.83943421,  20.99784593, -10.94254465, -21.7697907 ,\n",
       "        -18.80627485,  -9.61278865,   1.67515578,  13.04770894,\n",
       "         23.60661296,  33.00958749]),\n",
       " array([ -2.81075111,  20.94444592, -11.2226765 , -21.69435221,\n",
       "        -18.50217819,  -9.28392137,   1.88391162,  13.05470534,\n",
       "         23.37494278,  32.53018238]),\n",
       " array([ -2.7767807 ,  20.85333988, -11.46435116, -21.59501022,\n",
       "        -18.19792204,  -8.9684434 ,   2.07646565,  13.05026731,\n",
       "         23.14116268,  32.06035382]),\n",
       " array([ -2.73744412,  20.72479369, -11.66968152, -21.47170417,\n",
       "        -17.89183189,  -8.66434103,   2.25421137,  13.03460373,\n",
       "         22.9040242 ,  31.59730988]),\n",
       " array([ -2.69265675,  20.55899046, -11.84060521, -21.32433148,\n",
       "        -17.58231477,  -8.36972436,   2.41844331,  13.00789137,\n",
       "         22.66233581,  31.13841334]),\n",
       " array([ -2.64233184,  20.35605284, -11.97890007, -21.15276259,\n",
       "        -17.26786588,  -8.08282686,   2.57036172,  12.97028126,\n",
       "         22.41496901,  30.68118647]),\n",
       " array([ -2.58638454,  20.11606773, -12.08620058, -20.95685773,\n",
       "        -16.9470766 ,  -7.80200552,   2.7110772 ,  12.92190556,\n",
       "         22.16086558,  30.22331732]),\n",
       " array([ -2.52473639,  19.83911336, -12.1640151 , -20.73648529,\n",
       "        -16.61864383,  -7.52574193,   2.84161527,  12.86288503,\n",
       "         21.89904598,  29.76266775]),\n",
       " array([ -2.45732012,  19.52528828, -12.21374366, -20.49154164,\n",
       "        -16.28138076,  -7.25264403,   2.96292075,  12.79333698,\n",
       "         21.6286189 ,  29.29728316]),\n",
       " array([ -2.38408488,  19.17474219, -12.23669624, -20.22197221,\n",
       "        -15.93422876,  -6.98144874,   3.07586193,  12.71338369,\n",
       "         21.34879176,  28.82540365]),\n",
       " array([ -2.30500161,  18.78770796, -12.23411114, -19.92779345,\n",
       "        -15.57627034,  -6.7110253 ,   3.1812346 ,  12.62316108,\n",
       "         21.05888208,  28.34547658]),\n",
       " array([ -2.22006862,  18.36453428, -12.20717338, -19.60911537,\n",
       "        -15.20674272,  -6.44037901,   3.27976572,  12.52282748,\n",
       "         20.75832931,  27.85616998]),\n",
       " array([ -2.12931719,  17.90571836, -12.15703271, -19.26616393,\n",
       "        -14.82505163,  -6.16865542,   3.37211696,  12.41257247,\n",
       "         20.44670693,  27.35638635]),\n",
       " array([ -2.03281693,  17.41193752, -12.08482095, -18.89930292,\n",
       "        -14.43078488,  -5.89514442,   3.45888803,  12.29262532,\n",
       "         20.12373416,  26.84527631]),\n",
       " array([ -1.93068091,  16.88407888, -11.99166828, -18.50905431,\n",
       "        -14.02372493,  -5.61928414,   3.54061976,  12.16326297,\n",
       "         19.78928696,  26.32225124]),\n",
       " array([ -1.82307017,  16.32326597, -11.87871808, -18.09611652,\n",
       "        -13.60386   ,  -5.34066406,   3.61779714,  12.02481715,\n",
       "         19.44340769,  25.78699425]),\n",
       " array([ -1.7101975 ,  15.73088097, -11.74713996, -17.66137963,\n",
       "        -13.17139278,  -5.05902707,   3.69085217,  11.87768038,\n",
       "         19.08631277,  25.23946846]),\n",
       " array([ -1.59233025,  15.10858153, -11.59814046, -17.20593667,\n",
       "        -12.72674614,  -4.77427001,   3.76016668,  11.72231052,\n",
       "         18.71839776,  24.67992183]),\n",
       " array([ -1.46979191,  14.45831102, -11.43297114, -16.73109027,\n",
       "        -12.27056514,  -4.48644237,   3.82607521,  11.55923367,\n",
       "         18.34023932,  24.10888764]),\n",
       " array([ -1.34296239,  13.78230107, -11.25293367, -16.23835386,\n",
       "        -11.80371459,  -4.19574264,   3.88886777,  11.389045  ,\n",
       "         17.9525935 ,  23.52717987]),\n",
       " array([ -1.21227675,  13.08306589, -11.05938165, -15.72944698,\n",
       "        -11.32727192,  -3.90251223,   3.94879283,  11.2124075 ,\n",
       "         17.55638988,  22.93588303]),\n",
       " array([ -1.0782223 ,  12.36338762, -10.85371909, -15.20628422,\n",
       "        -10.8425148 ,  -3.60722666,   4.00606028,  11.0300484 ,\n",
       "         17.15272151,  22.3363358 ]),\n",
       " array([ -0.94133421,  11.62629291, -10.63739541, -14.67095784,\n",
       "        -10.35090366,  -3.31048401,   4.06084456,  10.84275327,\n",
       "         16.74283038,  21.73010874]),\n",
       " array([ -0.80218939,  10.87502069, -10.41189721, -14.12571428,\n",
       "         -9.85405908,  -3.01299073,   4.11328787,  10.65135792,\n",
       "         16.32808865,  21.11897598]),\n",
       " array([ -0.66139914,  10.11298227, -10.17873696, -13.57292499,\n",
       "         -9.35373469,  -2.71554499,   4.16350347,  10.45673825,\n",
       "         15.90997606,  20.50488155]),\n",
       " array([ -0.51960038,   9.3437146 ,  -9.93943916, -13.01505253,\n",
       "         -8.85178613,  -2.41901805,   4.21157908,  10.25979839,\n",
       "         15.49005402,  19.88990115]),\n",
       " array([ -0.37744619,   8.57082837,  -9.69552439, -12.45461294,\n",
       "         -8.35013702,  -2.12433407,   4.2575802 ,  10.06145738,\n",
       "         15.06993722,  19.27620041]),\n",
       " array([ -0.23559553,   7.79795289,  -9.44849209, -11.89413579,\n",
       "         -7.85074315,  -1.83244895,   4.30155354,   9.86263514,\n",
       "         14.65126361,  18.6659911 ]),\n",
       " array([ -0.09470292,   7.02867958,  -9.19980253, -11.33612329,\n",
       "         -7.35555597,  -1.54432906,   4.34353026,   9.66423794,\n",
       "         14.23566387,  18.0614865 ]),\n",
       " array([  0.04459182,   6.26650631,  -8.95085903, -10.78300998,\n",
       "         -6.86648676,  -1.26093022,   4.38352905,   9.46714416,\n",
       "         13.8247314 ,  17.46485774]),\n",
       " array([  0.18167324,   5.51478462,  -8.7029909 , -10.23712448,\n",
       "         -6.38537267,  -0.98317803,   4.42155907,   9.27219066,\n",
       "         13.41999382,  16.87819231]),\n",
       " array([ 0.31595904,  4.77667171, -8.45743795, -9.70065466, -5.91394578,\n",
       "        -0.71194981,  4.45762257,  9.0801604 , 13.02288699, 16.30345633]),\n",
       " array([ 0.44690772,  4.05508866, -8.21533696, -9.17561722, -5.45380609,\n",
       "        -0.44805886,  4.49171718,  8.89177165, 12.63473234, 15.74246144]),\n",
       " array([ 0.57402479,  3.35268627, -7.97771076, -8.66383278, -5.00639925,\n",
       "        -0.19224143,  4.52383789,  8.70766903, 12.25671808, 15.1968375 ]),\n",
       " array([ 0.69686746,  2.67181923, -7.74545998, -8.16690684, -4.57299943,\n",
       "         0.05485337,  4.55397868,  8.52841676, 11.8898847 , 14.6680113 ]),\n",
       " array([ 0.81504774,  2.01452887, -7.51935781, -7.68621693, -4.15469757,\n",
       "         0.29267067,  4.58213369,  8.35449397, 11.53511503, 14.15719192]),\n",
       " array([ 0.92823389,  1.38253472, -7.30004758, -7.22290599, -3.75239498,\n",
       "         0.52075382,  4.60829809,  8.18629234, 11.19312863, 13.66536229]),\n",
       " array([ 1.03615044,  0.77723408, -7.08804316, -6.77788153, -3.36680198,\n",
       "         0.73874558,  4.63246862,  8.02411567, 10.86448052, 13.19327698]),\n",
       " array([ 1.13857674,  0.19970924, -6.88373184, -6.35182017, -2.99844121,\n",
       "         0.94638661,  4.65464375,  7.86818143, 10.54956365, 12.74146542]),\n",
       " array([ 1.23534437, -0.34925898, -6.68737941, -5.94517678, -2.64765488,\n",
       "         1.14351179,  4.67482362,  7.71862394, 10.24861484, 12.31023996]),\n",
       " array([ 1.32633355, -0.86917221, -6.49913704, -5.55819742, -2.3146154 ,\n",
       "         1.33004458,  4.6930097 ,  7.57549881,  9.96172331, 11.89970791]),\n",
       " array([ 1.41146878, -1.35979135, -6.31904949, -5.19093538, -1.99933855,\n",
       "         1.50598985,  4.7092043 ,  7.43878857,  9.68884154, 11.5097867 ]),\n",
       " array([ 1.49071386, -1.82111047, -6.14706437, -4.84326918, -1.70169862,\n",
       "         1.67142578,  4.72340989,  7.30840896,  9.42979762, 11.14022128]),\n",
       " array([ 1.56406669, -2.25332877, -5.98304195, -4.51492206, -1.42144461,\n",
       "         1.82649496,  4.73562841,  7.1842157 ,  9.18430852, 10.79060296]),\n",
       " array([ 1.63155382, -2.6568218 , -5.82676527, -4.20548194, -1.15821702,\n",
       "         1.97139519,  4.74586038,  7.06601149,  8.95199393, 10.46038887]),\n",
       " array([ 1.69322507, -3.03211271, -5.67795009, -3.91442145, -0.91156468,\n",
       "         2.1063703 ,  4.75410413,  6.95355301,  8.73239001, 10.14892156]),\n",
       " array([ 1.74914827, -3.37984437, -5.53625464, -3.64111728, -0.68096104,\n",
       "         2.23170113,  4.76035494,  6.84655767,  8.52496283,  9.85544793]),\n",
       " array([ 1.79940431, -3.70075294, -5.40128886, -3.3848687 , -0.46581975,\n",
       "         2.34769707,  4.76460431,  6.74471008,  8.32912112,  9.5791374 ]),\n",
       " array([ 1.84408257, -3.99564321, -5.27262291, -3.14491466, -0.26550905,\n",
       "         2.45468806,  4.76683916,  6.64766808,  8.14422818,  9.31909872]),\n",
       " array([ 1.88327671, -4.26536633, -5.14979513, -2.92044946, -0.07936501,\n",
       "         2.55301739,  4.76704126,  6.55506823,  7.96961274,  9.0743954 ]),\n",
       " array([ 1.91708101, -4.51079978, -5.03231911, -2.71063687,  0.09329674,\n",
       "         2.64303526,  4.76518668,  6.46653079,  7.80457879,  8.84405956]),\n",
       " array([ 1.94558719, -4.73282992, -4.91969002, -2.51462251,  0.25317056,\n",
       "         2.72509312,  4.76124534,  6.38166421,  7.64841421,  8.62710418]),\n",
       " array([ 1.96888171, -4.93233703, -4.8113903 , -2.33154465,  0.40095183,\n",
       "         2.79953886,  4.75518075,  6.300069  ,  7.50039845,  8.42253385]),\n",
       " array([ 1.98704364, -5.11018283, -4.70689453, -2.16054346,  0.5373294 ,\n",
       "         2.86671272,  4.74694985,  6.22134124,  7.35980905,  8.22935391]),\n",
       " array([ 2.00014305, -5.26720038, -4.60567385, -2.00076878,  0.6629792 ,\n",
       "         2.92694408,  4.73650304,  6.14507558,  7.22592731,  8.04657834]),\n",
       " array([ 2.00823987, -5.40418626, -4.50719972, -1.85138658,  0.77855916,\n",
       "         2.98054886,  4.72378431,  6.07086792,  7.09804314,  7.87323638]),\n",
       " array([ 2.01138327, -5.52189489, -4.41094739, -1.71158423,  0.88470514,\n",
       "         3.02782766,  4.70873165,  5.99831782,  6.97545911,  7.70837803]),\n",
       " array([ 2.00961158, -5.62103482, -4.31639895, -1.58057469,  0.98202794,\n",
       "         3.0690645 ,  4.69127758,  5.92703062,  6.85749406,  7.55107875]),\n",
       " array([ 2.00295267, -5.70226687, -4.22304623, -1.45759988,  1.071111  ,\n",
       "         3.10452616,  4.67134992,  5.85661951,  6.74348609,  7.40044331]),\n",
       " array([ 1.99142474, -5.76620405, -4.13039353, -1.34193325,  1.15250906,\n",
       "         3.13446195,  4.64887278,  5.78670747,  6.63279531,  7.25560916]),\n",
       " array([ 1.97503769, -5.81341299, -4.03796036, -1.23288176,  1.22674728,\n",
       "         3.1591041 ,  4.6237678 ,  5.71692918,  6.52480635,  7.11574936]),\n",
       " array([ 1.95379487, -5.84441684, -3.94528423, -1.12978738,  1.29432103,\n",
       "         3.17866844,  4.59595559,  5.64693307,  6.41893072,  6.98007517]),\n",
       " array([ 1.92769531, -5.85969954, -3.85192352, -1.03202823,  1.35569607,\n",
       "         3.19335553,  4.56535747,  5.57638338,  6.31460917,  6.84783854]),\n",
       " array([ 1.89673635, -5.85971126, -3.75746059, -0.93901943,  1.41130915,\n",
       "         3.20335214,  4.53189746,  5.50496245,  6.21131402,  6.71833457]),\n",
       " array([ 1.86091666, -5.84487498, -3.66150503, -0.85021378,  1.46156892,\n",
       "         3.20883299,  4.49550442,  5.43237307,  6.10855171,  6.59090391]),\n",
       " array([ 1.82023966, -5.81559389, -3.56369722, -0.7651023 ,  1.50685703,\n",
       "         3.20996278,  4.45611458,  5.35834115,  6.0058653 ,  6.46493531]),\n",
       " array([ 1.77471723, -5.77225974, -3.46371204, -0.6832147 ,  1.54752949,\n",
       "         3.20689841,  4.41367408,  5.28261842,  5.90283732,  6.33986824]),\n",
       " array([ 1.72437362, -5.71526165, -3.36126278, -0.60411985,  1.58391809,\n",
       "         3.1997914 ,  4.36814185,  5.20498535,  5.79909249,  6.21519558]),\n",
       " array([ 1.66924958, -5.64499541, -3.25610516, -0.52742609,  1.61633198,\n",
       "         3.18879032,  4.31949241,  5.12525413,  5.69430076,  6.09046645]),\n",
       " array([ 1.60940656, -5.56187291, -3.14804139, -0.45278166,  1.64505924,\n",
       "         3.17404338,  4.26771887,  5.04327168,  5.58818014,  5.96528893]),\n",
       " array([ 1.54493075, -5.4663315 , -3.0369241 , -0.37987495,  1.67036852,\n",
       "         3.15570091,  4.2128357 ,  4.95892255,  5.48049961,  5.83933274]),\n",
       " array([ 1.47593706, -5.3588429 , -2.92265996, -0.30843471,  1.69251061,\n",
       "         3.1339178 ,  4.15488152,  4.87213165,  5.37108163,  5.71233164]),\n",
       " array([ 1.40257262, -5.23992144, -2.80521299, -0.23823007,  1.71172001,\n",
       "         3.10885566,  4.09392144,  4.78286665,  5.25980447,  5.58408549]),\n",
       " array([ 1.32501984, -5.11013124, -2.68460712, -0.16907037,  1.72821634,\n",
       "         3.08068481,  4.03004919,  4.69113988,  5.14660386,  5.45446169]),\n",
       " array([ 1.2434988 , -4.97009198, -2.56092801, -0.10080473,  1.74220577,\n",
       "         3.0495859 ,  3.96338853,  4.59700966,  5.03147403,  5.32339598]),\n",
       " array([ 1.15826874, -4.820483  , -2.43432384, -0.03332128,  1.75388218,\n",
       "         3.01575104,  3.89409424,  4.50058079,  4.91446793,  5.19089221]),\n",
       " array([ 1.06962867, -4.66204542, -2.30500492,  0.03345406,  1.76342834,\n",
       "         2.9793845 ,  3.82235225,  4.40200429,  4.79569639,  5.05702123]),\n",
       " array([ 0.97791677, -4.495582  , -2.17324197,  0.09955917,  1.77101676,\n",
       "         2.94070283,  3.74837893,  4.30147595,  4.67532621,  4.92191842]),\n",
       " array([ 0.88350881, -4.32195468, -2.03936309,  0.16499783,  1.77681056,\n",
       "         2.89993436,  3.67241962,  4.19923402,  4.55357708,  4.78578015]),\n",
       " array([ 0.78681517, -4.14207971, -1.90374917,  0.22974233,  1.78096397,\n",
       "         2.85731814,  3.59474617,  4.09555567,  4.43071728,  4.64885874]),\n",
       " array([ 0.68827691, -3.95692041, -1.76682799,  0.29373655,  1.78362288,\n",
       "         2.81310227,  3.51565362,  3.99075246,  4.30705816,  4.51145637]),\n",
       " array([ 0.58836062, -3.76747774, -1.62906703,  0.35689942,  1.78492503,\n",
       "         2.76754167,  3.4354561 ,  3.8851648 ,  4.18294763,  4.37391768]),\n",
       " array([ 0.48755243, -3.57477903, -1.49096509,  0.41912883,  1.78500023,\n",
       "         2.72089538,  3.35448206,  3.77915564,  4.0587626 ,  4.23662147]),\n",
       " array([ 0.38635124, -3.37986509, -1.35304315,  0.48030576,  1.78397034,\n",
       "         2.6734235 ,  3.27306883,  3.67310335,  3.93490077,  4.09997157]),\n",
       " array([ 0.28526153, -3.1837764 , -1.21583459,  0.54029861,  1.78194919,\n",
       "         2.62538379,  3.19155695,  3.56739435,  3.81177192,  3.96438722]),\n",
       " array([ 0.18478584, -2.9875387 , -1.07987519,  0.59896754,  1.77904246,\n",
       "         2.57702826,  3.11028421,  3.46241538,  3.68978898,  3.8302933 ]),\n",
       " array([ 0.08541742, -2.79214876, -0.94569322,  0.65616876,  1.77534745,\n",
       "         2.52859962,  3.02957985,  3.35854599,  3.56935926,  3.69811064]),\n",
       " array([-0.01236685, -2.59856059, -0.81380001,  0.71175861,  1.77095291,\n",
       "         2.48032795,  2.94975889,  3.25615126,  3.45087602,  3.5682468 ]),\n",
       " array([-0.10811296, -2.40767288, -0.68468129,  0.76559721,  1.7659388 ,\n",
       "         2.43242766,  2.871117  ,  3.15557513,  3.33471076,  3.44108753]),\n",
       " array([-0.20139538, -2.22031801, -0.55878952,  0.81755184,  1.76037616,\n",
       "         2.38509471,  2.79392594,  3.05713458,  3.22120636,  3.31698934]),\n",
       " array([-0.2918218 , -2.03725282, -0.43653755,  0.86749962,  1.75432698,\n",
       "         2.3385044 ,  2.71842971,  2.9611146 ,  3.11067135,  3.19627309]),\n",
       " array([-0.37903668, -1.85915169, -0.31829364,  0.91532982,  1.74784414,\n",
       "         2.29280961,  2.64484163,  2.86776438,  3.00337537,  3.07921905]),\n",
       " array([-0.46272366, -1.68660173, -0.20437791,  0.96094537,  1.74097146,\n",
       "         2.24813963,  2.57334219,  2.77729451,  2.89954591,  2.96606323]),\n",
       " array([-0.54260689, -1.5201003 , -0.09506038,  1.00426398,  1.73374376,\n",
       "         2.20459946,  2.50407783,  2.68987532,  2.7993663 ,  2.85699515]),\n",
       " array([-0.61845113, -1.3600547 ,  0.00943971,  1.04521856,  1.72618711,\n",
       "         2.16226977,  2.43716062,  2.60563629,  2.70297496,  2.75215696]),\n",
       " array([-0.69006096, -1.20678384,  0.10895321,  1.08375717,  1.71831901,\n",
       "         2.12120723,  2.37266858,  2.52466642,  2.61046574,  2.65164368]),\n",
       " array([-0.75727902, -1.06052165,  0.20335925,  1.11984257,  1.71014876,\n",
       "         2.08144531,  2.31064685,  2.44701553,  2.52188926,  2.55550466]),\n",
       " array([-0.81998357, -0.92142195,  0.29258249,  1.1534513 ,  1.70167783,\n",
       "         2.04299548,  2.25110931,  2.37269619,  2.43725511,  2.46374583]),\n",
       " array([-0.87808548, -0.78956448,  0.37658963,  1.18457256,  1.69290026,\n",
       "         2.00584867,  2.19404074,  2.30168635,  2.35653467,  2.37633272]),\n",
       " array([-0.93152482, -0.66496173,  0.45538538,  1.21320679,  1.68380316,\n",
       "         1.96997692,  2.13939929,  2.2339323 ,  2.27966448,  2.293194  ]),\n",
       " array([-0.98026726, -0.54756636,  0.52900805,  1.23936422,  1.67436718,\n",
       "         1.93533523,  2.08711921,  2.16935195,  2.20654989,  2.21422547]),\n",
       " array([-1.02430031, -0.43727877,  0.59752503,  1.26306327,  1.66456703,\n",
       "         1.9018635 ,  2.03711365,  2.10783835,  2.13706893,  2.13929408]),\n",
       " array([-1.06362971, -0.33395478,  0.66102823,  1.28432898,  1.65437206,\n",
       "         1.86948844,  1.98927763,  2.04926318,  2.07107627,  2.06824224]),\n",
       " array([-1.09827592, -0.23741307,  0.71962965,  1.30319155,  1.64374677,\n",
       "         1.83812553,  1.9434908 ,  1.99348018,  2.00840704,  2.00089187]),\n",
       " array([-1.12827095, -0.14744222,  0.77345723,  1.31968494,  1.63265142,\n",
       "         1.80768091,  1.89962033,  1.94032861,  1.94888066,  1.93704843]),\n",
       " array([-1.15365551, -0.06380733,  0.82265094,  1.33384561,  1.62104261,\n",
       "         1.77805326,  1.85752347,  1.88963634,  1.89230434,  1.87650476])]"
      ]
     },
     "execution_count": 74,
     "metadata": {},
     "output_type": "execute_result"
    }
   ],
   "source": [
    "coefs"
   ]
  },
  {
   "cell_type": "code",
   "execution_count": 75,
   "id": "ffbdc4a9",
   "metadata": {},
   "outputs": [
    {
     "data": {
      "text/plain": [
       "0.01"
      ]
     },
     "execution_count": 75,
     "metadata": {},
     "output_type": "execute_result"
    }
   ],
   "source": [
    "a"
   ]
  },
  {
   "cell_type": "markdown",
   "id": "c8d66ae0",
   "metadata": {},
   "source": [
    "## Display results\n",
    "\n"
   ]
  },
  {
   "cell_type": "code",
   "execution_count": 76,
   "id": "4001eb6b",
   "metadata": {},
   "outputs": [
    {
     "data": {
      "text/plain": [
       "<AxesSubplot:>"
      ]
     },
     "execution_count": 76,
     "metadata": {},
     "output_type": "execute_result"
    },
    {
     "data": {
      "image/png": "[encoded data removed]",
      "text/plain": [
       "<Figure size 432x288 with 1 Axes>"
      ]
     },
     "metadata": {
      "needs_background": "light"
     },
     "output_type": "display_data"
    }
   ],
   "source": [
    "ax = plt.gca() # 현재 Axes 객체를 반환\n",
    "ax"
   ]
  },
  {
   "cell_type": "code",
   "execution_count": 77,
   "id": "fa87a7d8",
   "metadata": {},
   "outputs": [
    {
     "data": {
      "image/png": "[encoded data removed]",
      "text/plain": [
       "<Figure size 432x288 with 1 Axes>"
      ]
     },
     "metadata": {
      "needs_background": "light"
     },
     "output_type": "display_data"
    }
   ],
   "source": [
    "ax = plt.gca() # 현재 Axes 객체를 반환\n",
    "ax.plot(alphas, coefs)\n",
    "ax.set_xscale(\"log\")\n",
    "ax.set_xlim(ax.get_xlim()[::-1])  # reverse axis\n",
    "plt.xlabel(\"alpha\")\n",
    "plt.ylabel(\"weights\")\n",
    "plt.title(\"Ridge coefficients as a function of the regularization\")\n",
    "plt.axis(\"tight\") # 'tight': 모든 데이터를 볼 수 있을 정도로 축의 범위를 충분히 크게 설정\n",
    "plt.show()"
   ]
  },
  {
   "cell_type": "markdown",
   "id": "52b95104",
   "metadata": {},
   "source": [
    "## 1.1.2.2. Classification"
   ]
  },
  {
   "cell_type": "markdown",
   "id": "8230ddf2",
   "metadata": {},
   "source": [
    "The Ridge regressor has a classifier variant: RidgeClassifier. This classifier first converts binary targets to {-1, 1} and then treats the problem as a regression task, optimizing the same objective as above. The predicted class corresponds to the sign of the regressor’s prediction. For multiclass classification, the problem is treated as multi-output regression, and the predicted class corresponds to the output with the highest value.\n",
    "Penalized Regression(규제): 부가정보를 손실에 대해 과대적합 문제를 방지하는 방법, 복잡도에 대한 페널티를 유도해 모델 파라미터의 값을 감소\n",
    "It might seem questionable to use a (penalized) Least Squares loss to fit a classification model instead of the more traditional logistic or hinge losses. However, in practice, all those models can lead to similar cross-validation scores in terms of accuracy or precision/recall, while the penalized least squares loss used by the RidgeClassifier allows for a very different choice of the numerical solvers with distinct computational performance profiles.\n",
    "\n",
    "The RidgeClassifier can be significantly faster than e.g. LogisticRegression with a high number of classes because it can compute the projection matrix $ (X^T X)^{-1} X^T $ only once.\n",
    "\n",
    "This classifier is sometimes referred to as a Least Squares Support Vector Machines with a linear kernel."
   ]
  },
  {
   "cell_type": "markdown",
   "id": "d1147403",
   "metadata": {},
   "source": [
    "### plot_linear_model_coefficient_interpretation.ipynb에서 별도 실행"
   ]
  },
  {
   "cell_type": "markdown",
   "id": "078d06d6",
   "metadata": {},
   "source": [
    "## 1.1.2.3. Ridge Complexity"
   ]
  },
  {
   "cell_type": "markdown",
   "id": "6f4fb87f",
   "metadata": {},
   "source": [
    "This method has the same order of complexity as Ordinary Least Squares."
   ]
  },
  {
   "cell_type": "markdown",
   "id": "a7512594",
   "metadata": {},
   "source": [
    "## 1.1.2.4. Setting the regularization parameter: leave-one-out Cross-Validation"
   ]
  },
  {
   "cell_type": "markdown",
   "id": "6b795dda",
   "metadata": {},
   "source": [
    "RidgeCV implements ridge regression with built-in cross-validation of the alpha parameter. The object works in the same way as GridSearchCV except that it defaults to Leave-One-Out Cross-Validation:"
   ]
  },
  {
   "cell_type": "code",
   "execution_count": 1,
   "id": "ea8a95fd",
   "metadata": {},
   "outputs": [
    {
     "data": {
      "text/html": [
       "<style>#sk-container-id-1 {color: black;background-color: white;}#sk-container-id-1 pre{padding: 0;}#sk-container-id-1 div.sk-toggleable {background-color: white;}#sk-container-id-1 label.sk-toggleable__label {cursor: pointer;display: block;width: 100%;margin-bottom: 0;padding: 0.3em;box-sizing: border-box;text-align: center;}#sk-container-id-1 label.sk-toggleable__label-arrow:before {content: \"▸\";float: left;margin-right: 0.25em;color: #696969;}#sk-container-id-1 label.sk-toggleable__label-arrow:hover:before {color: black;}#sk-container-id-1 div.sk-estimator:hover label.sk-toggleable__label-arrow:before {color: black;}#sk-container-id-1 div.sk-toggleable__content {max-height: 0;max-width: 0;overflow: hidden;text-align: left;background-color: #f0f8ff;}#sk-container-id-1 div.sk-toggleable__content pre {margin: 0.2em;color: black;border-radius: 0.25em;background-color: #f0f8ff;}#sk-container-id-1 input.sk-toggleable__control:checked~div.sk-toggleable__content {max-height: 200px;max-width: 100%;overflow: auto;}#sk-container-id-1 input.sk-toggleable__control:checked~label.sk-toggleable__label-arrow:before {content: \"▾\";}#sk-container-id-1 div.sk-estimator input.sk-toggleable__control:checked~label.sk-toggleable__label {background-color: #d4ebff;}#sk-container-id-1 div.sk-label input.sk-toggleable__control:checked~label.sk-toggleable__label {background-color: #d4ebff;}#sk-container-id-1 input.sk-hidden--visually {border: 0;clip: rect(1px 1px 1px 1px);clip: rect(1px, 1px, 1px, 1px);height: 1px;margin: -1px;overflow: hidden;padding: 0;position: absolute;width: 1px;}#sk-container-id-1 div.sk-estimator {font-family: monospace;background-color: #f0f8ff;border: 1px dotted black;border-radius: 0.25em;box-sizing: border-box;margin-bottom: 0.5em;}#sk-container-id-1 div.sk-estimator:hover {background-color: #d4ebff;}#sk-container-id-1 div.sk-parallel-item::after {content: \"\";width: 100%;border-bottom: 1px solid gray;flex-grow: 1;}#sk-container-id-1 div.sk-label:hover label.sk-toggleable__label {background-color: #d4ebff;}#sk-container-id-1 div.sk-serial::before {content: \"\";position: absolute;border-left: 1px solid gray;box-sizing: border-box;top: 0;bottom: 0;left: 50%;z-index: 0;}#sk-container-id-1 div.sk-serial {display: flex;flex-direction: column;align-items: center;background-color: white;padding-right: 0.2em;padding-left: 0.2em;position: relative;}#sk-container-id-1 div.sk-item {position: relative;z-index: 1;}#sk-container-id-1 div.sk-parallel {display: flex;align-items: stretch;justify-content: center;background-color: white;position: relative;}#sk-container-id-1 div.sk-item::before, #sk-container-id-1 div.sk-parallel-item::before {content: \"\";position: absolute;border-left: 1px solid gray;box-sizing: border-box;top: 0;bottom: 0;left: 50%;z-index: -1;}#sk-container-id-1 div.sk-parallel-item {display: flex;flex-direction: column;z-index: 1;position: relative;background-color: white;}#sk-container-id-1 div.sk-parallel-item:first-child::after {align-self: flex-end;width: 50%;}#sk-container-id-1 div.sk-parallel-item:last-child::after {align-self: flex-start;width: 50%;}#sk-container-id-1 div.sk-parallel-item:only-child::after {width: 0;}#sk-container-id-1 div.sk-dashed-wrapped {border: 1px dashed gray;margin: 0 0.4em 0.5em 0.4em;box-sizing: border-box;padding-bottom: 0.4em;background-color: white;}#sk-container-id-1 div.sk-label label {font-family: monospace;font-weight: bold;display: inline-block;line-height: 1.2em;}#sk-container-id-1 div.sk-label-container {text-align: center;}#sk-container-id-1 div.sk-container {/* jupyter's `normalize.less` sets `[hidden] { display: none; }` but bootstrap.min.css set `[hidden] { display: none !important; }` so we also need the `!important` here to be able to override the default hidden behavior on the sphinx rendered scikit-learn.org. See: https://github.com/scikit-learn/scikit-learn/issues/21755 */display: inline-block !important;position: relative;}#sk-container-id-1 div.sk-text-repr-fallback {display: none;}</style><div id=\"sk-container-id-1\" class=\"sk-top-container\"><div class=\"sk-text-repr-fallback\"><pre>RidgeCV(alphas=array([1.e-06, 1.e-05, 1.e-04, 1.e-03, 1.e-02, 1.e-01, 1.e+00, 1.e+01,\n",
       "       1.e+02, 1.e+03, 1.e+04, 1.e+05, 1.e+06]))</pre><b>In a Jupyter environment, please rerun this cell to show the HTML representation or trust the notebook. <br />On GitHub, the HTML representation is unable to render, please try loading this page with nbviewer.org.</b></div><div class=\"sk-container\" hidden><div class=\"sk-item\"><div class=\"sk-estimator sk-toggleable\"><input class=\"sk-toggleable__control sk-hidden--visually\" id=\"sk-estimator-id-1\" type=\"checkbox\" checked><label for=\"sk-estimator-id-1\" class=\"sk-toggleable__label sk-toggleable__label-arrow\">RidgeCV</label><div class=\"sk-toggleable__content\"><pre>RidgeCV(alphas=array([1.e-06, 1.e-05, 1.e-04, 1.e-03, 1.e-02, 1.e-01, 1.e+00, 1.e+01,\n",
       "       1.e+02, 1.e+03, 1.e+04, 1.e+05, 1.e+06]))</pre></div></div></div></div></div>"
      ],
      "text/plain": [
       "RidgeCV(alphas=array([1.e-06, 1.e-05, 1.e-04, 1.e-03, 1.e-02, 1.e-01, 1.e+00, 1.e+01,\n",
       "       1.e+02, 1.e+03, 1.e+04, 1.e+05, 1.e+06]))"
      ]
     },
     "execution_count": 1,
     "metadata": {},
     "output_type": "execute_result"
    }
   ],
   "source": [
    "import numpy as np\n",
    "from sklearn import linear_model\n",
    "reg = linear_model.RidgeCV(alphas=np.logspace(-6, 6, 13))\n",
    "reg.fit([[0, 0], [0, 0], [1, 1]], [0, .1, 1])"
   ]
  },
  {
   "cell_type": "code",
   "execution_count": 2,
   "id": "0b8549f8",
   "metadata": {},
   "outputs": [
    {
     "data": {
      "text/plain": [
       "0.01"
      ]
     },
     "execution_count": 2,
     "metadata": {},
     "output_type": "execute_result"
    }
   ],
   "source": [
    "reg.alpha_"
   ]
  },
  {
   "cell_type": "markdown",
   "id": "0d7ab2a5",
   "metadata": {},
   "source": [
    "Specifying the value of the cv attribute will trigger the use of cross-validation with GridSearchCV, for example cv=10 for 10-fold cross-validation, rather than Leave-One-Out Cross-Validation.\n",
    "\n",
    "References\n",
    "\n",
    "“Notes on Regularized Least Squares”, Rifkin & Lippert (technical report, course slides)."
   ]
  },
  {
   "cell_type": "markdown",
   "id": "d38dd4c9",
   "metadata": {},
   "source": [
    "## 1.1.3. Lasso"
   ]
  },
  {
   "cell_type": "markdown",
   "id": "eedb2361",
   "metadata": {},
   "source": [
    "The Lasso is a linear model that estimates sparse coefficients. It is useful in some contexts due to its tendency to prefer solutions with fewer non-zero coefficients, effectively reducing the number of features upon which the given solution is dependent. For this reason, Lasso and its variants are fundamental to the field of compressed sensing. Under certain conditions, it can recover the exact set of non-zero coefficients (see Compressive sensing: tomography reconstruction with L1 prior (Lasso)).\n",
    "\n",
    "Mathematically, it consists of a linear model with an added regularization term. The objective function to minimize is:"
   ]
  },
  {
   "cell_type": "markdown",
   "id": "940b021d",
   "metadata": {},
   "source": [
    "$$ \\min_{w} { \\frac{1}{2n_{\\text{samples}}} ||X w - y||_2 ^ 2 + \\alpha ||w||_1} $$"
   ]
  },
  {
   "cell_type": "markdown",
   "id": "05ab3d2d",
   "metadata": {},
   "source": [
    "The lasso estimate thus solves the minimization of the least-squares penalty with $ \\alpha ||w||_1 $ added, where $\\alpha$  is a constant $ ||w||_1$ and  is the $\\ell_1$-norm of the coefficient vector.\n",
    "\n",
    "The implementation in the class Lasso uses coordinate descent as the algorithm to fit the coefficients. See Least Angle Regression for another implementation:"
   ]
  },
  {
   "cell_type": "code",
   "execution_count": 4,
   "id": "b424a2ac",
   "metadata": {},
   "outputs": [
    {
     "data": {
      "text/html": [
       "<style>#sk-container-id-2 {color: black;background-color: white;}#sk-container-id-2 pre{padding: 0;}#sk-container-id-2 div.sk-toggleable {background-color: white;}#sk-container-id-2 label.sk-toggleable__label {cursor: pointer;display: block;width: 100%;margin-bottom: 0;padding: 0.3em;box-sizing: border-box;text-align: center;}#sk-container-id-2 label.sk-toggleable__label-arrow:before {content: \"▸\";float: left;margin-right: 0.25em;color: #696969;}#sk-container-id-2 label.sk-toggleable__label-arrow:hover:before {color: black;}#sk-container-id-2 div.sk-estimator:hover label.sk-toggleable__label-arrow:before {color: black;}#sk-container-id-2 div.sk-toggleable__content {max-height: 0;max-width: 0;overflow: hidden;text-align: left;background-color: #f0f8ff;}#sk-container-id-2 div.sk-toggleable__content pre {margin: 0.2em;color: black;border-radius: 0.25em;background-color: #f0f8ff;}#sk-container-id-2 input.sk-toggleable__control:checked~div.sk-toggleable__content {max-height: 200px;max-width: 100%;overflow: auto;}#sk-container-id-2 input.sk-toggleable__control:checked~label.sk-toggleable__label-arrow:before {content: \"▾\";}#sk-container-id-2 div.sk-estimator input.sk-toggleable__control:checked~label.sk-toggleable__label {background-color: #d4ebff;}#sk-container-id-2 div.sk-label input.sk-toggleable__control:checked~label.sk-toggleable__label {background-color: #d4ebff;}#sk-container-id-2 input.sk-hidden--visually {border: 0;clip: rect(1px 1px 1px 1px);clip: rect(1px, 1px, 1px, 1px);height: 1px;margin: -1px;overflow: hidden;padding: 0;position: absolute;width: 1px;}#sk-container-id-2 div.sk-estimator {font-family: monospace;background-color: #f0f8ff;border: 1px dotted black;border-radius: 0.25em;box-sizing: border-box;margin-bottom: 0.5em;}#sk-container-id-2 div.sk-estimator:hover {background-color: #d4ebff;}#sk-container-id-2 div.sk-parallel-item::after {content: \"\";width: 100%;border-bottom: 1px solid gray;flex-grow: 1;}#sk-container-id-2 div.sk-label:hover label.sk-toggleable__label {background-color: #d4ebff;}#sk-container-id-2 div.sk-serial::before {content: \"\";position: absolute;border-left: 1px solid gray;box-sizing: border-box;top: 0;bottom: 0;left: 50%;z-index: 0;}#sk-container-id-2 div.sk-serial {display: flex;flex-direction: column;align-items: center;background-color: white;padding-right: 0.2em;padding-left: 0.2em;position: relative;}#sk-container-id-2 div.sk-item {position: relative;z-index: 1;}#sk-container-id-2 div.sk-parallel {display: flex;align-items: stretch;justify-content: center;background-color: white;position: relative;}#sk-container-id-2 div.sk-item::before, #sk-container-id-2 div.sk-parallel-item::before {content: \"\";position: absolute;border-left: 1px solid gray;box-sizing: border-box;top: 0;bottom: 0;left: 50%;z-index: -1;}#sk-container-id-2 div.sk-parallel-item {display: flex;flex-direction: column;z-index: 1;position: relative;background-color: white;}#sk-container-id-2 div.sk-parallel-item:first-child::after {align-self: flex-end;width: 50%;}#sk-container-id-2 div.sk-parallel-item:last-child::after {align-self: flex-start;width: 50%;}#sk-container-id-2 div.sk-parallel-item:only-child::after {width: 0;}#sk-container-id-2 div.sk-dashed-wrapped {border: 1px dashed gray;margin: 0 0.4em 0.5em 0.4em;box-sizing: border-box;padding-bottom: 0.4em;background-color: white;}#sk-container-id-2 div.sk-label label {font-family: monospace;font-weight: bold;display: inline-block;line-height: 1.2em;}#sk-container-id-2 div.sk-label-container {text-align: center;}#sk-container-id-2 div.sk-container {/* jupyter's `normalize.less` sets `[hidden] { display: none; }` but bootstrap.min.css set `[hidden] { display: none !important; }` so we also need the `!important` here to be able to override the default hidden behavior on the sphinx rendered scikit-learn.org. See: https://github.com/scikit-learn/scikit-learn/issues/21755 */display: inline-block !important;position: relative;}#sk-container-id-2 div.sk-text-repr-fallback {display: none;}</style><div id=\"sk-container-id-2\" class=\"sk-top-container\"><div class=\"sk-text-repr-fallback\"><pre>Lasso(alpha=0.1)</pre><b>In a Jupyter environment, please rerun this cell to show the HTML representation or trust the notebook. <br />On GitHub, the HTML representation is unable to render, please try loading this page with nbviewer.org.</b></div><div class=\"sk-container\" hidden><div class=\"sk-item\"><div class=\"sk-estimator sk-toggleable\"><input class=\"sk-toggleable__control sk-hidden--visually\" id=\"sk-estimator-id-2\" type=\"checkbox\" checked><label for=\"sk-estimator-id-2\" class=\"sk-toggleable__label sk-toggleable__label-arrow\">Lasso</label><div class=\"sk-toggleable__content\"><pre>Lasso(alpha=0.1)</pre></div></div></div></div></div>"
      ],
      "text/plain": [
       "Lasso(alpha=0.1)"
      ]
     },
     "execution_count": 4,
     "metadata": {},
     "output_type": "execute_result"
    }
   ],
   "source": [
    "from sklearn import linear_model\n",
    "reg = linear_model.Lasso(alpha=0.1)\n",
    "reg.fit([[0, 0], [1, 1]], [0, 1])"
   ]
  },
  {
   "cell_type": "code",
   "execution_count": 5,
   "id": "c9198d79",
   "metadata": {},
   "outputs": [
    {
     "data": {
      "text/plain": [
       "array([0.8])"
      ]
     },
     "execution_count": 5,
     "metadata": {},
     "output_type": "execute_result"
    }
   ],
   "source": [
    "reg.predict([[1, 1]])"
   ]
  },
  {
   "cell_type": "markdown",
   "id": "1fe3622b",
   "metadata": {},
   "source": [
    "The function lasso_path is useful for lower-level tasks, as it computes the coefficients along the full path of possible values."
   ]
  },
  {
   "cell_type": "markdown",
   "id": "15e51051",
   "metadata": {},
   "source": [
    "Examples:\n",
    "\n",
    "Lasso and Elastic Net for Sparse Signals\n",
    "\n",
    "Compressive sensing: tomography reconstruction with L1 prior (Lasso)\n",
    "\n",
    "Common pitfalls in the interpretation of coefficients of linear models\n",
    "\n",
    "Note Feature selection with Lasso\n",
    "As the Lasso regression yields sparse models, it can thus be used to perform feature selection, as detailed in L1-based feature selection.\n",
    "\n",
    "The following two references explain the iterations used in the coordinate descent solver of scikit-learn, as well as the duality gap computation used for convergence control.\n",
    "\n",
    "References\n",
    "\n",
    "“Regularization Path For Generalized linear Models by Coordinate Descent”, Friedman, Hastie & Tibshirani, J Stat Softw, 2010 (Paper).\n",
    "\n",
    "“An Interior-Point Method for Large-Scale L1-Regularized Least Squares,” S. J. Kim, K. Koh, M. Lustig, S. Boyd and D. Gorinevsky, in IEEE Journal of Selected Topics in Signal Processing, 2007 (Paper)"
   ]
  },
  {
   "cell_type": "markdown",
   "id": "05810485",
   "metadata": {},
   "source": [
    "### plot_lasso_model_selection.ipynb에서 별도실행"
   ]
  },
  {
   "cell_type": "markdown",
   "id": "5b15189a",
   "metadata": {},
   "source": [
    "Mathematical details\n",
    "\n",
    "The definition of AIC (and thus BIC) might differ in the literature. In this section, we give more information regarding the criterion computed in scikit-learn. The AIC criterion is defined as:\n",
    "$$ AIC = -2 \\log(\\hat{L}) + 2 d $$\n",
    "where $\\hat{L}$ is the maximum likelihood of the model and  $d$ is the number of parameters (as well referred to as degrees of freedom in the previous section).\n",
    "\n",
    "The definition of BIC replace the constant $2$ by $\\log(N)$:\n",
    "$$ BIC = -2 \\log(\\hat{L}) + \\log(N) d $$\n",
    "where $ N $ is the number of samples.\n",
    "\n",
    "For a linear Gaussian model, the maximum log-likelihood is defined as:\n",
    "$$ \\log(\\hat{L}) = - \\frac{n}{2} \\log(2 \\pi) - \\frac{n}{2} \\ln(\\sigma^2) - \\frac{\\sum_{i=1}^{n} (y_i - \\hat{y}_i)^2}{2\\sigma^2} $$\n",
    " \n",
    "where $ \\sigma^2 $ is an estimate of the noise variance, $ y_i $ and  $ \\hat{y}_i $ are respectively the true and predicted targets, and  $ n $ is the number of samples.\n",
    "\n",
    "Plugging the maximum log-likelihood in the AIC formula yields:\n",
    "$$ AIC = n \\log(2 \\pi \\sigma^2) + \\frac{\\sum_{i=1}^{n} (y_i - \\hat{y}_i)^2}{\\sigma^2} + 2 d $$\n",
    " \n",
    "The first term of the above expression is sometimes discarded since it is a constant when $\\sigma^2$ is provided. In addition, it is sometimes stated that the AIC is equivalent to the $ C_p $ statistic [12]. In a strict sense, however, it is equivalent only up to some constant and a multiplicative factor.\n",
    "\n",
    "At last, we mentioned above that $ \\sigma^2$ is an estimate of the noise variance. In LassoLarsIC when the parameter noise_variance is not provided (default), the noise variance is estimated via the unbiased estimator [13] defined as:\n",
    "$$ \\sigma^2 = \\frac{\\sum_{i=1}^{n} (y_i - \\hat{y}_i)^2}{n - p}$$\n",
    " \n",
    "where $ p$ is the number of features and $ \\hat{y}_i $ is the predicted target using an ordinary least squares regression. Note, that this formula is valid only when n_samples > n_features.\n",
    "\n",
    "Examples:\n",
    "\n",
    "Lasso model selection: AIC-BIC / cross-validation\n",
    "\n",
    "Lasso model selection via information criteria\n",
    "\n",
    "References\n",
    "\n",
    "[12]Zou, Hui, Trevor Hastie, and Robert Tibshirani. “On the degrees of freedom of the lasso.” The Annals of Statistics 35.5 (2007): 2173-2192.\n",
    "\n",
    "[13]Cherkassky, Vladimir, and Yunqian Ma. “Comparison of model selection for regression.” Neural computation 15.7 (2003): 1691-1714.\n",
    "\n",
    "## Comparison with the regularization parameter of SVM\n",
    "The equivalence between alpha and the regularization parameter of SVM, C is given by alpha = 1 / C or alpha = 1 / (n_samples * C), depending on the estimator and the exact objective function optimized by the model."
   ]
  },
  {
   "cell_type": "markdown",
   "id": "55ff7f4e",
   "metadata": {},
   "source": [
    "## 1.1.4. Multi-task Lasso"
   ]
  },
  {
   "cell_type": "markdown",
   "id": "cb8704c2",
   "metadata": {},
   "source": [
    "The MultiTaskLasso is a linear model that estimates sparse coefficients for multiple regression problems jointly: y is a 2D array, of shape (n_samples, n_tasks). The constraint is that the selected features are the same for all the regression problems, also called tasks.\n",
    "\n",
    "The following figure compares the location of the non-zero entries in the coefficient matrix W obtained with a simple Lasso or a MultiTaskLasso. The Lasso estimates yield scattered non-zeros while the non-zeros of the MultiTaskLasso are full columns."
   ]
  },
  {
   "cell_type": "markdown",
   "id": "feab8a17",
   "metadata": {},
   "source": [
    "### plot_multi_task_lasso_support.ipynb에서 별도실행"
   ]
  },
  {
   "cell_type": "markdown",
   "id": "551364ab",
   "metadata": {},
   "source": [
    "Examples:\n",
    "\n",
    "Joint feature selection with multi-task Lasso\n",
    "\n",
    "Mathematically, it consists of a linear model trained with a mixed $\\ell_1$ $ \\ell_2$-norm for regularization. The objective function to minimize is:\n",
    "$$ \\min_{W} { \\frac{1}{2n_{\\text{samples}}} ||X W - Y||_{\\text{Fro}} ^ 2 + \\alpha ||W||_{21}} $$\n",
    "\n",
    "where $ \\text{Fro} $ indicates the Frobenius norm\n",
    "$$ ||A||_{\\text{Fro}} = \\sqrt{\\sum_{ij} a_{ij}^2}$$\n",
    "and $ \\ell_1$ $ \\ell_2$ reads\n",
    "$$ ||A||_{2 1} = \\sum_i \\sqrt{\\sum_j a_{ij}^2}.$$ \n",
    "The implementation in the class MultiTaskLasso uses coordinate descent as the algorithm to fit the coefficients."
   ]
  },
  {
   "cell_type": "markdown",
   "id": "694f4c9f",
   "metadata": {},
   "source": [
    "## 1.1.5. Elastic-Net"
   ]
  },
  {
   "cell_type": "markdown",
   "id": "e146a101",
   "metadata": {},
   "source": [
    "ElasticNet is a linear regression model trained with both $ \\ell_1$ and $ \\ell_2$-norm regularization of the coefficients. This combination allows for learning a sparse model where few of the weights are non-zero like Lasso, while still maintaining the $ \\ell_1$ and $ \\ell_2$ using the l1_ratio parameter.\n",
    "\n",
    "Elastic-net is useful when there are multiple features that are correlated with one another. Lasso is likely to pick one of these at random, while elastic-net is likely to pick both.\n",
    "\n",
    "A practical advantage of trading-off between Lasso and Ridge is that it allows Elastic-Net to inherit some of Ridge’s stability under rotation.\n",
    "\n",
    "The objective function to minimize is in this case\n",
    "$$ \\min_{w} { \\frac{1}{2n_{\\text{samples}}} ||X w - y||_2 ^ 2 + \\alpha \\rho ||w||_1 +\n",
    "\\frac{\\alpha(1-\\rho)}{2} ||w||_2 ^ 2} $$"
   ]
  },
  {
   "cell_type": "markdown",
   "id": "8afee146",
   "metadata": {},
   "source": [
    "### plot_lasso_coordinate_descent_path.ipynb에서 별도실행"
   ]
  },
  {
   "cell_type": "markdown",
   "id": "101d6ba2",
   "metadata": {},
   "source": [
    "The class ElasticNetCV can be used to set the parameters alpha ($ \\alpha$) and l1_ratio ($ \\rho$) by cross-validation.\n",
    "\n",
    "Examples:\n",
    "\n",
    "Lasso and Elastic Net for Sparse Signals\n",
    "\n",
    "Lasso and Elastic Net\n",
    "\n",
    "The following two references explain the iterations used in the coordinate descent solver of scikit-learn, as well as the duality gap computation used for convergence control.\n",
    "\n",
    "References\n",
    "\n",
    "“Regularization Path For Generalized linear Models by Coordinate Descent”, Friedman, Hastie & Tibshirani, J Stat Softw, 2010 (Paper).\n",
    "\n",
    "“An Interior-Point Method for Large-Scale L1-Regularized Least Squares,” S. J. Kim, K. Koh, M. Lustig, S. Boyd and D. Gorinevsky, in IEEE Journal of Selected Topics in Signal Processing, 2007 (Paper)"
   ]
  },
  {
   "cell_type": "markdown",
   "id": "902b0147",
   "metadata": {},
   "source": [
    "## 1.1.6. Multi-task Elastic-Net"
   ]
  },
  {
   "cell_type": "markdown",
   "id": "d59b1021",
   "metadata": {},
   "source": [
    "The MultiTaskElasticNet is an elastic-net model that estimates sparse coefficients for multiple regression problems jointly: Y is a 2D array of shape (n_samples, n_tasks). The constraint is that the selected features are the same for all the regression problems, also called tasks.\n",
    "\n",
    "Mathematically, it consists of a linear model trained with a mixed $ \\ell_1$ $\\ell_2 $-norm and $ \\ell_2$-norm for regularization. The objective function to minimize is:\n",
    "$$ \\min_{W} { \\frac{1}{2n_{\\text{samples}}} ||X W - Y||_{\\text{Fro}}^2 + \\alpha \\rho ||W||_{2 1} +\n",
    "\\frac{\\alpha(1-\\rho)}{2} ||W||_{\\text{Fro}}^2}$$\n",
    " \n",
    "The implementation in the class MultiTaskElasticNet uses coordinate descent as the algorithm to fit the coefficients.\n",
    "\n",
    "The class MultiTaskElasticNetCV can be used to set the parameters alpha ($\\alpha$) and l1_ratio ($ \\rho$) by cross-validation."
   ]
  },
  {
   "cell_type": "markdown",
   "id": "93f02ad0",
   "metadata": {},
   "source": [
    "## 1.1.7. Least Angle Regression"
   ]
  },
  {
   "cell_type": "markdown",
   "id": "e50ee538",
   "metadata": {},
   "source": [
    "Least-angle regression (LARS) is a regression algorithm for high-dimensional data, developed by Bradley Efron, Trevor Hastie, Iain Johnstone and Robert Tibshirani. LARS is similar to forward stepwise regression. At each step, it finds the feature most correlated with the target. When there are multiple features having equal correlation, instead of continuing along the same feature, it proceeds in a direction equiangular between the features.\n",
    "\n",
    "The advantages of LARS are:\n",
    "\n",
    "It is numerically efficient in contexts where the number of features is significantly greater than the number of samples.\n",
    "\n",
    "It is computationally just as fast as forward selection and has the same order of complexity as ordinary least squares.\n",
    "\n",
    "It produces a full piecewise linear solution path, which is useful in cross-validation or similar attempts to tune the model.\n",
    "\n",
    "If two features are almost equally correlated with the target, then their coefficients should increase at approximately the same rate. The algorithm thus behaves as intuition would expect, and also is more stable.\n",
    "\n",
    "It is easily modified to produce solutions for other estimators, like the Lasso.\n",
    "\n",
    "The disadvantages of the LARS method include:\n",
    "\n",
    "Because LARS is based upon an iterative refitting of the residuals, it would appear to be especially sensitive to the effects of noise. This problem is discussed in detail by Weisberg in the discussion section of the Efron et al. (2004) Annals of Statistics article.\n",
    "\n",
    "The LARS model can be used via the estimator Lars, or its low-level implementation lars_path or lars_path_gram."
   ]
  },
  {
   "cell_type": "markdown",
   "id": "bb225501",
   "metadata": {},
   "source": [
    "## 1.1.8. LARS Lasso"
   ]
  },
  {
   "cell_type": "markdown",
   "id": "aa723b43",
   "metadata": {},
   "source": [
    "LassoLars is a lasso model implemented using the LARS algorithm, and unlike the implementation based on coordinate descent, this yields the exact solution, which is piecewise linear as a function of the norm of its coefficients."
   ]
  },
  {
   "cell_type": "markdown",
   "id": "3b390e34",
   "metadata": {},
   "source": [
    "### plot_lasso_lars.ipynb에서 별도실행"
   ]
  },
  {
   "cell_type": "code",
   "execution_count": 6,
   "id": "43b5c38e",
   "metadata": {},
   "outputs": [
    {
     "data": {
      "text/html": [
       "<style>#sk-container-id-3 {color: black;background-color: white;}#sk-container-id-3 pre{padding: 0;}#sk-container-id-3 div.sk-toggleable {background-color: white;}#sk-container-id-3 label.sk-toggleable__label {cursor: pointer;display: block;width: 100%;margin-bottom: 0;padding: 0.3em;box-sizing: border-box;text-align: center;}#sk-container-id-3 label.sk-toggleable__label-arrow:before {content: \"▸\";float: left;margin-right: 0.25em;color: #696969;}#sk-container-id-3 label.sk-toggleable__label-arrow:hover:before {color: black;}#sk-container-id-3 div.sk-estimator:hover label.sk-toggleable__label-arrow:before {color: black;}#sk-container-id-3 div.sk-toggleable__content {max-height: 0;max-width: 0;overflow: hidden;text-align: left;background-color: #f0f8ff;}#sk-container-id-3 div.sk-toggleable__content pre {margin: 0.2em;color: black;border-radius: 0.25em;background-color: #f0f8ff;}#sk-container-id-3 input.sk-toggleable__control:checked~div.sk-toggleable__content {max-height: 200px;max-width: 100%;overflow: auto;}#sk-container-id-3 input.sk-toggleable__control:checked~label.sk-toggleable__label-arrow:before {content: \"▾\";}#sk-container-id-3 div.sk-estimator input.sk-toggleable__control:checked~label.sk-toggleable__label {background-color: #d4ebff;}#sk-container-id-3 div.sk-label input.sk-toggleable__control:checked~label.sk-toggleable__label {background-color: #d4ebff;}#sk-container-id-3 input.sk-hidden--visually {border: 0;clip: rect(1px 1px 1px 1px);clip: rect(1px, 1px, 1px, 1px);height: 1px;margin: -1px;overflow: hidden;padding: 0;position: absolute;width: 1px;}#sk-container-id-3 div.sk-estimator {font-family: monospace;background-color: #f0f8ff;border: 1px dotted black;border-radius: 0.25em;box-sizing: border-box;margin-bottom: 0.5em;}#sk-container-id-3 div.sk-estimator:hover {background-color: #d4ebff;}#sk-container-id-3 div.sk-parallel-item::after {content: \"\";width: 100%;border-bottom: 1px solid gray;flex-grow: 1;}#sk-container-id-3 div.sk-label:hover label.sk-toggleable__label {background-color: #d4ebff;}#sk-container-id-3 div.sk-serial::before {content: \"\";position: absolute;border-left: 1px solid gray;box-sizing: border-box;top: 0;bottom: 0;left: 50%;z-index: 0;}#sk-container-id-3 div.sk-serial {display: flex;flex-direction: column;align-items: center;background-color: white;padding-right: 0.2em;padding-left: 0.2em;position: relative;}#sk-container-id-3 div.sk-item {position: relative;z-index: 1;}#sk-container-id-3 div.sk-parallel {display: flex;align-items: stretch;justify-content: center;background-color: white;position: relative;}#sk-container-id-3 div.sk-item::before, #sk-container-id-3 div.sk-parallel-item::before {content: \"\";position: absolute;border-left: 1px solid gray;box-sizing: border-box;top: 0;bottom: 0;left: 50%;z-index: -1;}#sk-container-id-3 div.sk-parallel-item {display: flex;flex-direction: column;z-index: 1;position: relative;background-color: white;}#sk-container-id-3 div.sk-parallel-item:first-child::after {align-self: flex-end;width: 50%;}#sk-container-id-3 div.sk-parallel-item:last-child::after {align-self: flex-start;width: 50%;}#sk-container-id-3 div.sk-parallel-item:only-child::after {width: 0;}#sk-container-id-3 div.sk-dashed-wrapped {border: 1px dashed gray;margin: 0 0.4em 0.5em 0.4em;box-sizing: border-box;padding-bottom: 0.4em;background-color: white;}#sk-container-id-3 div.sk-label label {font-family: monospace;font-weight: bold;display: inline-block;line-height: 1.2em;}#sk-container-id-3 div.sk-label-container {text-align: center;}#sk-container-id-3 div.sk-container {/* jupyter's `normalize.less` sets `[hidden] { display: none; }` but bootstrap.min.css set `[hidden] { display: none !important; }` so we also need the `!important` here to be able to override the default hidden behavior on the sphinx rendered scikit-learn.org. See: https://github.com/scikit-learn/scikit-learn/issues/21755 */display: inline-block !important;position: relative;}#sk-container-id-3 div.sk-text-repr-fallback {display: none;}</style><div id=\"sk-container-id-3\" class=\"sk-top-container\"><div class=\"sk-text-repr-fallback\"><pre>LassoLars(alpha=0.1)</pre><b>In a Jupyter environment, please rerun this cell to show the HTML representation or trust the notebook. <br />On GitHub, the HTML representation is unable to render, please try loading this page with nbviewer.org.</b></div><div class=\"sk-container\" hidden><div class=\"sk-item\"><div class=\"sk-estimator sk-toggleable\"><input class=\"sk-toggleable__control sk-hidden--visually\" id=\"sk-estimator-id-3\" type=\"checkbox\" checked><label for=\"sk-estimator-id-3\" class=\"sk-toggleable__label sk-toggleable__label-arrow\">LassoLars</label><div class=\"sk-toggleable__content\"><pre>LassoLars(alpha=0.1)</pre></div></div></div></div></div>"
      ],
      "text/plain": [
       "LassoLars(alpha=0.1)"
      ]
     },
     "execution_count": 6,
     "metadata": {},
     "output_type": "execute_result"
    }
   ],
   "source": [
    "from sklearn import linear_model\n",
    "reg = linear_model.LassoLars(alpha=.1)\n",
    "reg.fit([[0, 0], [1, 1]], [0, 1])"
   ]
  },
  {
   "cell_type": "code",
   "execution_count": 7,
   "id": "42a7566c",
   "metadata": {},
   "outputs": [
    {
     "data": {
      "text/plain": [
       "array([0.6, 0. ])"
      ]
     },
     "execution_count": 7,
     "metadata": {},
     "output_type": "execute_result"
    }
   ],
   "source": [
    "reg.coef_"
   ]
  },
  {
   "cell_type": "markdown",
   "id": "fb1c8f4f",
   "metadata": {},
   "source": [
    "Examples:\n",
    "\n",
    "Lasso path using LARS\n",
    "\n",
    "The Lars algorithm provides the full path of the coefficients along the regularization parameter almost for free, thus a common operation is to retrieve the path with one of the functions lars_path or lars_path_gram."
   ]
  },
  {
   "cell_type": "markdown",
   "id": "630380b2",
   "metadata": {},
   "source": [
    "### 1.1.8.1. Mathematical formulation"
   ]
  },
  {
   "cell_type": "markdown",
   "id": "e3e16fed",
   "metadata": {},
   "source": [
    "The algorithm is similar to forward stepwise regression, but instead of including features at each step, the estimated coefficients are increased in a direction equiangular to each one’s correlations with the residual.\n",
    "\n",
    "Instead of giving a vector result, the LARS solution consists of a curve denoting the solution for each value of the \n",
    " norm of the parameter vector. The full coefficients path is stored in the array coef_path_ of shape (n_features, max_features + 1). The first column is always zero.\n",
    "\n",
    "References:\n",
    "\n",
    "Original Algorithm is detailed in the paper Least Angle Regression by Hastie et al."
   ]
  },
  {
   "cell_type": "markdown",
   "id": "8924ef03",
   "metadata": {},
   "source": [
    "## 1.1.9. Orthogonal Matching Pursuit (OMP)"
   ]
  },
  {
   "cell_type": "markdown",
   "id": "c7c71c85",
   "metadata": {},
   "source": [
    "OrthogonalMatchingPursuit and orthogonal_mp implement the OMP algorithm for approximating the fit of a linear model with constraints imposed on the number of non-zero coefficients (ie. the $ \\ell_0$ pseudo-norm).\n",
    "\n",
    "Being a forward feature selection method like Least Angle Regression, orthogonal matching pursuit can approximate the optimum solution vector with a fixed number of non-zero elements:\n",
    "$$ \\underset{w}{\\operatorname{arg\\,min\\,}}  ||y - Xw||_2^2 \\text{ subject to } ||w||_0 \\leq n_{\\text{nonzero\\_coefs}}$$\n",
    " \n",
    "Alternatively, orthogonal matching pursuit can target a specific error instead of a specific number of non-zero coefficients. This can be expressed as:\n",
    "$$ \\underset{w}{\\operatorname{arg\\,min\\,}} ||w||_0 \\text{ subject to } ||y-Xw||_2^2 \\leq \\text{tol}$$\n",
    " \n",
    "OMP is based on a greedy algorithm that includes at each step the atom most highly correlated with the current residual. It is similar to the simpler matching pursuit (MP) method, but better in that at each iteration, the residual is recomputed using an orthogonal projection on the space of the previously chosen dictionary elements.\n",
    "\n",
    "Examples:\n",
    "\n",
    "Orthogonal Matching Pursuit\n",
    "\n",
    "References:\n",
    "\n",
    "https://www.cs.technion.ac.il/~ronrubin/Publications/KSVD-OMP-v2.pdf\n",
    "\n",
    "Matching pursuits with time-frequency dictionaries, S. G. Mallat, Z. Zhang,"
   ]
  },
  {
   "cell_type": "markdown",
   "id": "a7d6fc34",
   "metadata": {},
   "source": [
    "## 1.1.10. Bayesian Regression"
   ]
  },
  {
   "cell_type": "markdown",
   "id": "351634cf",
   "metadata": {},
   "source": [
    "Bayesian regression techniques can be used to include regularization parameters in the estimation procedure: the regularization parameter is not set in a hard sense but tuned to the data at hand.\n",
    "\n",
    "This can be done by introducing uninformative priors over the hyper parameters of the model. The $ \\ell_{2}$ regularization used in Ridge regression and classification is equivalent to finding a maximum a posteriori estimation under a Gaussian prior over the coefficients $w$\n",
    " with precision $ \\lambda^{-1}$. Instead of setting lambda manually, it is possible to treat it as a random variable to be estimated from the data.\n",
    "\n",
    "To obtain a fully probabilistic model, the output $y $ is assumed to be Gaussian distributed around $ y$:\n",
    "\n",
    "where $ \\alpha$ is again treated as a random variable that is to be estimated from the data.\n",
    "\n",
    "The advantages of Bayesian Regression are:\n",
    "\n",
    "It adapts to the data at hand.\n",
    "\n",
    "It can be used to include regularization parameters in the estimation procedure.\n",
    "\n",
    "The disadvantages of Bayesian regression include:\n",
    "\n",
    "Inference of the model can be time consuming.\n",
    "\n",
    "References\n",
    "\n",
    "A good introduction to Bayesian methods is given in C. Bishop: Pattern Recognition and Machine learning\n",
    "\n",
    "Original Algorithm is detailed in the book Bayesian learning for neural networks by Radford M. Neal"
   ]
  },
  {
   "cell_type": "markdown",
   "id": "f4a00375",
   "metadata": {},
   "source": [
    "## 1.1.10.1. Bayesian Ridge Regression"
   ]
  },
  {
   "cell_type": "markdown",
   "id": "26cbc239",
   "metadata": {},
   "source": [
    "BayesianRidge estimates a probabilistic model of the regression problem as described above. The prior for the coefficient $ w$ is given by a spherical Gaussian:\n",
    "$$ p(w|\\lambda) =\n",
    "\\mathcal{N}(w|0,\\lambda^{-1}\\mathbf{I}_{p})$$\n",
    "\n",
    "The priors over $ \\alpha$ and $ \\lambda$are chosen to be gamma distributions, the conjugate prior for the precision of the Gaussian. The resulting model is called Bayesian Ridge Regression, and is similar to the classical Ridge.\n",
    "\n",
    "The parameters $ w$, $ \\alpha$ and $ \\lambda$ are estimated jointly during the fit of the model, the regularization parameters  $ \\alpha$ and $ \\lambda$ being estimated by maximizing the log marginal likelihood. The scikit-learn implementation is based on the algorithm described in Appendix A of (Tipping, 2001) where the update of the parameters  $ \\alpha$ and $ \\lambda$ is done as suggested in (MacKay, 1992). The initial value of the maximization procedure can be set with the hyperparameters alpha_init and lambda_init.\n",
    "\n",
    "There are four more hyperparameters,$ \\alpha_1$,$ \\alpha_2$, $ \\lambda_1$ and $ \\lambda_2$ of the gamma prior distributions over $ \\alpha$ and $ \\lambda$\n",
    "These are usually chosen to be non-informative. By default $ \\alpha_1 = \\alpha_2 =  \\lambda_1 = \\lambda_2 = 10^{-6}$.\n",
    "\n",
    "Bayesian Ridge Regression is used for regression:"
   ]
  },
  {
   "cell_type": "code",
   "execution_count": 8,
   "id": "422e52a6",
   "metadata": {},
   "outputs": [
    {
     "data": {
      "text/html": [
       "<style>#sk-container-id-4 {color: black;background-color: white;}#sk-container-id-4 pre{padding: 0;}#sk-container-id-4 div.sk-toggleable {background-color: white;}#sk-container-id-4 label.sk-toggleable__label {cursor: pointer;display: block;width: 100%;margin-bottom: 0;padding: 0.3em;box-sizing: border-box;text-align: center;}#sk-container-id-4 label.sk-toggleable__label-arrow:before {content: \"▸\";float: left;margin-right: 0.25em;color: #696969;}#sk-container-id-4 label.sk-toggleable__label-arrow:hover:before {color: black;}#sk-container-id-4 div.sk-estimator:hover label.sk-toggleable__label-arrow:before {color: black;}#sk-container-id-4 div.sk-toggleable__content {max-height: 0;max-width: 0;overflow: hidden;text-align: left;background-color: #f0f8ff;}#sk-container-id-4 div.sk-toggleable__content pre {margin: 0.2em;color: black;border-radius: 0.25em;background-color: #f0f8ff;}#sk-container-id-4 input.sk-toggleable__control:checked~div.sk-toggleable__content {max-height: 200px;max-width: 100%;overflow: auto;}#sk-container-id-4 input.sk-toggleable__control:checked~label.sk-toggleable__label-arrow:before {content: \"▾\";}#sk-container-id-4 div.sk-estimator input.sk-toggleable__control:checked~label.sk-toggleable__label {background-color: #d4ebff;}#sk-container-id-4 div.sk-label input.sk-toggleable__control:checked~label.sk-toggleable__label {background-color: #d4ebff;}#sk-container-id-4 input.sk-hidden--visually {border: 0;clip: rect(1px 1px 1px 1px);clip: rect(1px, 1px, 1px, 1px);height: 1px;margin: -1px;overflow: hidden;padding: 0;position: absolute;width: 1px;}#sk-container-id-4 div.sk-estimator {font-family: monospace;background-color: #f0f8ff;border: 1px dotted black;border-radius: 0.25em;box-sizing: border-box;margin-bottom: 0.5em;}#sk-container-id-4 div.sk-estimator:hover {background-color: #d4ebff;}#sk-container-id-4 div.sk-parallel-item::after {content: \"\";width: 100%;border-bottom: 1px solid gray;flex-grow: 1;}#sk-container-id-4 div.sk-label:hover label.sk-toggleable__label {background-color: #d4ebff;}#sk-container-id-4 div.sk-serial::before {content: \"\";position: absolute;border-left: 1px solid gray;box-sizing: border-box;top: 0;bottom: 0;left: 50%;z-index: 0;}#sk-container-id-4 div.sk-serial {display: flex;flex-direction: column;align-items: center;background-color: white;padding-right: 0.2em;padding-left: 0.2em;position: relative;}#sk-container-id-4 div.sk-item {position: relative;z-index: 1;}#sk-container-id-4 div.sk-parallel {display: flex;align-items: stretch;justify-content: center;background-color: white;position: relative;}#sk-container-id-4 div.sk-item::before, #sk-container-id-4 div.sk-parallel-item::before {content: \"\";position: absolute;border-left: 1px solid gray;box-sizing: border-box;top: 0;bottom: 0;left: 50%;z-index: -1;}#sk-container-id-4 div.sk-parallel-item {display: flex;flex-direction: column;z-index: 1;position: relative;background-color: white;}#sk-container-id-4 div.sk-parallel-item:first-child::after {align-self: flex-end;width: 50%;}#sk-container-id-4 div.sk-parallel-item:last-child::after {align-self: flex-start;width: 50%;}#sk-container-id-4 div.sk-parallel-item:only-child::after {width: 0;}#sk-container-id-4 div.sk-dashed-wrapped {border: 1px dashed gray;margin: 0 0.4em 0.5em 0.4em;box-sizing: border-box;padding-bottom: 0.4em;background-color: white;}#sk-container-id-4 div.sk-label label {font-family: monospace;font-weight: bold;display: inline-block;line-height: 1.2em;}#sk-container-id-4 div.sk-label-container {text-align: center;}#sk-container-id-4 div.sk-container {/* jupyter's `normalize.less` sets `[hidden] { display: none; }` but bootstrap.min.css set `[hidden] { display: none !important; }` so we also need the `!important` here to be able to override the default hidden behavior on the sphinx rendered scikit-learn.org. See: https://github.com/scikit-learn/scikit-learn/issues/21755 */display: inline-block !important;position: relative;}#sk-container-id-4 div.sk-text-repr-fallback {display: none;}</style><div id=\"sk-container-id-4\" class=\"sk-top-container\"><div class=\"sk-text-repr-fallback\"><pre>BayesianRidge()</pre><b>In a Jupyter environment, please rerun this cell to show the HTML representation or trust the notebook. <br />On GitHub, the HTML representation is unable to render, please try loading this page with nbviewer.org.</b></div><div class=\"sk-container\" hidden><div class=\"sk-item\"><div class=\"sk-estimator sk-toggleable\"><input class=\"sk-toggleable__control sk-hidden--visually\" id=\"sk-estimator-id-4\" type=\"checkbox\" checked><label for=\"sk-estimator-id-4\" class=\"sk-toggleable__label sk-toggleable__label-arrow\">BayesianRidge</label><div class=\"sk-toggleable__content\"><pre>BayesianRidge()</pre></div></div></div></div></div>"
      ],
      "text/plain": [
       "BayesianRidge()"
      ]
     },
     "execution_count": 8,
     "metadata": {},
     "output_type": "execute_result"
    }
   ],
   "source": [
    "from sklearn import linear_model\n",
    "X = [[0., 0.], [1., 1.], [2., 2.], [3., 3.]]\n",
    "Y = [0., 1., 2., 3.]\n",
    "reg = linear_model.BayesianRidge()\n",
    "reg.fit(X, Y)"
   ]
  },
  {
   "cell_type": "markdown",
   "id": "856fc85d",
   "metadata": {},
   "source": [
    "After being fitted, the model can then be used to predict new values:"
   ]
  },
  {
   "cell_type": "code",
   "execution_count": 9,
   "id": "6a23af44",
   "metadata": {},
   "outputs": [
    {
     "data": {
      "text/plain": [
       "array([0.50000013])"
      ]
     },
     "execution_count": 9,
     "metadata": {},
     "output_type": "execute_result"
    }
   ],
   "source": [
    "reg.predict([[1, 0.]])"
   ]
  },
  {
   "cell_type": "markdown",
   "id": "5c8ead36",
   "metadata": {},
   "source": [
    "The coefficients $\\omega$ of the model can be accessed:"
   ]
  },
  {
   "cell_type": "code",
   "execution_count": 10,
   "id": "cf096d41",
   "metadata": {},
   "outputs": [
    {
     "data": {
      "text/plain": [
       "array([0.49999993, 0.49999993])"
      ]
     },
     "execution_count": 10,
     "metadata": {},
     "output_type": "execute_result"
    }
   ],
   "source": [
    "reg.coef_"
   ]
  },
  {
   "cell_type": "markdown",
   "id": "d2d7afce",
   "metadata": {},
   "source": [
    "Due to the Bayesian framework, the weights found are slightly different to the ones found by Ordinary Least Squares. However, Bayesian Ridge Regression is more robust to ill-posed problems.\n",
    "\n",
    "Examples:\n",
    "\n",
    "Curve Fitting with Bayesian Ridge Regression\n",
    "\n",
    "References:\n",
    "\n",
    "Section 3.3 in Christopher M. Bishop: Pattern Recognition and Machine Learning, 2006\n",
    "\n",
    "David J. C. MacKay, Bayesian Interpolation, 1992.\n",
    "\n",
    "Michael E. Tipping, Sparse Bayesian Learning and the Relevance Vector Machine, 2001."
   ]
  },
  {
   "cell_type": "markdown",
   "id": "17801d13",
   "metadata": {},
   "source": [
    "## 1.1.10.2. Automatic Relevance Determination - ARD"
   ]
  },
  {
   "cell_type": "markdown",
   "id": "f88c6e9e",
   "metadata": {},
   "source": [
    "The Automatic Relevance Determination (as being implemented in ARDRegression) is a kind of linear model which is very similar to the Bayesian Ridge Regression, but that leads to sparser coefficients $ \\omega$ [1] [2].\n",
    "\n",
    "ARDRegression poses a different prior over  $ \\omega$: it drops the spherical Gaussian distribution for a centered elliptic Gaussian distribution. This means each coefficient $ w_{i}$ can itself be drawn from a Gaussian distribution, centered on zero and with a precision $ \\lambda_{i}$:\n",
    "$$ p(w|\\lambda) = \\mathcal{N}(w|0,A^{-1})$$\n",
    "with $ A$ being a positive definite diagonal matrix and $ \\text{diag}(A) = \\lambda = \\{\\lambda_{1},...,\\lambda_{p}\\}$.\n",
    "\n",
    "In contrast to the Bayesian Ridge Regression, each coordinate of $ w_{i}$ has its own standard deviation $ \\frac{1}{\\lambda_i}$. The prior over all $ \\lambda_i$ is chosen to be the same gamma distribution given by the hyperparameters $\\lambda_1$ and $\\lambda_2$.\n",
    "\n",
    "ARD is also known in the literature as Sparse Bayesian Learning and Relevance Vector Machine [3] [4]. For a worked-out comparison between ARD and Bayesian Ridge Regression, see the example below.\n",
    "\n",
    "Examples:\n",
    "\n",
    "Comparing Linear Bayesian Regressors\n",
    "\n",
    "References:\n",
    "\n",
    "[1]Christopher M. Bishop: Pattern Recognition and Machine Learning, Chapter 7.2.1\n",
    "\n",
    "[2]David Wipf and Srikantan Nagarajan: A New View of Automatic Relevance Determination\n",
    "\n",
    "[3]Michael E. Tipping: Sparse Bayesian Learning and the Relevance Vector Machine\n",
    "\n",
    "[4]Tristan Fletcher: Relevance Vector Machines Explained"
   ]
  },
  {
   "cell_type": "markdown",
   "id": "9cdc9c71",
   "metadata": {},
   "source": [
    "## 1.1.11. Logistic regression"
   ]
  },
  {
   "cell_type": "markdown",
   "id": "f2f6e351",
   "metadata": {},
   "source": [
    "The logistic regression is implemented in LogisticRegression. Despite its name, it is implemented as a linear model for classification rather than regression in terms of the scikit-learn/ML nomenclature. The logistic regression is also known in the literature as logit regression, maximum-entropy classification (MaxEnt) or the log-linear classifier. In this model, the probabilities describing the possible outcomes of a single trial are modeled using a logistic function.\n",
    "\n",
    "This implementation can fit binary, One-vs-Rest, or multinomial logistic regression with optional $\\ell_1$,$ \\ell_2$  or Elastic-Net regularization.\n",
    "\n",
    "Note: Regularization\n",
    "Regularization is applied by default, which is common in machine learning but not in statistics. Another advantage of regularization is that it improves numerical stability. No regularization amounts to setting C to a very high value.\n",
    "\n",
    "Note: Logistic Regression as a special case of the Generalized Linear Models (GLM)\n",
    "Logistic regression is a special case of Generalized Linear Models with a Binomial / Bernoulli conditional distribution and a Logit link. The numerical output of the logistic regression, which is the predicted probability, can be used as a classifier by applying a threshold (by default 0.5) to it. This is how it is implemented in scikit-learn, so it expects a categorical target, making the Logistic Regression a classifier."
   ]
  },
  {
   "cell_type": "markdown",
   "id": "696ef901",
   "metadata": {},
   "source": [
    "## 1.1.11.1. Binary Case"
   ]
  },
  {
   "cell_type": "markdown",
   "id": "00af2971",
   "metadata": {},
   "source": [
    "For notational ease, we assume that the target $ y_i$ takes values in the set $ \\{0, 1\\}$ for data point $ i$. Once fitted, the predict_proba method of LogisticRegression predicts the probability of the positive class $ P(y_i=1|X_i)$ as\n",
    "$$ \\hat{p}(X_i) = \\operatorname{expit}(X_i w + w_0) = \\frac{1}{1 + \\exp(-X_i w - w_0)}.$$\n",
    " \n",
    "As an optimization problem, binary class logistic regression with regularization term $ r(w)$ minimizes the following cost function:\n",
    "$$ \\min_{w} C \\sum_{i=1}^n \\left(-y_i \\log(\\hat{p}(X_i)) - (1 - y_i) \\log(1 - \\hat{p}(X_i))\\right) + r(w).$$\n",
    " \n",
    "We currently provide four choices for the regularization term $ r(w)$ via the penalty argument:\n",
    "\n",
    "penalty  -----  $r(w) $\n",
    "\n",
    "None   ------- $ 0$\n",
    "\n",
    "$\\ell_1$ ---------   $ \\|w\\|_1$ \n",
    "\n",
    "$\\ell_2$  ---------   $ \\frac{1}{2}\\|w\\|_2^2 = \\frac{1}{2}w^T w $\n",
    "\n",
    "ElasticNet  --  $ \\frac{1 - \\rho}{2}w^T w + \\rho \\|w\\|_1$\n",
    "\n",
    "For ElasticNet, $\\rho$ (which corresponds to the l1_ratio parameter) controls the strength of $\\ell_1 $ regularization vs.$\\ell_2 $ regularization. Elastic-Net is equivalent to $\\ell_1 $ when $ \\rho = 1$ and equivalent to $\\ell_2 $ when $\\rho=0$."
   ]
  },
  {
   "cell_type": "markdown",
   "id": "12586a78",
   "metadata": {},
   "source": [
    "## 1.1.11.2. Multinomial Case"
   ]
  },
  {
   "cell_type": "markdown",
   "id": "cddd43b3",
   "metadata": {},
   "source": [
    "The binary case can be extended to $ K$ classes leading to the multinomial logistic regression, see also log-linear model.\n",
    "\n",
    "Note It is possible to parameterize a $ K$-class classification model using only $K-1$ weight vectors, leaving one class probability fully determined by the other class probabilities by leveraging the fact that all class probabilities must sum to one. We deliberately choose to overparameterize the model using $ K$ weight vectors for ease of implementation and to preserve the symmetrical inductive bias regarding ordering of classes, see [16]. This effect becomes especially important when using regularization. The choice of overparameterization can be detrimental for unpenalized models since then the solution may not be unique, as shown in [16].\n",
    "Let $ y_i \\in {1, \\ldots, K}$ be the label (ordinal) encoded target variable for observation $i$. Instead of a single coefficient vector, we now have a matrix of coefficients $ W$ where each row vector $W_k$ corresponds to class $k$. We aim at predicting the class probabilities $ P(y_i=k|X_i)$ via predict_proba as:\n",
    "$$ \\hat{p}_k(X_i) = \\frac{\\exp(X_i W_k + W_{0, k})}{\\sum_{l=0}^{K-1} \\exp(X_i W_l + W_{0, l})}.$$\n",
    "\n",
    "The objective for the optimization becomes\n",
    "$$ \\min_W -C \\sum_{i=1}^n \\sum_{k=0}^{K-1} [y_i = k] \\log(\\hat{p}_k(X_i)) + r(W).$$\n",
    " \n",
    "Where $ [P]$ represents the Iverson bracket which evaluates to $ 0$ if $ P$ is false, otherwise it evaluates to $1$. We currently provide four choices for the regularization term $r(W)$ via the penalty argument:\n",
    "\n",
    "penalty  -----  $r(W) $\n",
    "\n",
    "None   ------- $ 0$\n",
    "\n",
    "$\\ell_1$ ---------   $ \\|W\\|_{1,1} = \\sum_{i=1}^n\\sum_{j=1}^{K}|W_{i,j}|$ \n",
    "\n",
    "$\\ell_2$  ---------   $ \\frac{1}{2}\\|W\\|_F^2 = \\frac{1}{2}\\sum_{i=1}^n\\sum_{j=1}^{K} W_{i,j}^2 $\n",
    "\n",
    "ElasticNet  --  $ \\frac{1 - \\rho}{2}\\|W\\|_F^2 + \\rho \\|W\\|_{1,1}$\n"
   ]
  },
  {
   "cell_type": "markdown",
   "id": "f26cd11b",
   "metadata": {},
   "source": [
    "## 1.1.11.3. Solvers"
   ]
  },
  {
   "cell_type": "markdown",
   "id": "68e28284",
   "metadata": {},
   "source": [
    "The solvers implemented in the class LogisticRegression are “lbfgs”, “liblinear”, “newton-cg”, “newton-cholesky”, “sag” and “saga”:\n",
    "\n",
    "The solver “liblinear” uses a coordinate descent (CD) algorithm, and relies on the excellent C++ LIBLINEAR library, which is shipped with scikit-learn. However, the CD algorithm implemented in liblinear cannot learn a true multinomial (multiclass) model; instead, the optimization problem is decomposed in a “one-vs-rest” fashion so separate binary classifiers are trained for all classes. This happens under the hood, so LogisticRegression instances using this solver behave as multiclass classifiers. For $\\ell_1$ regularization sklearn.svm.l1_min_c allows to calculate the lower bound for C in order to get a non “null” (all feature weights to zero) model.\n",
    "\n",
    "The “lbfgs”, “newton-cg” and “sag” solvers only support $\\ell_2$ regularization or no regularization, and are found to converge faster for some high-dimensional data. Setting multi_class to “multinomial” with these solvers learns a true multinomial logistic regression model [5], which means that its probability estimates should be better calibrated than the default “one-vs-rest” setting.\n",
    "\n",
    "The “sag” solver uses Stochastic Average Gradient descent [6]. It is faster than other solvers for large datasets, when both the number of samples and the number of features are large.\n",
    "\n",
    "The “saga” solver [7] is a variant of “sag” that also supports the non-smooth penalty=\"l1\". This is therefore the solver of choice for sparse multinomial logistic regression. It is also the only solver that supports penalty=\"elasticnet\".\n",
    "\n",
    "The “lbfgs” is an optimization algorithm that approximates the Broyden–Fletcher–Goldfarb–Shanno algorithm [8], which belongs to quasi-Newton methods. As such, it can deal with a wide range of different training data and is therefore the default solver. Its performance, however, suffers on poorly scaled datasets and on datasets with one-hot encoded categorical features with rare categories.\n",
    "\n",
    "The “newton-cholesky” solver is an exact Newton solver that calculates the hessian matrix and solves the resulting linear system. It is a very good choice for n_samples >> n_features, but has a few shortcomings: Only \n",
    " regularization is supported. Furthermore, because the hessian matrix is explicitly computed, the memory usage has a quadratic dependency on n_features as well as on n_classes. As a consequence, only the one-vs-rest scheme is implemented for the multiclass case.\n",
    "\n",
    "For a comparison of some of these solvers, see [9].\n",
    "\n",
    "The following table summarizes the penalties supported by each solver:\n",
    "\n",
    "Penalties---------------------------‘lbfgs’----‘liblinear’----‘newton-cg’----‘newton-cholesky’----‘sag’----‘saga’\n",
    "\n",
    "Multinomial + L2 penalty --------yes------------no------------yes-------------------no--------------yes-------yes\n",
    "\n",
    "OVR + L2 penalty  ----------------yes-----------yes------------yes------------------yes--------------yes-------yes\n",
    "\n",
    "Multinomial + L1 penalty  -------no------------no-------------no-------------------no---------------no-------yes\n",
    "\n",
    "OVR + L1 penalty    ---------------no-----------yes-------------no-------------------no---------------no-------yes\n",
    "\n",
    "Elastic-Net     ------------------------no------------no-------------no-------------------no---------------no-------yes\n",
    "\n",
    "No penalty (‘none’)  --------------yes------------no------------yes------------------yes--------------yes-------yes\n",
    "\n",
    "Behaviors\n",
    "\n",
    "Penalize the intercept (bad) ---no-----------yes-------------no-------------------no---------------no--------no\n",
    "\n",
    "Faster for large datasets   -------no-----------yes-------------no-------------------no--------------yes-------yes\n",
    "\n",
    "Robust to unscaled datasets  --yes-----------yes------------yes------------------yes---------------no--------no\n",
    "\n",
    "The “lbfgs” solver is used by default for its robustness. For large datasets the “saga” solver is usually faster. For large dataset, you may also consider using SGDClassifier with loss=\"log_loss\", which might be even faster but requires more tuning."
   ]
  },
  {
   "cell_type": "markdown",
   "id": "19a43631",
   "metadata": {},
   "source": [
    "Examples:\n",
    "\n",
    "L1 Penalty and Sparsity in Logistic Regression\n",
    "\n",
    "Regularization path of L1- Logistic Regression\n",
    "\n",
    "Plot multinomial and One-vs-Rest Logistic Regression\n",
    "\n",
    "Multiclass sparse logistic regression on 20newgroups\n",
    "\n",
    "MNIST classification using multinomial logistic + L1\n",
    "\n",
    "Differences from liblinear:\n",
    "\n",
    "There might be a difference in the scores obtained between LogisticRegression with solver=liblinear or LinearSVC and the external liblinear library directly, when fit_intercept=False and the fit coef_ (or) the data to be predicted are zeroes. This is because for the sample(s) with decision_function zero, LogisticRegression and LinearSVC predict the negative class, while liblinear predicts the positive class. Note that a model with fit_intercept=False and having many samples with decision_function zero, is likely to be a underfit, bad model and you are advised to set fit_intercept=True and increase the intercept_scaling.\n",
    "\n",
    "Note Feature selection with sparse logistic regression\n",
    "A logistic regression with $ \\ell_1$ penalty yields sparse models, and can thus be used to perform feature selection, as detailed in L1-based feature selection.\n",
    "\n",
    "Note P-value estimation\n",
    "It is possible to obtain the p-values and confidence intervals for coefficients in cases of regression without penalization. The statsmodels package natively supports this. Within sklearn, one could use bootstrapping instead as well.\n",
    "\n",
    "LogisticRegressionCV implements Logistic Regression with built-in cross-validation support, to find the optimal C and l1_ratio parameters according to the scoring attribute. The “newton-cg”, “sag”, “saga” and “lbfgs” solvers are found to be faster for high-dimensional dense data, due to warm-starting (see Glossary).\n",
    "\n",
    "References:\n",
    "\n",
    "[5]Christopher M. Bishop: Pattern Recognition and Machine Learning, Chapter 4.3.4\n",
    "\n",
    "[6]Mark Schmidt, Nicolas Le Roux, and Francis Bach: Minimizing Finite Sums with the Stochastic Average Gradient.\n",
    "\n",
    "[7]Aaron Defazio, Francis Bach, Simon Lacoste-Julien: SAGA: A Fast Incremental Gradient Method With Support for Non-Strongly Convex Composite Objectives.\n",
    "\n",
    "[8]https://en.wikipedia.org/wiki/Broyden%E2%80%93Fletcher%E2%80%93Goldfarb%E2%80%93Shanno_algorithm\n",
    "\n",
    "[9]Thomas P. Minka “A comparison of numerical optimizers for logistic regression”\n",
    "\n",
    "[16] (1,2) Simon, Noah, J. Friedman and T. Hastie. “A Blockwise Descent Algorithm for Group-penalized Multiresponse and Multinomial Regression.”"
   ]
  },
  {
   "cell_type": "markdown",
   "id": "e8aef59c",
   "metadata": {},
   "source": [
    "## 1.1.12. Generalized Linear Models"
   ]
  },
  {
   "cell_type": "markdown",
   "id": "3211879a",
   "metadata": {},
   "source": [
    "Generalized Linear Models (GLM) extend linear models in two ways [10]. First, the predicted values $ \\hat{y}$ are linked to a linear combination of the input variables $ X$ via an inverse link function $ h$ as\n",
    "$$ \\hat{y}(w, X) = h(Xw).$$\n",
    "\n",
    "Secondly, the squared loss function is replaced by the unit deviance $d$ of a distribution in the exponential family (or more precisely, a reproductive exponential dispersion model (EDM) [11]).\n",
    "\n",
    "The minimization problem becomes:\n",
    "$$ \\min_{w} \\frac{1}{2 n_{\\text{samples}}} \\sum_i d(y_i, \\hat{y}_i) + \\frac{\\alpha}{2} ||w||_2^2,$$\n",
    "\n",
    "where $ \\alpha$ is the L2 regularization penalty. When sample weights are provided, the average becomes a weighted average.\n",
    "\n",
    "The following table lists some specific EDMs and their unit deviance :\n",
    "\n",
    "Distribution----Target Domain----Unit Deviance $d(y, \\hat{y})$\n",
    "\n",
    "Normal-----------$y \\in (-\\infty, \\infty)$------$(y-\\hat{y})^2 $\n",
    "\n",
    "Bernoulli-------$y \\in \\{0, 1\\}$-----------$2({y}\\log\\frac{y}{\\hat{y}}+({1}-{y})\\log\\frac{{1}-{y}}{{1}-\\hat{y}})$\n",
    "\n",
    "Categorical-----$y \\in \\{0, 1, ..., k\\}$--$2\\sum_{i \\in \\{0, 1, ..., k\\}} I(y = i) y_\\text{i}\\log\\frac{I(y = i)}{\\hat{I(y = i)}}$\n",
    "\n",
    "Poisson---------$y \\in [0, \\infty)$------$2(y\\log\\frac{y}{\\hat{y}}-y+\\hat{y})$\n",
    "\n",
    "Gamma------------$y \\in (0, \\infty)$------$2(\\log\\frac{y}{\\hat{y}}+\\frac{y}{\\hat{y}}-1)$\n",
    "\n",
    "Inverse Gaussian--$y \\in (0, \\infty)$------$\\frac{(y-\\hat{y})^2}{y\\hat{y}^2}$"
   ]
  },
  {
   "cell_type": "markdown",
   "id": "481f81eb",
   "metadata": {},
   "source": [
    "The Probability Density Functions (PDF) of these distributions are illustrated in the following figure,"
   ]
  },
  {
   "cell_type": "code",
   "execution_count": 18,
   "id": "fd8175db",
   "metadata": {},
   "outputs": [
    {
     "data": {
      "image/png": "[encoded data removed]",
      "text/plain": [
       "<IPython.core.display.Image object>"
      ]
     },
     "execution_count": 18,
     "metadata": {},
     "output_type": "execute_result"
    }
   ],
   "source": [
    "Image(\"poisson_gamma_tweedie_distributions.png\")"
   ]
  },
  {
   "cell_type": "markdown",
   "id": "e9b7814b",
   "metadata": {},
   "source": [
    "PDF of a random variable Y following Poisson, Tweedie (power=1.5) and Gamma distributions with different mean values ($\\mu$). Observe the point mass at $Y=0 $ for the Poisson distribution and the Tweedie (power=1.5) distribution, but not for the Gamma distribution which has a strictly positive target domain."
   ]
  },
  {
   "cell_type": "markdown",
   "id": "9937b018",
   "metadata": {},
   "source": [
    "The Bernoulli distribution is a discrete probability distribution modelling a Bernoulli trial - an event that has only two mutually exclusive outcomes. The Categorical distribution is a generalization of the Bernoulli distribution for a categorical random variable. While a random variable in a Bernoulli distribution has two possible outcomes, a Categorical random variable can take on one of K possible categories, with the probability of each category specified separately.\n",
    "\n",
    "The choice of the distribution depends on the problem at hand:\n",
    "\n",
    "If the target values $y$ are counts (non-negative integer valued) or relative frequencies (non-negative), you might use a Poisson distribution with a log-link.\n",
    "\n",
    "If the target values are positive valued and skewed, you might try a Gamma distribution with a log-link.\n",
    "\n",
    "If the target values seem to be heavier tailed than a Gamma distribution, you might try an Inverse Gaussian distribution (or even higher variance powers of the Tweedie family).\n",
    "\n",
    "If the target values $y$ are probabilities, you can use the Bernoulli distribution. The Bernoulli distribution with a logit link can be used for binary classification. The Categorical distribution with a softmax link can be used for multiclass classification.\n",
    "\n",
    "Examples of use cases include:\n",
    "\n",
    "Agriculture / weather modeling: number of rain events per year (Poisson), amount of rainfall per event (Gamma), total rainfall per year (Tweedie / Compound Poisson Gamma).\n",
    "\n",
    "Risk modeling / insurance policy pricing: number of claim events / policyholder per year (Poisson), cost per event (Gamma), total cost per policyholder per year (Tweedie / Compound Poisson Gamma).\n",
    "\n",
    "Credit Default: probability that a loan can’t be payed back (Bernouli).\n",
    "\n",
    "Fraud Detection: probability that a financial transaction like a cash transfer is a fraudulent transaction (Bernoulli).\n",
    "\n",
    "Predictive maintenance: number of production interruption events per year (Poisson), duration of interruption (Gamma), total interruption time per year (Tweedie / Compound Poisson Gamma).\n",
    "\n",
    "Medical Drug Testing: probability of curing a patient in a set of trials or probability that a patient will experience side effects (Bernoulli).\n",
    "\n",
    "News Classification: classification of news articles into three categories namely Business News, Politics and Entertainment news (Categorical).\n",
    "\n",
    "References:\n",
    "\n",
    "[10] McCullagh, Peter; Nelder, John (1989). Generalized Linear Models, Second Edition. Boca Raton: Chapman and Hall/CRC. ISBN 0-412-31760-5.\n",
    "\n",
    "[11] Jørgensen, B. (1992). The theory of exponential dispersion models and analysis of deviance. Monografias de matemática, no. 51. See also Exponential dispersion model."
   ]
  },
  {
   "cell_type": "markdown",
   "id": "3be05246",
   "metadata": {},
   "source": [
    "## 1.1.12.1. Usage"
   ]
  },
  {
   "cell_type": "markdown",
   "id": "55131c2f",
   "metadata": {},
   "source": [
    "TweedieRegressor implements a generalized linear model for the Tweedie distribution, that allows to model any of the above mentioned distributions using the appropriate power parameter. In particular:\n",
    "\n",
    "power = 0: Normal distribution. Specific estimators such as Ridge, ElasticNet are generally more appropriate in this case.\n",
    "\n",
    "power = 1: Poisson distribution. PoissonRegressor is exposed for convenience. However, it is strictly equivalent to TweedieRegressor(power=1, link='log').\n",
    "\n",
    "power = 2: Gamma distribution. GammaRegressor is exposed for convenience. However, it is strictly equivalent to TweedieRegressor(power=2, link='log').\n",
    "\n",
    "power = 3: Inverse Gaussian distribution.\n",
    "\n",
    "The link function is determined by the link parameter.\n",
    "\n",
    "Usage example:"
   ]
  },
  {
   "cell_type": "code",
   "execution_count": 19,
   "id": "ddd1a02b",
   "metadata": {},
   "outputs": [
    {
     "data": {
      "text/html": [
       "<style>#sk-container-id-5 {color: black;background-color: white;}#sk-container-id-5 pre{padding: 0;}#sk-container-id-5 div.sk-toggleable {background-color: white;}#sk-container-id-5 label.sk-toggleable__label {cursor: pointer;display: block;width: 100%;margin-bottom: 0;padding: 0.3em;box-sizing: border-box;text-align: center;}#sk-container-id-5 label.sk-toggleable__label-arrow:before {content: \"▸\";float: left;margin-right: 0.25em;color: #696969;}#sk-container-id-5 label.sk-toggleable__label-arrow:hover:before {color: black;}#sk-container-id-5 div.sk-estimator:hover label.sk-toggleable__label-arrow:before {color: black;}#sk-container-id-5 div.sk-toggleable__content {max-height: 0;max-width: 0;overflow: hidden;text-align: left;background-color: #f0f8ff;}#sk-container-id-5 div.sk-toggleable__content pre {margin: 0.2em;color: black;border-radius: 0.25em;background-color: #f0f8ff;}#sk-container-id-5 input.sk-toggleable__control:checked~div.sk-toggleable__content {max-height: 200px;max-width: 100%;overflow: auto;}#sk-container-id-5 input.sk-toggleable__control:checked~label.sk-toggleable__label-arrow:before {content: \"▾\";}#sk-container-id-5 div.sk-estimator input.sk-toggleable__control:checked~label.sk-toggleable__label {background-color: #d4ebff;}#sk-container-id-5 div.sk-label input.sk-toggleable__control:checked~label.sk-toggleable__label {background-color: #d4ebff;}#sk-container-id-5 input.sk-hidden--visually {border: 0;clip: rect(1px 1px 1px 1px);clip: rect(1px, 1px, 1px, 1px);height: 1px;margin: -1px;overflow: hidden;padding: 0;position: absolute;width: 1px;}#sk-container-id-5 div.sk-estimator {font-family: monospace;background-color: #f0f8ff;border: 1px dotted black;border-radius: 0.25em;box-sizing: border-box;margin-bottom: 0.5em;}#sk-container-id-5 div.sk-estimator:hover {background-color: #d4ebff;}#sk-container-id-5 div.sk-parallel-item::after {content: \"\";width: 100%;border-bottom: 1px solid gray;flex-grow: 1;}#sk-container-id-5 div.sk-label:hover label.sk-toggleable__label {background-color: #d4ebff;}#sk-container-id-5 div.sk-serial::before {content: \"\";position: absolute;border-left: 1px solid gray;box-sizing: border-box;top: 0;bottom: 0;left: 50%;z-index: 0;}#sk-container-id-5 div.sk-serial {display: flex;flex-direction: column;align-items: center;background-color: white;padding-right: 0.2em;padding-left: 0.2em;position: relative;}#sk-container-id-5 div.sk-item {position: relative;z-index: 1;}#sk-container-id-5 div.sk-parallel {display: flex;align-items: stretch;justify-content: center;background-color: white;position: relative;}#sk-container-id-5 div.sk-item::before, #sk-container-id-5 div.sk-parallel-item::before {content: \"\";position: absolute;border-left: 1px solid gray;box-sizing: border-box;top: 0;bottom: 0;left: 50%;z-index: -1;}#sk-container-id-5 div.sk-parallel-item {display: flex;flex-direction: column;z-index: 1;position: relative;background-color: white;}#sk-container-id-5 div.sk-parallel-item:first-child::after {align-self: flex-end;width: 50%;}#sk-container-id-5 div.sk-parallel-item:last-child::after {align-self: flex-start;width: 50%;}#sk-container-id-5 div.sk-parallel-item:only-child::after {width: 0;}#sk-container-id-5 div.sk-dashed-wrapped {border: 1px dashed gray;margin: 0 0.4em 0.5em 0.4em;box-sizing: border-box;padding-bottom: 0.4em;background-color: white;}#sk-container-id-5 div.sk-label label {font-family: monospace;font-weight: bold;display: inline-block;line-height: 1.2em;}#sk-container-id-5 div.sk-label-container {text-align: center;}#sk-container-id-5 div.sk-container {/* jupyter's `normalize.less` sets `[hidden] { display: none; }` but bootstrap.min.css set `[hidden] { display: none !important; }` so we also need the `!important` here to be able to override the default hidden behavior on the sphinx rendered scikit-learn.org. See: https://github.com/scikit-learn/scikit-learn/issues/21755 */display: inline-block !important;position: relative;}#sk-container-id-5 div.sk-text-repr-fallback {display: none;}</style><div id=\"sk-container-id-5\" class=\"sk-top-container\"><div class=\"sk-text-repr-fallback\"><pre>TweedieRegressor(alpha=0.5, link=&#x27;log&#x27;, power=1)</pre><b>In a Jupyter environment, please rerun this cell to show the HTML representation or trust the notebook. <br />On GitHub, the HTML representation is unable to render, please try loading this page with nbviewer.org.</b></div><div class=\"sk-container\" hidden><div class=\"sk-item\"><div class=\"sk-estimator sk-toggleable\"><input class=\"sk-toggleable__control sk-hidden--visually\" id=\"sk-estimator-id-5\" type=\"checkbox\" checked><label for=\"sk-estimator-id-5\" class=\"sk-toggleable__label sk-toggleable__label-arrow\">TweedieRegressor</label><div class=\"sk-toggleable__content\"><pre>TweedieRegressor(alpha=0.5, link=&#x27;log&#x27;, power=1)</pre></div></div></div></div></div>"
      ],
      "text/plain": [
       "TweedieRegressor(alpha=0.5, link='log', power=1)"
      ]
     },
     "execution_count": 19,
     "metadata": {},
     "output_type": "execute_result"
    }
   ],
   "source": [
    "from sklearn.linear_model import TweedieRegressor\n",
    "reg = TweedieRegressor(power=1, alpha=0.5, link='log')\n",
    "reg.fit([[0, 0], [0, 1], [2, 2]], [0, 1, 2])"
   ]
  },
  {
   "cell_type": "code",
   "execution_count": 20,
   "id": "43ccc80b",
   "metadata": {},
   "outputs": [
    {
     "data": {
      "text/plain": [
       "array([0.24631611, 0.43370317])"
      ]
     },
     "execution_count": 20,
     "metadata": {},
     "output_type": "execute_result"
    }
   ],
   "source": [
    "reg.coef_"
   ]
  },
  {
   "cell_type": "code",
   "execution_count": 21,
   "id": "290b2de4",
   "metadata": {},
   "outputs": [
    {
     "data": {
      "text/plain": [
       "-0.7638091359123443"
      ]
     },
     "execution_count": 21,
     "metadata": {},
     "output_type": "execute_result"
    }
   ],
   "source": [
    "reg.intercept_"
   ]
  },
  {
   "cell_type": "markdown",
   "id": "1b4a3b62",
   "metadata": {},
   "source": [
    "Examples:\n",
    "\n",
    "Poisson regression and non-normal loss\n",
    "\n",
    "Tweedie regression on insurance claims"
   ]
  },
  {
   "cell_type": "markdown",
   "id": "d0c86515",
   "metadata": {},
   "source": [
    "## 1.1.12.2. Practical considerations"
   ]
  },
  {
   "cell_type": "markdown",
   "id": "6d65eb96",
   "metadata": {},
   "source": [
    "The feature matrix X should be standardized before fitting. This ensures that the penalty treats features equally.\n",
    "\n",
    "Since the linear predictor $Xw$ can be negative and Poisson, Gamma and Inverse Gaussian distributions don’t support negative values, it is necessary to apply an inverse link function that guarantees the non-negativeness. For example with link='log', the inverse link function becomes $h(Xw)=\\exp(Xw)$.\n",
    "\n",
    "If you want to model a relative frequency, i.e. counts per exposure (time, volume, …) you can do so by using a Poisson distribution and passing $y=\\frac{\\mathrm{counts}}{\\mathrm{exposure}}$ as target values together with  $\\mathrm{exposure}$ as sample weights. For a concrete example see e.g. Tweedie regression on insurance claims.\n",
    "\n",
    "When performing cross-validation for the power parameter of TweedieRegressor, it is advisable to specify an explicit scoring function, because the default scorer TweedieRegressor.score is a function of power itself."
   ]
  },
  {
   "cell_type": "markdown",
   "id": "cf5122d0",
   "metadata": {},
   "source": [
    "## 1.1.13. Stochastic Gradient Descent - SGD"
   ]
  },
  {
   "cell_type": "markdown",
   "id": "5f2eca0f",
   "metadata": {},
   "source": [
    "Stochastic gradient descent is a simple yet very efficient approach to fit linear models. It is particularly useful when the number of samples (and the number of features) is very large. The partial_fit method allows online/out-of-core learning.\n",
    "\n",
    "The classes SGDClassifier and SGDRegressor provide functionality to fit linear models for classification and regression using different (convex) loss functions and different penalties. E.g., with loss=\"log\", SGDClassifier fits a logistic regression model, while with loss=\"hinge\" it fits a linear support vector machine (SVM).\n",
    "\n",
    "References\n",
    "\n",
    "Stochastic Gradient Descent"
   ]
  },
  {
   "cell_type": "markdown",
   "id": "133c1aaf",
   "metadata": {},
   "source": [
    "## 1.1.14. Perceptron"
   ]
  },
  {
   "cell_type": "markdown",
   "id": "a016f7b5",
   "metadata": {},
   "source": [
    "The Perceptron is another simple classification algorithm suitable for large scale learning. By default:\n",
    "\n",
    "It does not require a learning rate.\n",
    "\n",
    "It is not regularized (penalized).\n",
    "\n",
    "It updates its model only on mistakes.\n",
    "\n",
    "The last characteristic implies that the Perceptron is slightly faster to train than SGD with the hinge loss and that the resulting models are sparser."
   ]
  },
  {
   "cell_type": "markdown",
   "id": "d44a0206",
   "metadata": {},
   "source": [
    "## 1.1.15. Passive Aggressive Algorithms"
   ]
  },
  {
   "cell_type": "markdown",
   "id": "753a77d3",
   "metadata": {},
   "source": [
    "The passive-aggressive algorithms are a family of algorithms for large-scale learning. They are similar to the Perceptron in that they do not require a learning rate. However, contrary to the Perceptron, they include a regularization parameter C.\n",
    "\n",
    "For classification, PassiveAggressiveClassifier can be used with loss='hinge' (PA-I) or loss='squared_hinge' (PA-II). For regression, PassiveAggressiveRegressor can be used with loss='epsilon_insensitive' (PA-I) or loss='squared_epsilon_insensitive' (PA-II).\n",
    "\n",
    "References:\n",
    "\n",
    "“Online Passive-Aggressive Algorithms” K. Crammer, O. Dekel, J. Keshat, S. Shalev-Shwartz, Y. Singer - JMLR 7 (2006)"
   ]
  },
  {
   "cell_type": "markdown",
   "id": "7be5d46b",
   "metadata": {},
   "source": [
    "## 1.1.16. Robustness regression: outliers and modeling errors"
   ]
  },
  {
   "cell_type": "markdown",
   "id": "dcde52c7",
   "metadata": {},
   "source": [
    "Robust regression aims to fit a regression model in the presence of corrupt data: either outliers, or error in the model."
   ]
  },
  {
   "cell_type": "code",
   "execution_count": 22,
   "id": "f2c78f3f",
   "metadata": {},
   "outputs": [
    {
     "data": {
      "image/png": "[encoded data removed]",
      "text/plain": [
       "<IPython.core.display.Image object>"
      ]
     },
     "execution_count": 22,
     "metadata": {},
     "output_type": "execute_result"
    }
   ],
   "source": [
    "Image(\"sphx_glr_plot_theilsen_001.png\")"
   ]
  },
  {
   "cell_type": "markdown",
   "id": "2be65255",
   "metadata": {},
   "source": [
    "## 1.1.16.1. Different scenario and useful concepts"
   ]
  },
  {
   "cell_type": "markdown",
   "id": "dce3055c",
   "metadata": {},
   "source": [
    "There are different things to keep in mind when dealing with data corrupted by outliers:"
   ]
  },
  {
   "cell_type": "markdown",
   "id": "528a4459",
   "metadata": {},
   "source": [
    "### plot_robust_fit.ipynb을 별도 실행"
   ]
  },
  {
   "cell_type": "markdown",
   "id": "4fc2ca49",
   "metadata": {},
   "source": [
    "An important notion of robust fitting is that of breakdown point: the fraction of data that can be outlying for the fit to start missing the inlying data.\n",
    "\n",
    "Note that in general, robust fitting in high-dimensional setting (large n_features) is very hard. The robust models here will probably not work in these settings.\n",
    "\n",
    "Trade-offs: which estimator?\n",
    "\n",
    "Scikit-learn provides 3 robust regression estimators: RANSAC, Theil Sen and HuberRegressor.\n",
    "\n",
    "HuberRegressor should be faster than RANSAC and Theil Sen unless the number of samples are very large, i.e n_samples >> n_features. This is because RANSAC and Theil Sen fit on smaller subsets of the data. However, both Theil Sen and RANSAC are unlikely to be as robust as HuberRegressor for the default parameters.\n",
    "\n",
    "RANSAC is faster than Theil Sen and scales much better with the number of samples.\n",
    "\n",
    "RANSAC will deal better with large outliers in the y direction (most common situation).\n",
    "\n",
    "Theil Sen will cope better with medium-size outliers in the X direction, but this property will disappear in high-dimensional settings.\n",
    "\n",
    "When in doubt, use RANSAC."
   ]
  },
  {
   "cell_type": "markdown",
   "id": "5b6bb6e8",
   "metadata": {},
   "source": [
    "## 1.1.16.2. RANSAC: RANdom SAmple Consensus"
   ]
  },
  {
   "cell_type": "markdown",
   "id": "97c87814",
   "metadata": {},
   "source": [
    "RANSAC (RANdom SAmple Consensus) fits a model from random subsets of inliers from the complete data set.\n",
    "\n",
    "RANSAC is a non-deterministic algorithm producing only a reasonable result with a certain probability, which is dependent on the number of iterations (see max_trials parameter). It is typically used for linear and non-linear regression problems and is especially popular in the field of photogrammetric computer vision.\n",
    "\n",
    "The algorithm splits the complete input sample data into a set of inliers, which may be subject to noise, and outliers, which are e.g. caused by erroneous measurements or invalid hypotheses about the data. The resulting model is then estimated only from the determined inliers."
   ]
  },
  {
   "cell_type": "markdown",
   "id": "fc4c8f63",
   "metadata": {},
   "source": [
    "### plot_ransac.ipynb에서 별도 실행"
   ]
  },
  {
   "cell_type": "markdown",
   "id": "b229f205",
   "metadata": {},
   "source": [
    "Details of the algorithm\n",
    "Each iteration performs the following steps:\n",
    "\n",
    "Select min_samples random samples from the original data and check whether the set of data is valid (see is_data_valid).\n",
    "\n",
    "Fit a model to the random subset (base_estimator.fit) and check whether the estimated model is valid (see is_model_valid).\n",
    "\n",
    "Classify all data as inliers or outliers by calculating the residuals to the estimated model (base_estimator.predict(X) - y) - all data samples with absolute residuals smaller than or equal to the residual_threshold are considered as inliers.\n",
    "\n",
    "Save fitted model as best model if number of inlier samples is maximal. In case the current estimated model has the same number of inliers, it is only considered as the best model if it has better score.\n",
    "\n",
    "These steps are performed either a maximum number of times (max_trials) or until one of the special stop criteria are met (see stop_n_inliers and stop_score). The final model is estimated using all inlier samples (consensus set) of the previously determined best model.\n",
    "\n",
    "The is_data_valid and is_model_valid functions allow to identify and reject degenerate combinations of random sub-samples. If the estimated model is not needed for identifying degenerate cases, is_data_valid should be used as it is called prior to fitting the model and thus leading to better computational performance.\n",
    "\n",
    "Examples:\n",
    "\n",
    "Robust linear model estimation using RANSAC\n",
    "\n",
    "Robust linear estimator fitting\n",
    "\n",
    "References:\n",
    "\n",
    "https://en.wikipedia.org/wiki/RANSAC\n",
    "\n",
    "“Random Sample Consensus: A Paradigm for Model Fitting with Applications to Image Analysis and Automated Cartography” Martin A. Fischler and Robert C. Bolles - SRI International (1981)\n",
    "\n",
    "“Performance Evaluation of RANSAC Family” Sunglok Choi, Taemin Kim and Wonpil Yu - BMVC (2009)"
   ]
  },
  {
   "cell_type": "markdown",
   "id": "568d68b7",
   "metadata": {},
   "source": [
    "## 1.1.16.3. Theil-Sen estimator: generalized-median-based estimator"
   ]
  },
  {
   "cell_type": "markdown",
   "id": "6cd6a478",
   "metadata": {},
   "source": [
    "The TheilSenRegressor estimator uses a generalization of the median in multiple dimensions. It is thus robust to multivariate outliers. Note however that the robustness of the estimator decreases quickly with the dimensionality of the problem. It loses its robustness properties and becomes no better than an ordinary least squares in high dimension.\n",
    "\n",
    "Examples:\n",
    "\n",
    "Theil-Sen Regression\n",
    "\n",
    "Robust linear estimator fitting\n",
    "\n",
    "References:\n",
    "\n",
    "https://en.wikipedia.org/wiki/Theil%E2%80%93Sen_estimator"
   ]
  },
  {
   "cell_type": "markdown",
   "id": "b39870b4",
   "metadata": {},
   "source": [
    "### Theoretical considerations"
   ]
  },
  {
   "cell_type": "markdown",
   "id": "894ac564",
   "metadata": {},
   "source": [
    "TheilSenRegressor is comparable to the Ordinary Least Squares (OLS) in terms of asymptotic efficiency and as an unbiased estimator. In contrast to OLS, Theil-Sen is a non-parametric method which means it makes no assumption about the underlying distribution of the data. Since Theil-Sen is a median-based estimator, it is more robust against corrupted data aka outliers. In univariate setting, Theil-Sen has a breakdown point of about 29.3% in case of a simple linear regression which means that it can tolerate arbitrary corrupted data of up to 29.3%."
   ]
  },
  {
   "cell_type": "markdown",
   "id": "51d4d9c6",
   "metadata": {},
   "source": [
    "### plot_theilsen.ipynb에서 별도실행"
   ]
  },
  {
   "cell_type": "markdown",
   "id": "f4c2a63e",
   "metadata": {},
   "source": [
    "The implementation of TheilSenRegressor in scikit-learn follows a generalization to a multivariate linear regression model [14] using the spatial median which is a generalization of the median to multiple dimensions [15].\n",
    "\n",
    "In terms of time and space complexity, Theil-Sen scales according to\n",
    "\n",
    "which makes it infeasible to be applied exhaustively to problems with a large number of samples and features. Therefore, the magnitude of a subpopulation can be chosen to limit the time and space complexity by considering only a random subset of all possible combinations.\n",
    "\n",
    "Examples:\n",
    "\n",
    "Theil-Sen Regression\n",
    "\n",
    "References:\n",
    "\n",
    "[14]\n",
    "Xin Dang, Hanxiang Peng, Xueqin Wang and Heping Zhang: Theil-Sen Estimators in a Multiple Linear Regression Model.\n",
    "\n",
    "[15]\n",
    "Kärkkäinen and S. Äyrämö: On Computation of Spatial Median for Robust Data Mining."
   ]
  },
  {
   "cell_type": "markdown",
   "id": "36fec9fe",
   "metadata": {},
   "source": [
    "## 1.1.16.4. Huber Regression"
   ]
  },
  {
   "cell_type": "markdown",
   "id": "8c40fcb8",
   "metadata": {},
   "source": [
    "The HuberRegressor is different to Ridge because it applies a linear loss to samples that are classified as outliers. A sample is classified as an inlier if the absolute error of that sample is lesser than a certain threshold. It differs from TheilSenRegressor and RANSACRegressor because it does not ignore the effect of the outliers but gives a lesser weight to them."
   ]
  },
  {
   "cell_type": "markdown",
   "id": "98c85906",
   "metadata": {},
   "source": [
    "### plot_huber_vs_ridge.ipynb에서 별도실행"
   ]
  },
  {
   "cell_type": "markdown",
   "id": "e55fda8b",
   "metadata": {},
   "source": [
    "The loss function that HuberRegressor minimizes is given by\n",
    "$$ \\min_{w, \\sigma} {\\sum_{i=1}^n\\left(\\sigma + H_{\\epsilon}\\left(\\frac{X_{i}w - y_{i}}{\\sigma}\\right)\\sigma\\right) + \\alpha {||w||_2}^2}$$\n",
    " \n",
    "where\n",
    "$$ \\begin{split}H_{\\epsilon}(z) = \\begin{cases}\n",
    "       z^2, & \\text {if } |z| < \\epsilon, \\\\\n",
    "       2\\epsilon|z| - \\epsilon^2, & \\text{otherwise}\n",
    "\\end{cases}\\end{split}$$ \n",
    " \n",
    "It is advised to set the parameter epsilon to 1.35 to achieve 95% statistical efficiency."
   ]
  },
  {
   "cell_type": "markdown",
   "id": "e6eee5c3",
   "metadata": {},
   "source": [
    "### 1.1.16.5. Notes"
   ]
  },
  {
   "cell_type": "markdown",
   "id": "b4ec89fa",
   "metadata": {},
   "source": [
    "The HuberRegressor differs from using SGDRegressor with loss set to huber in the following ways.\n",
    "\n",
    "HuberRegressor is scaling invariant. Once epsilon is set, scaling X and y down or up by different values would produce the same robustness to outliers as before. as compared to SGDRegressor where epsilon has to be set again when X and y are scaled.\n",
    "\n",
    "HuberRegressor should be more efficient to use on data with small number of samples while SGDRegressor needs a number of passes on the training data to produce the same robustness.\n",
    "\n",
    "Examples:\n",
    "\n",
    "HuberRegressor vs Ridge on dataset with strong outliers\n",
    "\n",
    "References:\n",
    "\n",
    "Peter J. Huber, Elvezio M. Ronchetti: Robust Statistics, Concomitant scale estimates, pg 172\n",
    "\n",
    "Note that this estimator is different from the R implementation of Robust Regression (https://stats.oarc.ucla.edu/r/dae/robust-regression/) because the R implementation does a weighted least squares implementation with weights given to each sample on the basis of how much the residual is greater than a certain threshold."
   ]
  },
  {
   "cell_type": "markdown",
   "id": "f5e3af2f",
   "metadata": {},
   "source": [
    "## 1.1.17. Quantile Regression"
   ]
  },
  {
   "cell_type": "markdown",
   "id": "799d37c8",
   "metadata": {},
   "source": [
    "Quantile regression estimates the median or other quantiles of $y$  conditional on $X$, while ordinary least squares (OLS) estimates the conditional mean.\n",
    "\n",
    "As a linear model, the QuantileRegressor gives linear predictions $\\hat{y}(w, X) = Xw$ for the $q$-th quantile, $q \\in (0, 1)$. The weights or coefficients $w$ are then found by the following minimization problem:\n",
    "$$ \\min_{w} {\\frac{1}{n_{\\text{samples}}}\n",
    "\\sum_i PB_q(y_i - X_i w) + \\alpha ||w||_1}.$$\n",
    " \n",
    "This consists of the pinball loss (also known as linear loss), see also mean_pinball_loss,\n",
    "$$ \\begin{split}PB_q(t) = q \\max(t, 0) + (1 - q) \\max(-t, 0) =\n",
    "\\begin{cases}\n",
    "    q t, & t > 0, \\\\\n",
    "    0,    & t = 0, \\\\\n",
    "    (q-1) t, & t < 0\n",
    "\\end{cases}\\end{split}$$\n",
    " \n",
    "and the L1 penalty controlled by parameter alpha, similar to Lasso.\n",
    "\n",
    "As the pinball loss is only linear in the residuals, quantile regression is much more robust to outliers than squared error based estimation of the mean. Somewhat in between is the HuberRegressor.\n",
    "\n",
    "Quantile regression may be useful if one is interested in predicting an interval instead of point prediction. Sometimes, prediction intervals are calculated based on the assumption that prediction error is distributed normally with zero mean and constant variance. Quantile regression provides sensible prediction intervals even for errors with non-constant (but predictable) variance or non-normal distribution."
   ]
  },
  {
   "cell_type": "markdown",
   "id": "7aacf890",
   "metadata": {},
   "source": [
    "### plot_quantile_regression.ipynb에서 별도실행"
   ]
  },
  {
   "cell_type": "markdown",
   "id": "ba44fa99",
   "metadata": {},
   "source": [
    "Based on minimizing the pinball loss, conditional quantiles can also be estimated by models other than linear models. For example, GradientBoostingRegressor can predict conditional quantiles if its parameter loss is set to \"quantile\" and parameter alpha is set to the quantile that should be predicted. See the example in Prediction Intervals for Gradient Boosting Regression.\n",
    "\n",
    "Most implementations of quantile regression are based on linear programming problem. The current implementation is based on scipy.optimize.linprog.\n",
    "\n",
    "Examples:\n",
    "\n",
    "Quantile regression\n",
    "\n",
    "References:\n",
    "\n",
    "Koenker, R., & Bassett Jr, G. (1978). Regression quantiles. Econometrica: journal of the Econometric Society, 33-50.\n",
    "\n",
    "Portnoy, S., & Koenker, R. (1997). The Gaussian hare and the Laplacian tortoise: computability of squared-error versus absolute-error estimators. Statistical Science, 12, 279-300.\n",
    "\n",
    "Koenker, R. (2005). Quantile Regression. Cambridge University Press."
   ]
  },
  {
   "cell_type": "markdown",
   "id": "b13561f6",
   "metadata": {},
   "source": [
    "## 1.1.18. Polynomial regression: extending linear models with basis functions"
   ]
  },
  {
   "cell_type": "markdown",
   "id": "639e407c",
   "metadata": {},
   "source": [
    "One common pattern within machine learning is to use linear models trained on nonlinear functions of the data. This approach maintains the generally fast performance of linear methods, while allowing them to fit a much wider range of data.\n",
    "\n",
    "For example, a simple linear regression can be extended by constructing polynomial features from the coefficients. In the standard linear regression case, you might have a model that looks like this for two-dimensional data:\n",
    "$$ \\hat{y}(w, x) = w_0 + w_1 x_1 + w_2 x_2$$\n",
    "\n",
    "If we want to fit a paraboloid to the data instead of a plane, we can combine the features in second-order polynomials, so that the model looks like this:\n",
    "$$ \\hat{y}(w, x) = w_0 + w_1 x_1 + w_2 x_2 + w_3 x_1 x_2 + w_4 x_1^2 + w_5 x_2^2$$\n",
    "\n",
    "The (sometimes surprising) observation is that this is still a linear model: to see this, imagine creating a new set of features\n",
    "$$z = [x_1, x_2, x_1 x_2, x_1^2, x_2^2]$$\n",
    "\n",
    "With this re-labeling of the data, our problem can be written\n",
    "$$ \\hat{y}(w, z) = w_0 + w_1 z_1 + w_2 z_2 + w_3 z_3 + w_4 z_4 + w_5 z_5$$\n",
    "\n",
    "We see that the resulting polynomial regression is in the same class of linear models we considered above (i.e. the model is linear in \n",
    ") and can be solved by the same techniques. By considering linear fits within a higher-dimensional space built with these basis functions, the model has the flexibility to fit a much broader range of data.\n",
    "\n",
    "Here is an example of applying this idea to one-dimensional data, using polynomial features of varying degrees:"
   ]
  },
  {
   "cell_type": "markdown",
   "id": "e4e4ccd5",
   "metadata": {},
   "source": [
    "### plot_polynomial_interpolation.ipynb에서 별도실행"
   ]
  },
  {
   "cell_type": "markdown",
   "id": "7989c664",
   "metadata": {},
   "source": [
    "This figure is created using the PolynomialFeatures transformer, which transforms an input data matrix into a new data matrix of a given degree. It can be used as follows:"
   ]
  },
  {
   "cell_type": "code",
   "execution_count": 23,
   "id": "ab8505f5",
   "metadata": {},
   "outputs": [
    {
     "data": {
      "text/plain": [
       "array([[0, 1],\n",
       "       [2, 3],\n",
       "       [4, 5]])"
      ]
     },
     "execution_count": 23,
     "metadata": {},
     "output_type": "execute_result"
    }
   ],
   "source": [
    "from sklearn.preprocessing import PolynomialFeatures\n",
    "import numpy as np\n",
    "X = np.arange(6).reshape(3, 2)\n",
    "X"
   ]
  },
  {
   "cell_type": "code",
   "execution_count": 24,
   "id": "c0dd6088",
   "metadata": {},
   "outputs": [
    {
     "data": {
      "text/plain": [
       "array([[ 1.,  0.,  1.,  0.,  0.,  1.],\n",
       "       [ 1.,  2.,  3.,  4.,  6.,  9.],\n",
       "       [ 1.,  4.,  5., 16., 20., 25.]])"
      ]
     },
     "execution_count": 24,
     "metadata": {},
     "output_type": "execute_result"
    }
   ],
   "source": [
    "poly = PolynomialFeatures(degree=2)\n",
    "poly.fit_transform(X)"
   ]
  },
  {
   "cell_type": "markdown",
   "id": "e18283ff",
   "metadata": {},
   "source": [
    "The features of X have been transformed from $[x_1, x_2]$ to $ [1, x_1, x_2, x_1^2, x_1 x_2, x_2^2]$, and can now be used within any linear model.\n",
    "\n",
    "This sort of preprocessing can be streamlined with the Pipeline tools. A single object representing a simple polynomial regression can be created and used as follows:"
   ]
  },
  {
   "cell_type": "code",
   "execution_count": 25,
   "id": "2387fd03",
   "metadata": {},
   "outputs": [
    {
     "data": {
      "text/plain": [
       "array([ 3., -2.,  1., -1.])"
      ]
     },
     "execution_count": 25,
     "metadata": {},
     "output_type": "execute_result"
    }
   ],
   "source": [
    "from sklearn.preprocessing import PolynomialFeatures\n",
    "from sklearn.linear_model import LinearRegression\n",
    "from sklearn.pipeline import Pipeline\n",
    "import numpy as np\n",
    "model = Pipeline([('poly', PolynomialFeatures(degree=3)),\n",
    "                  ('linear', LinearRegression(fit_intercept=False))])\n",
    "# fit to an order-3 polynomial data\n",
    "x = np.arange(5)\n",
    "y = 3 - 2 * x + x ** 2 - x ** 3\n",
    "model = model.fit(x[:, np.newaxis], y)\n",
    "model.named_steps['linear'].coef_"
   ]
  },
  {
   "cell_type": "markdown",
   "id": "e402456a",
   "metadata": {},
   "source": [
    "The linear model trained on polynomial features is able to exactly recover the input polynomial coefficients.\n",
    "\n",
    "In some cases it’s not necessary to include higher powers of any single feature, but only the so-called interaction features that multiply together at most \n",
    " distinct features. These can be gotten from PolynomialFeatures with the setting interaction_only=True.\n",
    "\n",
    "For example, when dealing with boolean features, $x_i^n = x_i$ for all $n$ and is therefore useless; but $x_i x_j$ represents the conjunction of two booleans. This way, we can solve the XOR problem with a linear classifier:"
   ]
  },
  {
   "cell_type": "code",
   "execution_count": 26,
   "id": "a1d3ffc7",
   "metadata": {},
   "outputs": [
    {
     "data": {
      "text/plain": [
       "array([0, 1, 1, 0], dtype=int32)"
      ]
     },
     "execution_count": 26,
     "metadata": {},
     "output_type": "execute_result"
    }
   ],
   "source": [
    "from sklearn.linear_model import Perceptron\n",
    "from sklearn.preprocessing import PolynomialFeatures\n",
    "import numpy as np\n",
    "X = np.array([[0, 0], [0, 1], [1, 0], [1, 1]])\n",
    "y = X[:, 0] ^ X[:, 1]\n",
    "y"
   ]
  },
  {
   "cell_type": "code",
   "execution_count": 27,
   "id": "7209ff07",
   "metadata": {},
   "outputs": [
    {
     "data": {
      "text/plain": [
       "array([[1, 0, 0, 0],\n",
       "       [1, 0, 1, 0],\n",
       "       [1, 1, 0, 0],\n",
       "       [1, 1, 1, 1]])"
      ]
     },
     "execution_count": 27,
     "metadata": {},
     "output_type": "execute_result"
    }
   ],
   "source": [
    "X = PolynomialFeatures(interaction_only=True).fit_transform(X).astype(int)\n",
    "X"
   ]
  },
  {
   "cell_type": "code",
   "execution_count": 28,
   "id": "27c58d54",
   "metadata": {},
   "outputs": [],
   "source": [
    "clf = Perceptron(fit_intercept=False, max_iter=10, tol=None,\n",
    "                 shuffle=False).fit(X, y)"
   ]
  },
  {
   "cell_type": "code",
   "execution_count": 29,
   "id": "07003c92",
   "metadata": {},
   "outputs": [
    {
     "data": {
      "text/plain": [
       "array([0, 1, 1, 0], dtype=int32)"
      ]
     },
     "execution_count": 29,
     "metadata": {},
     "output_type": "execute_result"
    }
   ],
   "source": [
    "clf.predict(X)"
   ]
  },
  {
   "cell_type": "code",
   "execution_count": 30,
   "id": "f37998c2",
   "metadata": {},
   "outputs": [
    {
     "data": {
      "text/plain": [
       "1.0"
      ]
     },
     "execution_count": 30,
     "metadata": {},
     "output_type": "execute_result"
    }
   ],
   "source": [
    "clf.score(X, y)"
   ]
  }
 ],
 "metadata": {
  "kernelspec": {
   "display_name": "Python 3 (ipykernel)",
   "language": "python",
   "name": "python3"
  },
  "language_info": {
   "codemirror_mode": {
    "name": "ipython",
    "version": 3
   },
   "file_extension": ".py",
   "mimetype": "text/x-python",
   "name": "python",
   "nbconvert_exporter": "python",
   "pygments_lexer": "ipython3",
   "version": "3.9.13"
  }
 },
 "nbformat": 4,
 "nbformat_minor": 5
}
