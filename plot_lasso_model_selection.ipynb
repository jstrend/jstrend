{
 "cells": [
  {
   "cell_type": "code",
   "execution_count": null,
   "metadata": {},
   "outputs": [],
   "source": [
    "%matplotlib inline"
   ]
  },
  {
   "cell_type": "markdown",
   "metadata": {},
   "source": [
    "\n",
    "# Lasso model selection: AIC-BIC / cross-validation\n",
    "\n",
    "This example focuses on model selection for Lasso models that are\n",
    "linear models with an L1 penalty for regression problems.\n",
    "\n",
    "Indeed, several strategies can be used to select the value of the\n",
    "regularization parameter: via cross-validation or using an information\n",
    "criterion, namely AIC or BIC.\n",
    "\n",
    "In what follows, we will discuss in details the different strategies.\n"
   ]
  },
  {
   "cell_type": "code",
   "execution_count": null,
   "metadata": {},
   "outputs": [],
   "source": [
    "# Author: Olivier Grisel\n",
    "#         Gael Varoquaux\n",
    "#         Alexandre Gramfort\n",
    "#         Guillaume Lemaitre\n",
    "# License: BSD 3 clause"
   ]
  },
  {
   "cell_type": "markdown",
   "metadata": {},
   "source": [
    "## Dataset\n",
    "In this example, we will use the diabetes dataset.\n",
    "\n"
   ]
  },
  {
   "cell_type": "code",
   "execution_count": null,
   "metadata": {},
   "outputs": [],
   "source": [
    "from sklearn.datasets import load_diabetes\n",
    "\n",
    "X, y = load_diabetes(return_X_y=True, as_frame=True)\n",
    "X.head()"
   ]
  },
  {
   "cell_type": "markdown",
   "metadata": {},
   "source": [
    "In addition, we add some random features to the original data to\n",
    "better illustrate the feature selection performed by the Lasso model.\n",
    "\n"
   ]
  },
  {
   "cell_type": "code",
   "execution_count": null,
   "metadata": {},
   "outputs": [],
   "source": [
    "import numpy as np\n",
    "import pandas as pd\n",
    "\n",
    "rng = np.random.RandomState(42)\n",
    "n_random_features = 14\n",
    "X_random = pd.DataFrame(\n",
    "    rng.randn(X.shape[0], n_random_features),\n",
    "    columns=[f\"random_{i:02d}\" for i in range(n_random_features)],\n",
    ")\n",
    "X = pd.concat([X, X_random], axis=1)\n",
    "# Show only a subset of the columns\n",
    "X[X.columns[::3]].head()"
   ]
  },
  {
   "cell_type": "markdown",
   "metadata": {},
   "source": [
    "## Selecting Lasso via an information criterion\n",
    ":class:`~sklearn.linear_model.LassoLarsIC` provides a Lasso estimator that\n",
    "uses the Akaike information criterion (AIC) or the Bayes information\n",
    "criterion (BIC) to select the optimal value of the regularization\n",
    "parameter alpha.\n",
    "\n",
    "Before fitting the model, we will standardize the data with a\n",
    ":class:`~sklearn.preprocessing.StandardScaler`. In addition, we will\n",
    "measure the time to fit and tune the hyperparameter alpha in order to\n",
    "compare with the cross-validation strategy.\n",
    "\n",
    "We will first fit a Lasso model with the AIC criterion.\n",
    "\n"
   ]
  },
  {
   "cell_type": "code",
   "execution_count": null,
   "metadata": {},
   "outputs": [],
   "source": [
    "import time\n",
    "from sklearn.preprocessing import StandardScaler\n",
    "from sklearn.linear_model import LassoLarsIC\n",
    "from sklearn.pipeline import make_pipeline\n",
    "\n",
    "start_time = time.time()\n",
    "lasso_lars_ic = make_pipeline(StandardScaler(), LassoLarsIC(criterion=\"aic\")).fit(X, y)\n",
    "fit_time = time.time() - start_time"
   ]
  },
  {
   "cell_type": "markdown",
   "metadata": {},
   "source": [
    "We store the AIC metric for each value of alpha used during `fit`.\n",
    "\n"
   ]
  },
  {
   "cell_type": "code",
   "execution_count": null,
   "metadata": {},
   "outputs": [],
   "source": [
    "results = pd.DataFrame(\n",
    "    {\n",
    "        \"alphas\": lasso_lars_ic[-1].alphas_,\n",
    "        \"AIC criterion\": lasso_lars_ic[-1].criterion_,\n",
    "    }\n",
    ").set_index(\"alphas\")\n",
    "alpha_aic = lasso_lars_ic[-1].alpha_"
   ]
  },
  {
   "cell_type": "markdown",
   "metadata": {},
   "source": [
    "Now, we perform the same analysis using the BIC criterion.\n",
    "\n"
   ]
  },
  {
   "cell_type": "code",
   "execution_count": null,
   "metadata": {},
   "outputs": [],
   "source": [
    "lasso_lars_ic.set_params(lassolarsic__criterion=\"bic\").fit(X, y)\n",
    "results[\"BIC criterion\"] = lasso_lars_ic[-1].criterion_\n",
    "alpha_bic = lasso_lars_ic[-1].alpha_"
   ]
  },
  {
   "cell_type": "markdown",
   "metadata": {},
   "source": [
    "We can check which value of `alpha` leads to the minimum AIC and BIC.\n",
    "\n"
   ]
  },
  {
   "cell_type": "code",
   "execution_count": null,
   "metadata": {},
   "outputs": [],
   "source": [
    "def highlight_min(x):\n",
    "    x_min = x.min()\n",
    "    return [\"font-weight: bold\" if v == x_min else \"\" for v in x]\n",
    "\n",
    "\n",
    "results.style.apply(highlight_min)"
   ]
  },
  {
   "cell_type": "markdown",
   "metadata": {},
   "source": [
    "Finally, we can plot the AIC and BIC values for the different alpha values.\n",
    "The vertical lines in the plot correspond to the alpha chosen for each\n",
    "criterion. The selected alpha corresponds to the minimum of the AIC or BIC\n",
    "criterion.\n",
    "\n"
   ]
  },
  {
   "cell_type": "code",
   "execution_count": null,
   "metadata": {},
   "outputs": [],
   "source": [
    "ax = results.plot()\n",
    "ax.vlines(\n",
    "    alpha_aic,\n",
    "    results[\"AIC criterion\"].min(),\n",
    "    results[\"AIC criterion\"].max(),\n",
    "    label=\"alpha: AIC estimate\",\n",
    "    linestyles=\"--\",\n",
    "    color=\"tab:blue\",\n",
    ")\n",
    "ax.vlines(\n",
    "    alpha_bic,\n",
    "    results[\"BIC criterion\"].min(),\n",
    "    results[\"BIC criterion\"].max(),\n",
    "    label=\"alpha: BIC estimate\",\n",
    "    linestyle=\"--\",\n",
    "    color=\"tab:orange\",\n",
    ")\n",
    "ax.set_xlabel(r\"$\\alpha$\")\n",
    "ax.set_ylabel(\"criterion\")\n",
    "ax.set_xscale(\"log\")\n",
    "ax.legend()\n",
    "_ = ax.set_title(\n",
    "    f\"Information-criterion for model selection (training time {fit_time:.2f}s)\"\n",
    ")"
   ]
  },
  {
   "cell_type": "markdown",
   "metadata": {},
   "source": [
    "Model selection with an information-criterion is very fast. It relies on\n",
    "computing the criterion on the in-sample set provided to `fit`. Both criteria\n",
    "estimate the model generalization error based on the training set error and\n",
    "penalize this overly optimistic error. However, this penalty relies on a\n",
    "proper estimation of the degrees of freedom and the noise variance. Both are\n",
    "derived for large samples (asymptotic results) and assume the model is\n",
    "correct, i.e. that the data are actually generated by this model.\n",
    "\n",
    "These models also tend to break when the problem is badly conditioned (more\n",
    "features than samples). It is then required to provide an estimate of the\n",
    "noise variance.\n",
    "\n",
    "## Selecting Lasso via cross-validation\n",
    "The Lasso estimator can be implemented with different solvers: coordinate\n",
    "descent and least angle regression. They differ with regards to their\n",
    "execution speed and sources of numerical errors.\n",
    "\n",
    "In scikit-learn, two different estimators are available with integrated\n",
    "cross-validation: :class:`~sklearn.linear_model.LassoCV` and\n",
    ":class:`~sklearn.linear_model.LassoLarsCV` that respectively solve the\n",
    "problem with coordinate descent and least angle regression.\n",
    "\n",
    "In the remainder of this section, we will present both approaches. For both\n",
    "algorithms, we will use a 20-fold cross-validation strategy.\n",
    "\n",
    "### Lasso via coordinate descent\n",
    "Let's start by making the hyperparameter tuning using\n",
    ":class:`~sklearn.linear_model.LassoCV`.\n",
    "\n"
   ]
  },
  {
   "cell_type": "code",
   "execution_count": null,
   "metadata": {},
   "outputs": [],
   "source": [
    "from sklearn.linear_model import LassoCV\n",
    "\n",
    "start_time = time.time()\n",
    "model = make_pipeline(StandardScaler(), LassoCV(cv=20)).fit(X, y)\n",
    "fit_time = time.time() - start_time"
   ]
  },
  {
   "cell_type": "code",
   "execution_count": null,
   "metadata": {},
   "outputs": [],
   "source": [
    "import matplotlib.pyplot as plt\n",
    "\n",
    "ymin, ymax = 2300, 3800\n",
    "lasso = model[-1]\n",
    "plt.semilogx(lasso.alphas_, lasso.mse_path_, linestyle=\":\")\n",
    "plt.plot(\n",
    "    lasso.alphas_,\n",
    "    lasso.mse_path_.mean(axis=-1),\n",
    "    color=\"black\",\n",
    "    label=\"Average across the folds\",\n",
    "    linewidth=2,\n",
    ")\n",
    "plt.axvline(lasso.alpha_, linestyle=\"--\", color=\"black\", label=\"alpha: CV estimate\")\n",
    "\n",
    "plt.ylim(ymin, ymax)\n",
    "plt.xlabel(r\"$\\alpha$\")\n",
    "plt.ylabel(\"Mean square error\")\n",
    "plt.legend()\n",
    "_ = plt.title(\n",
    "    f\"Mean square error on each fold: coordinate descent (train time: {fit_time:.2f}s)\"\n",
    ")"
   ]
  },
  {
   "cell_type": "markdown",
   "metadata": {},
   "source": [
    "### Lasso via least angle regression\n",
    "Let's start by making the hyperparameter tuning using\n",
    ":class:`~sklearn.linear_model.LassoLarsCV`.\n",
    "\n"
   ]
  },
  {
   "cell_type": "code",
   "execution_count": null,
   "metadata": {},
   "outputs": [],
   "source": [
    "from sklearn.linear_model import LassoLarsCV\n",
    "\n",
    "start_time = time.time()\n",
    "model = make_pipeline(StandardScaler(), LassoLarsCV(cv=20)).fit(X, y)\n",
    "fit_time = time.time() - start_time"
   ]
  },
  {
   "cell_type": "code",
   "execution_count": null,
   "metadata": {},
   "outputs": [],
   "source": [
    "lasso = model[-1]\n",
    "plt.semilogx(lasso.cv_alphas_, lasso.mse_path_, \":\")\n",
    "plt.semilogx(\n",
    "    lasso.cv_alphas_,\n",
    "    lasso.mse_path_.mean(axis=-1),\n",
    "    color=\"black\",\n",
    "    label=\"Average across the folds\",\n",
    "    linewidth=2,\n",
    ")\n",
    "plt.axvline(lasso.alpha_, linestyle=\"--\", color=\"black\", label=\"alpha CV\")\n",
    "\n",
    "plt.ylim(ymin, ymax)\n",
    "plt.xlabel(r\"$\\alpha$\")\n",
    "plt.ylabel(\"Mean square error\")\n",
    "plt.legend()\n",
    "_ = plt.title(f\"Mean square error on each fold: Lars (train time: {fit_time:.2f}s)\")"
   ]
  },
  {
   "cell_type": "markdown",
   "metadata": {},
   "source": [
    "### Summary of cross-validation approach\n",
    "Both algorithms give roughly the same results.\n",
    "\n",
    "Lars computes a solution path only for each kink in the path. As a result, it\n",
    "is very efficient when there are only of few kinks, which is the case if\n",
    "there are few features or samples. Also, it is able to compute the full path\n",
    "without setting any hyperparameter. On the opposite, coordinate descent\n",
    "computes the path points on a pre-specified grid (here we use the default).\n",
    "Thus it is more efficient if the number of grid points is smaller than the\n",
    "number of kinks in the path. Such a strategy can be interesting if the number\n",
    "of features is really large and there are enough samples to be selected in\n",
    "each of the cross-validation fold. In terms of numerical errors, for heavily\n",
    "correlated variables, Lars will accumulate more errors, while the coordinate\n",
    "descent algorithm will only sample the path on a grid.\n",
    "\n",
    "Note how the optimal value of alpha varies for each fold. This illustrates\n",
    "why nested-cross validation is a good strategy when trying to evaluate the\n",
    "performance of a method for which a parameter is chosen by cross-validation:\n",
    "this choice of parameter may not be optimal for a final evaluation on\n",
    "unseen test set only.\n",
    "\n",
    "## Conclusion\n",
    "In this tutorial, we presented two approaches for selecting the best\n",
    "hyperparameter `alpha`: one strategy finds the optimal value of `alpha`\n",
    "by only using the training set and some information criterion, and another\n",
    "strategy is based on cross-validation.\n",
    "\n",
    "In this example, both approaches are working similarly. The in-sample\n",
    "hyperparameter selection even shows its efficacy in terms of computational\n",
    "performance. However, it can only be used when the number of samples is large\n",
    "enough compared to the number of features.\n",
    "\n",
    "That's why hyperparameter optimization via cross-validation is a safe\n",
    "strategy: it works in different settings.\n",
    "\n"
   ]
  }
 ],
 "metadata": {
  "kernelspec": {
   "display_name": "Python 3 (ipykernel)",
   "language": "python",
   "name": "python3"
  },
  "language_info": {
   "codemirror_mode": {
    "name": "ipython",
    "version": 3
   },
   "file_extension": ".py",
   "mimetype": "text/x-python",
   "name": "python",
   "nbconvert_exporter": "python",
   "pygments_lexer": "ipython3",
   "version": "3.9.13"
  }
 },
 "nbformat": 4,
 "nbformat_minor": 1
}
